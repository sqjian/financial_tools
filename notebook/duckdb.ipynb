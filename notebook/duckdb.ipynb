{
 "cells": [
  {
   "cell_type": "code",
   "execution_count": 1,
   "metadata": {},
   "outputs": [],
   "source": [
    "from source.load_excel_to_table import load_excel_to_table\n",
    "\n",
    "part_a_conn = load_excel_to_table(\"/Users/sqjian/Documents/codespace/financial_tools/testdata/test.xlsx\", \"甲方\", \"part_a\")\n",
    "part_b_conn = load_excel_to_table(\"/Users/sqjian/Documents/codespace/financial_tools/testdata/test.xlsx\", \"乙方\", \"part_b\")"
   ]
  },
  {
   "cell_type": "code",
   "execution_count": 2,
   "metadata": {},
   "outputs": [],
   "source": [
    "from source.get_group_conditions import get_group_conditions\n",
    "\n",
    "\n",
    "part_a_group_col_rst = get_group_conditions(part_a_conn, \"part_a\", \"统一仓库\", \"统一名称\", \"统一日期\")\n",
    "part_b_group_col_rst = get_group_conditions(part_b_conn, \"part_b\", \"统一仓库\", \"统一名称\", \"统一日期\")"
   ]
  },
  {
   "cell_type": "code",
   "execution_count": null,
   "metadata": {},
   "outputs": [
    {
     "data": {
      "text/html": [
       "<pre style=\"white-space:pre;overflow-x:auto;line-height:normal;font-family:Menlo,'DejaVu Sans Mono',consolas,'Courier New',monospace\"><span style=\"font-weight: bold\">{</span>\n",
       "    <span style=\"color: #008000; text-decoration-color: #008000\">'exact_matches'</span>: <span style=\"font-weight: bold\">{</span><span style=\"color: #008080; text-decoration-color: #008080; font-weight: bold\">1.0</span>: <span style=\"color: #008080; text-decoration-color: #008080; font-weight: bold\">1</span>, <span style=\"color: #008080; text-decoration-color: #008080; font-weight: bold\">20.0</span>: <span style=\"color: #008080; text-decoration-color: #008080; font-weight: bold\">2</span>, <span style=\"color: #008080; text-decoration-color: #008080; font-weight: bold\">23.0</span>: <span style=\"color: #008080; text-decoration-color: #008080; font-weight: bold\">1</span>, <span style=\"color: #008080; text-decoration-color: #008080; font-weight: bold\">25.0</span>: <span style=\"color: #008080; text-decoration-color: #008080; font-weight: bold\">1</span>, <span style=\"color: #008080; text-decoration-color: #008080; font-weight: bold\">28.0</span>: <span style=\"color: #008080; text-decoration-color: #008080; font-weight: bold\">1</span><span style=\"font-weight: bold\">}</span>,\n",
       "    <span style=\"color: #008000; text-decoration-color: #008000\">'combo_matches_a_to_b'</span>: <span style=\"font-weight: bold\">[</span>\n",
       "        <span style=\"font-weight: bold\">{</span><span style=\"color: #008000; text-decoration-color: #008000\">'b'</span>: <span style=\"color: #008080; text-decoration-color: #008080; font-weight: bold\">100.0</span>, <span style=\"color: #008000; text-decoration-color: #008000\">'a'</span>: <span style=\"font-weight: bold\">[</span><span style=\"color: #008080; text-decoration-color: #008080; font-weight: bold\">28.0</span>, <span style=\"color: #008080; text-decoration-color: #008080; font-weight: bold\">28.0</span>, <span style=\"color: #008080; text-decoration-color: #008080; font-weight: bold\">28.0</span>, <span style=\"color: #008080; text-decoration-color: #008080; font-weight: bold\">16.0</span><span style=\"font-weight: bold\">]}</span>,\n",
       "        <span style=\"font-weight: bold\">{</span><span style=\"color: #008000; text-decoration-color: #008000\">'b'</span>: <span style=\"color: #008080; text-decoration-color: #008080; font-weight: bold\">80.0</span>, <span style=\"color: #008000; text-decoration-color: #008000\">'a'</span>: <span style=\"font-weight: bold\">[</span><span style=\"color: #008080; text-decoration-color: #008080; font-weight: bold\">28.0</span>, <span style=\"color: #008080; text-decoration-color: #008080; font-weight: bold\">28.0</span>, <span style=\"color: #008080; text-decoration-color: #008080; font-weight: bold\">24.0</span><span style=\"font-weight: bold\">]}</span>,\n",
       "        <span style=\"font-weight: bold\">{</span><span style=\"color: #008000; text-decoration-color: #008000\">'b'</span>: <span style=\"color: #008080; text-decoration-color: #008080; font-weight: bold\">76.0</span>, <span style=\"color: #008000; text-decoration-color: #008000\">'a'</span>: <span style=\"font-weight: bold\">[</span><span style=\"color: #008080; text-decoration-color: #008080; font-weight: bold\">28.0</span>, <span style=\"color: #008080; text-decoration-color: #008080; font-weight: bold\">28.0</span>, <span style=\"color: #008080; text-decoration-color: #008080; font-weight: bold\">16.0</span>, <span style=\"color: #008080; text-decoration-color: #008080; font-weight: bold\">4.0</span><span style=\"font-weight: bold\">]}</span>,\n",
       "        <span style=\"font-weight: bold\">{</span><span style=\"color: #008000; text-decoration-color: #008000\">'b'</span>: <span style=\"color: #008080; text-decoration-color: #008080; font-weight: bold\">52.0</span>, <span style=\"color: #008000; text-decoration-color: #008000\">'a'</span>: <span style=\"font-weight: bold\">[</span><span style=\"color: #008080; text-decoration-color: #008080; font-weight: bold\">28.0</span>, <span style=\"color: #008080; text-decoration-color: #008080; font-weight: bold\">24.0</span><span style=\"font-weight: bold\">]}</span>,\n",
       "        <span style=\"font-weight: bold\">{</span><span style=\"color: #008000; text-decoration-color: #008000\">'b'</span>: <span style=\"color: #008080; text-decoration-color: #008080; font-weight: bold\">50.0</span>, <span style=\"color: #008000; text-decoration-color: #008000\">'a'</span>: <span style=\"font-weight: bold\">[</span><span style=\"color: #008080; text-decoration-color: #008080; font-weight: bold\">26.0</span>, <span style=\"color: #008080; text-decoration-color: #008080; font-weight: bold\">16.0</span>, <span style=\"color: #008080; text-decoration-color: #008080; font-weight: bold\">8.0</span><span style=\"font-weight: bold\">]}</span>,\n",
       "        <span style=\"font-weight: bold\">{</span><span style=\"color: #008000; text-decoration-color: #008000\">'b'</span>: <span style=\"color: #008080; text-decoration-color: #008080; font-weight: bold\">35.0</span>, <span style=\"color: #008000; text-decoration-color: #008000\">'a'</span>: <span style=\"font-weight: bold\">[</span><span style=\"color: #008080; text-decoration-color: #008080; font-weight: bold\">28.0</span>, <span style=\"color: #008080; text-decoration-color: #008080; font-weight: bold\">5.0</span>, <span style=\"color: #008080; text-decoration-color: #008080; font-weight: bold\">2.0</span><span style=\"font-weight: bold\">]}</span>,\n",
       "        <span style=\"font-weight: bold\">{</span><span style=\"color: #008000; text-decoration-color: #008000\">'b'</span>: <span style=\"color: #008080; text-decoration-color: #008080; font-weight: bold\">30.0</span>, <span style=\"color: #008000; text-decoration-color: #008000\">'a'</span>: <span style=\"font-weight: bold\">[</span><span style=\"color: #008080; text-decoration-color: #008080; font-weight: bold\">15.0</span>, <span style=\"color: #008080; text-decoration-color: #008080; font-weight: bold\">15.0</span><span style=\"font-weight: bold\">]}</span>\n",
       "    <span style=\"font-weight: bold\">]</span>,\n",
       "    <span style=\"color: #008000; text-decoration-color: #008000\">'combo_matches_b_to_a'</span>: <span style=\"font-weight: bold\">[]</span>,\n",
       "    <span style=\"color: #008000; text-decoration-color: #008000\">'unmatched_a'</span>: <span style=\"font-weight: bold\">[</span><span style=\"color: #008080; text-decoration-color: #008080; font-weight: bold\">28.0</span>, <span style=\"color: #008080; text-decoration-color: #008080; font-weight: bold\">28.0</span>, <span style=\"color: #008080; text-decoration-color: #008080; font-weight: bold\">28.0</span>, <span style=\"color: #008080; text-decoration-color: #008080; font-weight: bold\">28.0</span>, <span style=\"color: #008080; text-decoration-color: #008080; font-weight: bold\">28.0</span>, <span style=\"color: #008080; text-decoration-color: #008080; font-weight: bold\">28.0</span>, <span style=\"color: #008080; text-decoration-color: #008080; font-weight: bold\">28.0</span>, <span style=\"color: #008080; text-decoration-color: #008080; font-weight: bold\">28.0</span>, <span style=\"color: #008080; text-decoration-color: #008080; font-weight: bold\">16.0</span>, <span style=\"color: #008080; text-decoration-color: #008080; font-weight: bold\">12.0</span>, <span style=\"color: #008080; text-decoration-color: #008080; font-weight: bold\">12.0</span>, <span style=\"color: #008080; text-decoration-color: #008080; font-weight: bold\">12.0</span>, <span style=\"color: #008080; text-decoration-color: #008080; font-weight: bold\">12.0</span>, <span style=\"color: #008080; text-decoration-color: #008080; font-weight: bold\">8.0</span>, <span style=\"color: #008080; text-decoration-color: #008080; font-weight: bold\">4.0</span>, <span style=\"color: #008080; text-decoration-color: #008080; font-weight: bold\">1.0</span><span style=\"font-weight: bold\">]</span>,\n",
       "    <span style=\"color: #008000; text-decoration-color: #008000\">'unmatched_b'</span>: <span style=\"font-weight: bold\">[</span><span style=\"color: #008080; text-decoration-color: #008080; font-weight: bold\">100.0</span>, <span style=\"color: #008080; text-decoration-color: #008080; font-weight: bold\">100.0</span>, <span style=\"color: #008080; text-decoration-color: #008080; font-weight: bold\">100.0</span><span style=\"font-weight: bold\">]</span>\n",
       "<span style=\"font-weight: bold\">}</span>\n",
       "</pre>\n"
      ],
      "text/plain": [
       "\u001b[1m{\u001b[0m\n",
       "    \u001b[32m'exact_matches'\u001b[0m: \u001b[1m{\u001b[0m\u001b[1;36m1.0\u001b[0m: \u001b[1;36m1\u001b[0m, \u001b[1;36m20.0\u001b[0m: \u001b[1;36m2\u001b[0m, \u001b[1;36m23.0\u001b[0m: \u001b[1;36m1\u001b[0m, \u001b[1;36m25.0\u001b[0m: \u001b[1;36m1\u001b[0m, \u001b[1;36m28.0\u001b[0m: \u001b[1;36m1\u001b[0m\u001b[1m}\u001b[0m,\n",
       "    \u001b[32m'combo_matches_a_to_b'\u001b[0m: \u001b[1m[\u001b[0m\n",
       "        \u001b[1m{\u001b[0m\u001b[32m'b'\u001b[0m: \u001b[1;36m100.0\u001b[0m, \u001b[32m'a'\u001b[0m: \u001b[1m[\u001b[0m\u001b[1;36m28.0\u001b[0m, \u001b[1;36m28.0\u001b[0m, \u001b[1;36m28.0\u001b[0m, \u001b[1;36m16.0\u001b[0m\u001b[1m]\u001b[0m\u001b[1m}\u001b[0m,\n",
       "        \u001b[1m{\u001b[0m\u001b[32m'b'\u001b[0m: \u001b[1;36m80.0\u001b[0m, \u001b[32m'a'\u001b[0m: \u001b[1m[\u001b[0m\u001b[1;36m28.0\u001b[0m, \u001b[1;36m28.0\u001b[0m, \u001b[1;36m24.0\u001b[0m\u001b[1m]\u001b[0m\u001b[1m}\u001b[0m,\n",
       "        \u001b[1m{\u001b[0m\u001b[32m'b'\u001b[0m: \u001b[1;36m76.0\u001b[0m, \u001b[32m'a'\u001b[0m: \u001b[1m[\u001b[0m\u001b[1;36m28.0\u001b[0m, \u001b[1;36m28.0\u001b[0m, \u001b[1;36m16.0\u001b[0m, \u001b[1;36m4.0\u001b[0m\u001b[1m]\u001b[0m\u001b[1m}\u001b[0m,\n",
       "        \u001b[1m{\u001b[0m\u001b[32m'b'\u001b[0m: \u001b[1;36m52.0\u001b[0m, \u001b[32m'a'\u001b[0m: \u001b[1m[\u001b[0m\u001b[1;36m28.0\u001b[0m, \u001b[1;36m24.0\u001b[0m\u001b[1m]\u001b[0m\u001b[1m}\u001b[0m,\n",
       "        \u001b[1m{\u001b[0m\u001b[32m'b'\u001b[0m: \u001b[1;36m50.0\u001b[0m, \u001b[32m'a'\u001b[0m: \u001b[1m[\u001b[0m\u001b[1;36m26.0\u001b[0m, \u001b[1;36m16.0\u001b[0m, \u001b[1;36m8.0\u001b[0m\u001b[1m]\u001b[0m\u001b[1m}\u001b[0m,\n",
       "        \u001b[1m{\u001b[0m\u001b[32m'b'\u001b[0m: \u001b[1;36m35.0\u001b[0m, \u001b[32m'a'\u001b[0m: \u001b[1m[\u001b[0m\u001b[1;36m28.0\u001b[0m, \u001b[1;36m5.0\u001b[0m, \u001b[1;36m2.0\u001b[0m\u001b[1m]\u001b[0m\u001b[1m}\u001b[0m,\n",
       "        \u001b[1m{\u001b[0m\u001b[32m'b'\u001b[0m: \u001b[1;36m30.0\u001b[0m, \u001b[32m'a'\u001b[0m: \u001b[1m[\u001b[0m\u001b[1;36m15.0\u001b[0m, \u001b[1;36m15.0\u001b[0m\u001b[1m]\u001b[0m\u001b[1m}\u001b[0m\n",
       "    \u001b[1m]\u001b[0m,\n",
       "    \u001b[32m'combo_matches_b_to_a'\u001b[0m: \u001b[1m[\u001b[0m\u001b[1m]\u001b[0m,\n",
       "    \u001b[32m'unmatched_a'\u001b[0m: \u001b[1m[\u001b[0m\u001b[1;36m28.0\u001b[0m, \u001b[1;36m28.0\u001b[0m, \u001b[1;36m28.0\u001b[0m, \u001b[1;36m28.0\u001b[0m, \u001b[1;36m28.0\u001b[0m, \u001b[1;36m28.0\u001b[0m, \u001b[1;36m28.0\u001b[0m, \u001b[1;36m28.0\u001b[0m, \u001b[1;36m16.0\u001b[0m, \u001b[1;36m12.0\u001b[0m, \u001b[1;36m12.0\u001b[0m, \u001b[1;36m12.0\u001b[0m, \u001b[1;36m12.0\u001b[0m, \u001b[1;36m8.0\u001b[0m, \u001b[1;36m4.0\u001b[0m, \u001b[1;36m1.0\u001b[0m\u001b[1m]\u001b[0m,\n",
       "    \u001b[32m'unmatched_b'\u001b[0m: \u001b[1m[\u001b[0m\u001b[1;36m100.0\u001b[0m, \u001b[1;36m100.0\u001b[0m, \u001b[1;36m100.0\u001b[0m\u001b[1m]\u001b[0m\n",
       "\u001b[1m}\u001b[0m\n"
      ]
     },
     "metadata": {},
     "output_type": "display_data"
    },
    {
     "name": "stdout",
     "output_type": "stream",
     "text": [
      "Counter({28.0: 8, 12.0: 4, 16.0: 1, 8.0: 1, 4.0: 1, 1.0: 1})\n",
      "Counter({100.0: 3})\n"
     ]
    }
   ],
   "source": [
    "import rich\n",
    "from source.reconcile_lists import reconcile_lists\n",
    "from source.get_group_data import get_group_data\n",
    "from collections import Counter\n",
    "\n",
    "list_a = get_group_data(part_a_conn, \"part_a\", \"统一仓库\", \"安徽合肥仓\", \"统一名称\", \"徐福记沙琪玛香酥芝麻味袋装@5(20x32g) N1 CN\", \"统一日期\", \"2024-12-01 00:00:00\", \"收货数量\")\n",
    "list_b = get_group_data(part_b_conn, \"part_b\", \"统一仓库\", \"安徽合肥仓\", \"统一名称\", \"徐福记沙琪玛香酥芝麻味袋装@5(20x32g) N1 CN\", \"统一日期\", \"2024-12-01 00:00:00\", \"实发数量\")\n",
    "_rst = reconcile_lists(list_a, list_b)\n",
    "rich.print(_rst)\n",
    "print(Counter(_rst[\"unmatched_a\"]))\n",
    "print(Counter(_rst[\"unmatched_b\"])) "
   ]
  },
  {
   "cell_type": "code",
   "execution_count": null,
   "metadata": {},
   "outputs": [],
   "source": [
    "for group1 in part_a_group_col_rst[\"group1_col\"]:\n",
    "    for group2 in part_a_group_col_rst[\"group2_col\"]:\n",
    "        for group3 in part_a_group_col_rst[\"group3_col\"]:\n",
    "            list_a = get_group_data(part_a_conn, \"part_a\", \"统一仓库\", group1, \"统一名称\", group2, \"统一日期\", group3, \"收货数量\")\n",
    "            list_b = get_group_data(part_b_conn, \"part_b\", \"统一仓库\", group1, \"统一名称\", group2, \"统一日期\", group3, \"实发数量\")\n",
    "            rst = reconcile_lists(list_a, list_b)\n",
    "            print(rst)"
   ]
  }
 ],
 "metadata": {
  "kernelspec": {
   "display_name": ".venv",
   "language": "python",
   "name": "python3"
  },
  "language_info": {
   "codemirror_mode": {
    "name": "ipython",
    "version": 3
   },
   "file_extension": ".py",
   "mimetype": "text/x-python",
   "name": "python",
   "nbconvert_exporter": "python",
   "pygments_lexer": "ipython3",
   "version": "3.12.9"
  }
 },
 "nbformat": 4,
 "nbformat_minor": 2
}

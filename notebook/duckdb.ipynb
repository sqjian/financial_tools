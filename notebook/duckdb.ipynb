{
 "cells": [
  {
   "cell_type": "markdown",
   "metadata": {},
   "source": [
    "### 数据加载"
   ]
  },
  {
   "cell_type": "code",
   "execution_count": 1,
   "metadata": {},
   "outputs": [],
   "source": [
    "from source.load_excel_to_table import load_excel_to_table\n",
    "\n",
    "part_a_conn = load_excel_to_table(\"/Users/sqjian/Documents/codespace/financial_tools/testdata/test.xlsx\", \"甲方\", \"part_a\")\n",
    "part_b_conn = load_excel_to_table(\"/Users/sqjian/Documents/codespace/financial_tools/testdata/test.xlsx\", \"乙方\", \"part_b\")"
   ]
  },
  {
   "cell_type": "markdown",
   "metadata": {},
   "source": [
    "### 提取分类条件"
   ]
  },
  {
   "cell_type": "code",
   "execution_count": 2,
   "metadata": {},
   "outputs": [],
   "source": [
    "part_a_conn.sql(\n",
    "    \"\"\"\n",
    "CREATE OR REPLACE TABLE part_a_group AS\n",
    "SELECT\n",
    "\t统一仓库,\n",
    "\t统一名称,\n",
    "\t统一日期,\n",
    "\tSUM(收货数量) AS 收货数量\n",
    "FROM\n",
    "\tmemory.main.part_a\n",
    "GROUP BY\n",
    "\t统一仓库,\n",
    "\t统一名称,\n",
    "\t统一日期\n",
    "    \"\"\".strip()\n",
    ")\n",
    "\n",
    "part_b_conn.sql(\n",
    "    \"\"\"\n",
    "CREATE OR REPLACE TABLE part_b_group AS\n",
    "SELECT\n",
    "\t统一仓库,\n",
    "\t统一名称,\n",
    "\t统一日期,\n",
    "\tSUM(实发数量) AS 实发数量\n",
    "FROM\n",
    "\tmemory.main.part_b\n",
    "GROUP BY\n",
    "\t统一仓库,\n",
    "\t统一名称,\n",
    "\t统一日期\n",
    "    \"\"\".strip()\n",
    ")"
   ]
  },
  {
   "cell_type": "markdown",
   "metadata": {},
   "source": [
    "### 分组提取匹配情况"
   ]
  },
  {
   "cell_type": "code",
   "execution_count": 3,
   "metadata": {},
   "outputs": [],
   "source": [
    "from IPython.display import display, HTML\n",
    "\n",
    "# display(HTML(part_a_conn.sql(\"select * from part_a_group\").fetchdf().to_html()))"
   ]
  },
  {
   "cell_type": "code",
   "execution_count": 4,
   "metadata": {},
   "outputs": [
    {
     "name": "stdout",
     "output_type": "stream",
     "text": [
      "{'date': ['2023-11-21', '2023-11-30', '2023-12-17', '2024-01-08', '2024-01-12', '2024-01-26', '2024-03-11', '2024-03-25', '2024-04-28', '2024-05-07', '2024-05-29', '2024-06-04', '2024-06-05', '2024-06-08', '2024-06-14', '2024-06-26', '2024-07-07', '2024-07-12', '2024-08-08', '2024-08-23', '2024-09-03', '2024-09-08', '2024-09-15', '2024-09-30', '2024-10-10', '2024-10-26', '2024-11-08', '2024-11-10', '2024-11-19', '2024-12-05', '2024-12-10'], 'numbers': [200.0, 150.0, 100.0, 100.0, 100.0, 150.0, 140.0, 65.0, 45.0, 140.0, 80.0, 90.0, 30.0, 100.0, 100.0, 100.0, 40.0, 40.0, 40.0, 60.0, 65.0, 60.0, 100.0, 129.0, 1.0, 200.0, 50.0, 5.0, 100.0, 55.0, 105.0]}\n",
      "{'date': ['2024-05-28', '2024-06-04', '2024-06-12', '2024-06-25', '2024-07-06', '2024-07-10', '2024-07-16', '2024-07-24', '2024-08-07', '2024-08-21', '2024-09-02', '2024-09-07', '2024-09-14', '2024-09-24', '2024-09-30', '2024-10-24', '2024-11-06', '2024-11-18', '2024-12-04', '2024-12-09'], 'numbers': [80.0, 30.0, 100.0, 100.0, 40.0, 40.0, 50.0, nan, 40.0, 60.0, 65.0, 60.0, 100.0, 30.0, 100.0, 200.0, 50.0, 100.0, 55.0, 105.0]}\n",
      "   part_a.date  part_a.numbers part_b.date  part_b.numbers\n",
      "0   2023-11-21           200.0        None             NaN\n",
      "1   2023-11-30           150.0        None             NaN\n",
      "2   2023-12-17           100.0        None             NaN\n",
      "3   2024-01-08           100.0        None             NaN\n",
      "4   2024-01-12           100.0        None             NaN\n",
      "5   2024-01-26           150.0        None             NaN\n",
      "6   2024-03-11           140.0        None             NaN\n",
      "7   2024-03-25            65.0        None             NaN\n",
      "8   2024-04-28            45.0        None             NaN\n",
      "9   2024-05-07           140.0        None             NaN\n",
      "10  2024-05-29            80.0  2024-05-28            80.0\n",
      "11  2024-06-04            90.0        None             NaN\n",
      "12  2024-06-05            30.0  2024-06-04            30.0\n",
      "13  2024-06-08           100.0        None             NaN\n",
      "14  2024-06-14           100.0  2024-06-12           100.0\n",
      "15  2024-06-26           100.0  2024-06-25           100.0\n",
      "16  2024-07-07            40.0  2024-07-06            40.0\n",
      "17  2024-07-12            40.0  2024-07-10            40.0\n",
      "18        None             NaN  2024-07-16            50.0\n",
      "19        None             NaN  2024-07-24             NaN\n",
      "20  2024-08-08            40.0  2024-08-07            40.0\n",
      "21  2024-08-23            60.0  2024-08-21            60.0\n",
      "22  2024-09-03            65.0  2024-09-02            65.0\n",
      "23  2024-09-08            60.0  2024-09-07            60.0\n",
      "24  2024-09-15           100.0  2024-09-14           100.0\n",
      "25  2024-09-30           129.0        None             NaN\n",
      "26  2024-10-10             1.0        None             NaN\n",
      "27        None             NaN  2024-09-24            30.0\n",
      "28        None             NaN  2024-09-30           100.0\n",
      "29  2024-10-26           200.0  2024-10-24           200.0\n",
      "30  2024-11-08            50.0  2024-11-06            50.0\n",
      "31  2024-11-10             5.0        None             NaN\n",
      "32  2024-11-19           100.0  2024-11-18           100.0\n",
      "33  2024-12-05            55.0  2024-12-04            55.0\n",
      "34  2024-12-10           105.0  2024-12-09           105.0\n"
     ]
    }
   ],
   "source": [
    "from source.match_and_format_data import match_and_format_data\n",
    "\n",
    "part_a_df = part_a_conn.execute(f\"SELECT 统一日期 as date, 收货数量 as numbers FROM part_a_group WHERE 统一仓库 = '河北石家庄仓' AND 统一名称 = '熊博士白桃乌龙茶味果肉口嚼糖9粒条装@6(12x36g) CN'\").fetch_df()\n",
    "part_b_df = part_b_conn.execute(f\"SELECT 统一日期 as date, 实发数量 as numbers FROM part_b_group WHERE 统一仓库 = '河北石家庄仓' AND 统一名称 = '熊博士白桃乌龙茶味果肉口嚼糖9粒条装@6(12x36g) CN'\").fetch_df()\n",
    "\n",
    "part_a_list=part_a_df.sort_values(by='date').to_dict(\"list\")\n",
    "part_b_list=part_b_df.sort_values(by='date').to_dict(\"list\")\n",
    "\n",
    "print(part_a_list)\n",
    "print(part_b_list)\n",
    "\n",
    "rst = match_and_format_data(part_a_list, part_b_list)\n",
    "\n",
    "print(rst)\n"
   ]
  },
  {
   "cell_type": "code",
   "execution_count": 5,
   "metadata": {},
   "outputs": [
    {
     "name": "stdout",
     "output_type": "stream",
     "text": [
      "{'date': ['2024-06-26', '2024-07-08', '2024-07-21', '2024-08-02', '2024-08-07', '2024-08-28', '2024-09-07', '2024-09-21', '2024-09-27', '2024-10-10', '2024-10-23', '2024-10-30', '2024-11-07', '2024-11-16', '2024-11-19', '2024-11-22', '2024-11-28', '2024-11-29', '2024-12-03', '2024-12-06', '2024-12-12', '2024-12-19', '2024-12-22'], 'numbers': [20.0, 40.0, 50.0, 40.0, 120.0, 70.0, 130.0, 150.0, 65.0, 45.0, 60.0, 60.0, 61.0, 29.0, 33.0, 7.0, 11.0, 39.0, 30.0, 64.0, 66.0, 80.0, 120.0]}\n",
      "{'date': ['2024-06-25', '2024-07-06', '2024-07-20', '2024-08-01', '2024-08-07', '2024-08-27', '2024-09-04', '2024-09-05', '2024-09-20', '2024-09-26', '2024-10-09', '2024-10-22', '2024-10-29', '2024-11-06', '2024-11-07', '2024-11-14', '2024-11-18', '2024-11-20', '2024-11-26', '2024-11-28', '2024-12-02', '2024-12-04', '2024-12-07', '2024-12-09', '2024-12-17', '2024-12-21'], 'numbers': [20.0, 40.0, 50.0, 40.0, 120.0, 70.0, 87.0, 43.0, 150.0, 65.0, 45.0, 60.0, 60.0, 61.0, 26.0, 29.0, 33.0, 7.0, 11.0, 73.0, 60.0, 64.0, 29.0, 66.0, 80.0, 120.0]}\n",
      "   part_a.date  part_a.numbers part_b.date  part_b.numbers\n",
      "0   2024-06-26            20.0  2024-06-25            20.0\n",
      "1   2024-07-08            40.0  2024-07-06            40.0\n",
      "2   2024-07-21            50.0  2024-07-20            50.0\n",
      "3   2024-08-02            40.0  2024-08-01            40.0\n",
      "4   2024-08-07           120.0  2024-08-07           120.0\n",
      "5   2024-08-28            70.0  2024-08-27            70.0\n",
      "6   2024-09-07           130.0        None             NaN\n",
      "7         None             NaN  2024-09-04            87.0\n",
      "8         None             NaN  2024-09-05            43.0\n",
      "9   2024-09-21           150.0  2024-09-20           150.0\n",
      "10  2024-09-27            65.0  2024-09-26            65.0\n",
      "11  2024-10-10            45.0  2024-10-09            45.0\n",
      "12  2024-10-23            60.0  2024-10-22            60.0\n",
      "13  2024-10-30            60.0  2024-10-29            60.0\n",
      "14  2024-11-07            61.0  2024-11-06            61.0\n",
      "15        None             NaN  2024-11-07            26.0\n",
      "16  2024-11-16            29.0  2024-11-14            29.0\n",
      "17  2024-11-19            33.0  2024-11-18            33.0\n",
      "18  2024-11-22             7.0  2024-11-20             7.0\n",
      "19  2024-11-28            11.0  2024-11-26            11.0\n",
      "20  2024-11-29            39.0        None             NaN\n",
      "21  2024-12-03            30.0        None             NaN\n",
      "22        None             NaN  2024-11-28            73.0\n",
      "23        None             NaN  2024-12-02            60.0\n",
      "24  2024-12-06            64.0  2024-12-04            64.0\n",
      "25        None             NaN  2024-12-07            29.0\n",
      "26  2024-12-12            66.0  2024-12-09            66.0\n",
      "27  2024-12-19            80.0  2024-12-17            80.0\n",
      "28  2024-12-22           120.0  2024-12-21           120.0\n"
     ]
    }
   ],
   "source": [
    "from source.match_and_format_data import match_and_format_data\n",
    "\n",
    "part_a_df = part_a_conn.execute(f\"SELECT 统一日期 as date, 收货数量 as numbers FROM part_a_group WHERE 统一仓库 = '河北廊坊仓' AND 统一名称 = '徐福记卷心酥清新草莓味袋装扫码专供@4(6x52g) CN'\").fetch_df()\n",
    "part_b_df = part_b_conn.execute(f\"SELECT 统一日期 as date, 实发数量 as numbers FROM part_b_group WHERE 统一仓库 = '河北廊坊仓' AND 统一名称 = '徐福记卷心酥清新草莓味袋装扫码专供@4(6x52g) CN'\").fetch_df()\n",
    "\n",
    "part_a_list=part_a_df.sort_values(by='date').to_dict(\"list\")\n",
    "part_b_list=part_b_df.sort_values(by='date').to_dict(\"list\")\n",
    "\n",
    "print(part_a_list)\n",
    "print(part_b_list)\n",
    "\n",
    "rst = match_and_format_data(part_a_list, part_b_list)\n",
    "\n",
    "print(rst)\n"
   ]
  },
  {
   "cell_type": "code",
   "execution_count": 6,
   "metadata": {},
   "outputs": [
    {
     "name": "stdout",
     "output_type": "stream",
     "text": [
      "   part_a.date  part_a.numbers part_b.date  part_b.numbers\n",
      "0   2024-11-13           797.0        None             NaN\n",
      "1   2024-11-22           453.0        None             NaN\n",
      "2         None             NaN  2024-10-31           800.0\n",
      "3         None             NaN  2024-11-20           450.0\n",
      "4         None             NaN  2024-11-21             3.0\n",
      "5   2024-12-06           150.0  2024-12-04           150.0\n",
      "6   2024-12-07           250.0  2024-12-06           250.0\n",
      "7   2024-12-20           210.0  2024-12-19           210.0\n",
      "8   2024-12-22           130.0  2024-12-21           130.0\n",
      "9   2024-12-29            60.0  2024-12-28            60.0\n",
      "10  2024-12-31           120.0  2024-12-29           120.0\n",
      "11        None             NaN  2024-12-30            40.0\n"
     ]
    }
   ],
   "source": [
    "from source.match_and_format_data import match_and_format_data\n",
    "\n",
    "part_a_df = part_a_conn.execute(f\"SELECT 统一日期 as date, 收货数量 as numbers FROM part_a_group WHERE 统一仓库 = '安徽合肥仓' AND 统一名称 = 'DODO综合果味棒棒糖零食店@2x3Kg CN'\").fetch_df()\n",
    "part_b_df = part_b_conn.execute(f\"SELECT 统一日期 as date, 实发数量 as numbers FROM part_b_group WHERE 统一仓库 = '安徽合肥仓' AND 统一名称 = 'DODO综合果味棒棒糖零食店@2x3Kg CN'\").fetch_df()\n",
    "rst = match_and_format_data(part_a_df.sort_values(by='date').to_dict(\"list\"), part_b_df.sort_values(by='date').to_dict(\"list\"))\n",
    "\n",
    "print(rst)\n"
   ]
  },
  {
   "cell_type": "code",
   "execution_count": 7,
   "metadata": {},
   "outputs": [
    {
     "name": "stderr",
     "output_type": "stream",
     "text": [
      "100%|██████████| 10/10 [00:02<00:00,  3.69it/s]\n",
      "/var/folders/k0/fc50nlsj2r5fgrzbv6736w1h0000gn/T/ipykernel_18445/3119093629.py:26: FutureWarning: The behavior of DataFrame concatenation with empty or all-NA entries is deprecated. In a future version, this will no longer exclude empty or all-NA columns when determining the result dtypes. To retain the old behavior, exclude the relevant entries before the concat operation.\n",
      "  result = pd.concat(df_list, ignore_index=True)\n"
     ]
    }
   ],
   "source": [
    "from tqdm import tqdm\n",
    "import pandas as pd\n",
    "import numpy as np\n",
    "from source.match_and_format_data import match_and_format_data\n",
    "\n",
    "df_list = []\n",
    "\n",
    "for group1 in tqdm(part_a_conn.sql(\"select 统一仓库 from part_a_group\").fetchdf()[\"统一仓库\"].unique()):\n",
    "    for group2 in part_a_conn.sql(\"select 统一名称 from part_a_group\").fetchdf()[\"统一名称\"].unique():\n",
    "        part_a_df = part_a_conn.execute(f\"SELECT 统一日期 as date, 收货数量 as numbers FROM part_a_group WHERE 统一仓库 = '{group1}' AND 统一名称 = '{group2}'\").fetch_df()\n",
    "        part_b_df = part_b_conn.execute(f\"SELECT 统一日期 as date, 实发数量 as numbers FROM part_b_group WHERE 统一仓库 = '{group1}' AND 统一名称 = '{group2}'\").fetch_df()\n",
    "        if all([part_a_df.empty, part_b_df.empty]):\n",
    "            continue\n",
    "        try:\n",
    "            rst = match_and_format_data(part_a_df.sort_values(by='date').to_dict(\"list\"), part_b_df.sort_values(by='date').to_dict(\"list\"))\n",
    "        except:\n",
    "            print(group1,group2)\n",
    "            print(part_a_df.sort_values(by='date').to_dict(\"list\"))\n",
    "            print(part_b_df.sort_values(by='date').to_dict(\"list\"))\n",
    "            raise\n",
    "        rst[\"统一仓库\"] = group1\n",
    "        rst[\"统一名称\"] = group2\n",
    "        df_list.append(rst.copy())\n",
    "\n",
    "# 合并所有 DataFrame\n",
    "result = pd.concat(df_list, ignore_index=True)"
   ]
  },
  {
   "cell_type": "code",
   "execution_count": 8,
   "metadata": {},
   "outputs": [
    {
     "data": {
      "application/vnd.microsoft.datawrangler.viewer.v0+json": {
       "columns": [
        {
         "name": "index",
         "rawType": "int64",
         "type": "integer"
        },
        {
         "name": "统一仓库",
         "rawType": "object",
         "type": "string"
        },
        {
         "name": "统一名称",
         "rawType": "object",
         "type": "string"
        },
        {
         "name": "我方-收货日期",
         "rawType": "object",
         "type": "unknown"
        },
        {
         "name": "我方-收货数量",
         "rawType": "float64",
         "type": "float"
        },
        {
         "name": "供方-发货月份",
         "rawType": "object",
         "type": "unknown"
        },
        {
         "name": "供方-实发数量",
         "rawType": "float64",
         "type": "float"
        }
       ],
       "conversionMethod": "pd.DataFrame",
       "ref": "e372abbf-6923-400e-961f-8dd5fc1eaccf",
       "rows": [
        [
         "0",
         "安徽合肥仓",
         "熊博士白桃乌龙茶味果肉口嚼糖9粒条装@6(12x36g) CN",
         "2023-11-21",
         "250.0",
         null,
         null
        ],
        [
         "1",
         "安徽合肥仓",
         "熊博士白桃乌龙茶味果肉口嚼糖9粒条装@6(12x36g) CN",
         null,
         null,
         "2023-11-18",
         "1350.0"
        ],
        [
         "2",
         "安徽合肥仓",
         "熊博士白桃乌龙茶味果肉口嚼糖9粒条装@6(12x36g) CN",
         null,
         null,
         "2023-11-28",
         "300.0"
        ],
        [
         "3",
         "安徽合肥仓",
         "熊博士白桃乌龙茶味果肉口嚼糖9粒条装@6(12x36g) CN",
         "2023-11-30",
         "150.0",
         "2023-11-29",
         "150.0"
        ],
        [
         "4",
         "安徽合肥仓",
         "熊博士白桃乌龙茶味果肉口嚼糖9粒条装@6(12x36g) CN",
         null,
         null,
         "2023-11-30",
         "200.0"
        ],
        [
         "5",
         "安徽合肥仓",
         "熊博士白桃乌龙茶味果肉口嚼糖9粒条装@6(12x36g) CN",
         null,
         null,
         "2023-12-05",
         "150.0"
        ],
        [
         "6",
         "安徽合肥仓",
         "熊博士白桃乌龙茶味果肉口嚼糖9粒条装@6(12x36g) CN",
         "2023-12-11",
         "100.0",
         "2023-12-09",
         "100.0"
        ],
        [
         "7",
         "安徽合肥仓",
         "熊博士白桃乌龙茶味果肉口嚼糖9粒条装@6(12x36g) CN",
         null,
         null,
         "2023-12-13",
         "100.0"
        ],
        [
         "8",
         "安徽合肥仓",
         "熊博士白桃乌龙茶味果肉口嚼糖9粒条装@6(12x36g) CN",
         "2023-12-25",
         "90.0",
         "2023-12-23",
         "90.0"
        ],
        [
         "9",
         "安徽合肥仓",
         "熊博士白桃乌龙茶味果肉口嚼糖9粒条装@6(12x36g) CN",
         "2024-01-06",
         "390.0",
         null,
         null
        ],
        [
         "10",
         "安徽合肥仓",
         "熊博士白桃乌龙茶味果肉口嚼糖9粒条装@6(12x36g) CN",
         "2024-01-25",
         "156.0",
         null,
         null
        ],
        [
         "11",
         "安徽合肥仓",
         "熊博士白桃乌龙茶味果肉口嚼糖9粒条装@6(12x36g) CN",
         "2024-03-06",
         "80.0",
         null,
         null
        ],
        [
         "12",
         "安徽合肥仓",
         "熊博士白桃乌龙茶味果肉口嚼糖9粒条装@6(12x36g) CN",
         "2024-03-21",
         "174.0",
         null,
         null
        ],
        [
         "13",
         "安徽合肥仓",
         "熊博士白桃乌龙茶味果肉口嚼糖9粒条装@6(12x36g) CN",
         null,
         null,
         "2023-12-27",
         "100.0"
        ],
        [
         "14",
         "安徽合肥仓",
         "熊博士白桃乌龙茶味果肉口嚼糖9粒条装@6(12x36g) CN",
         null,
         null,
         "2024-01-04",
         "200.0"
        ],
        [
         "15",
         "安徽合肥仓",
         "熊博士白桃乌龙茶味果肉口嚼糖9粒条装@6(12x36g) CN",
         null,
         null,
         "2024-01-05",
         "994.0"
        ],
        [
         "16",
         "安徽合肥仓",
         "熊博士白桃乌龙茶味果肉口嚼糖9粒条装@6(12x36g) CN",
         null,
         null,
         "2024-01-08",
         "200.0"
        ],
        [
         "17",
         "安徽合肥仓",
         "熊博士白桃乌龙茶味果肉口嚼糖9粒条装@6(12x36g) CN",
         null,
         null,
         "2024-01-09",
         "100.0"
        ],
        [
         "18",
         "安徽合肥仓",
         "熊博士白桃乌龙茶味果肉口嚼糖9粒条装@6(12x36g) CN",
         null,
         null,
         "2024-01-10",
         "100.0"
        ],
        [
         "19",
         "安徽合肥仓",
         "熊博士白桃乌龙茶味果肉口嚼糖9粒条装@6(12x36g) CN",
         null,
         null,
         "2024-01-12",
         "100.0"
        ],
        [
         "20",
         "安徽合肥仓",
         "熊博士白桃乌龙茶味果肉口嚼糖9粒条装@6(12x36g) CN",
         null,
         null,
         "2024-01-17",
         "240.0"
        ],
        [
         "21",
         "安徽合肥仓",
         "熊博士白桃乌龙茶味果肉口嚼糖9粒条装@6(12x36g) CN",
         null,
         null,
         "2024-01-20",
         "306.0"
        ],
        [
         "22",
         "安徽合肥仓",
         "熊博士白桃乌龙茶味果肉口嚼糖9粒条装@6(12x36g) CN",
         null,
         null,
         "2024-03-05",
         "280.0"
        ],
        [
         "23",
         "安徽合肥仓",
         "熊博士白桃乌龙茶味果肉口嚼糖9粒条装@6(12x36g) CN",
         null,
         null,
         "2024-03-06",
         "140.0"
        ],
        [
         "24",
         "安徽合肥仓",
         "熊博士白桃乌龙茶味果肉口嚼糖9粒条装@6(12x36g) CN",
         null,
         null,
         "2024-03-08",
         "136.0"
        ],
        [
         "25",
         "安徽合肥仓",
         "熊博士白桃乌龙茶味果肉口嚼糖9粒条装@6(12x36g) CN",
         null,
         null,
         "2024-03-19",
         "150.0"
        ],
        [
         "26",
         "安徽合肥仓",
         "熊博士白桃乌龙茶味果肉口嚼糖9粒条装@6(12x36g) CN",
         null,
         null,
         "2024-03-21",
         "24.0"
        ],
        [
         "27",
         "安徽合肥仓",
         "熊博士白桃乌龙茶味果肉口嚼糖9粒条装@6(12x36g) CN",
         null,
         null,
         "2024-03-22",
         "65.0"
        ],
        [
         "28",
         "安徽合肥仓",
         "熊博士白桃乌龙茶味果肉口嚼糖9粒条装@6(12x36g) CN",
         null,
         null,
         "2024-04-02",
         "214.0"
        ],
        [
         "29",
         "安徽合肥仓",
         "熊博士白桃乌龙茶味果肉口嚼糖9粒条装@6(12x36g) CN",
         null,
         null,
         "2024-04-22",
         "145.0"
        ],
        [
         "30",
         "安徽合肥仓",
         "熊博士白桃乌龙茶味果肉口嚼糖9粒条装@6(12x36g) CN",
         "2024-04-25",
         "70.0",
         "2024-04-23",
         "70.0"
        ],
        [
         "31",
         "安徽合肥仓",
         "熊博士白桃乌龙茶味果肉口嚼糖9粒条装@6(12x36g) CN",
         "2024-04-30",
         "100.0",
         null,
         null
        ],
        [
         "32",
         "安徽合肥仓",
         "熊博士白桃乌龙茶味果肉口嚼糖9粒条装@6(12x36g) CN",
         "2024-05-07",
         "100.0",
         null,
         null
        ],
        [
         "33",
         "安徽合肥仓",
         "熊博士白桃乌龙茶味果肉口嚼糖9粒条装@6(12x36g) CN",
         "2024-05-16",
         "65.0",
         null,
         null
        ],
        [
         "34",
         "安徽合肥仓",
         "熊博士白桃乌龙茶味果肉口嚼糖9粒条装@6(12x36g) CN",
         null,
         null,
         "2024-04-28",
         "310.0"
        ],
        [
         "35",
         "安徽合肥仓",
         "熊博士白桃乌龙茶味果肉口嚼糖9粒条装@6(12x36g) CN",
         null,
         null,
         "2024-05-07",
         "295.0"
        ],
        [
         "36",
         "安徽合肥仓",
         "熊博士白桃乌龙茶味果肉口嚼糖9粒条装@6(12x36g) CN",
         null,
         null,
         "2024-05-18",
         "65.0"
        ],
        [
         "37",
         "安徽合肥仓",
         "熊博士白桃乌龙茶味果肉口嚼糖9粒条装@6(12x36g) CN",
         "2024-05-28",
         "115.0",
         "2024-05-27",
         "115.0"
        ],
        [
         "38",
         "安徽合肥仓",
         "熊博士白桃乌龙茶味果肉口嚼糖9粒条装@6(12x36g) CN",
         null,
         null,
         "2024-06-01",
         "90.0"
        ],
        [
         "39",
         "安徽合肥仓",
         "熊博士白桃乌龙茶味果肉口嚼糖9粒条装@6(12x36g) CN",
         "2024-06-05",
         "100.0",
         "2024-06-05",
         "100.0"
        ],
        [
         "40",
         "安徽合肥仓",
         "熊博士白桃乌龙茶味果肉口嚼糖9粒条装@6(12x36g) CN",
         "2024-06-08",
         "160.0",
         null,
         null
        ],
        [
         "41",
         "安徽合肥仓",
         "熊博士白桃乌龙茶味果肉口嚼糖9粒条装@6(12x36g) CN",
         null,
         null,
         "2024-06-06",
         "180.0"
        ],
        [
         "42",
         "安徽合肥仓",
         "熊博士白桃乌龙茶味果肉口嚼糖9粒条装@6(12x36g) CN",
         null,
         null,
         "2024-06-12",
         "160.0"
        ],
        [
         "43",
         "安徽合肥仓",
         "熊博士白桃乌龙茶味果肉口嚼糖9粒条装@6(12x36g) CN",
         null,
         null,
         "2024-07-06",
         "20.0"
        ],
        [
         "44",
         "安徽合肥仓",
         "熊博士白桃乌龙茶味果肉口嚼糖9粒条装@6(12x36g) CN",
         "2024-07-12",
         "70.0",
         "2024-07-10",
         "70.0"
        ],
        [
         "45",
         "安徽合肥仓",
         "熊博士白桃乌龙茶味果肉口嚼糖9粒条装@6(12x36g) CN",
         "2024-07-23",
         "50.0",
         "2024-07-20",
         "50.0"
        ],
        [
         "46",
         "安徽合肥仓",
         "熊博士白桃乌龙茶味果肉口嚼糖9粒条装@6(12x36g) CN",
         "2024-07-31",
         "55.0",
         null,
         null
        ],
        [
         "47",
         "安徽合肥仓",
         "熊博士白桃乌龙茶味果肉口嚼糖9粒条装@6(12x36g) CN",
         null,
         null,
         "2024-08-01",
         "55.0"
        ],
        [
         "48",
         "安徽合肥仓",
         "熊博士白桃乌龙茶味果肉口嚼糖9粒条装@6(12x36g) CN",
         "2024-08-12",
         "35.0",
         "2024-08-10",
         "35.0"
        ],
        [
         "49",
         "安徽合肥仓",
         "熊博士白桃乌龙茶味果肉口嚼糖9粒条装@6(12x36g) CN",
         "2024-08-15",
         "30.0",
         null,
         null
        ]
       ],
       "shape": {
        "columns": 6,
        "rows": 3941
       }
      },
      "text/html": [
       "<div>\n",
       "<style scoped>\n",
       "    .dataframe tbody tr th:only-of-type {\n",
       "        vertical-align: middle;\n",
       "    }\n",
       "\n",
       "    .dataframe tbody tr th {\n",
       "        vertical-align: top;\n",
       "    }\n",
       "\n",
       "    .dataframe thead th {\n",
       "        text-align: right;\n",
       "    }\n",
       "</style>\n",
       "<table border=\"1\" class=\"dataframe\">\n",
       "  <thead>\n",
       "    <tr style=\"text-align: right;\">\n",
       "      <th></th>\n",
       "      <th>统一仓库</th>\n",
       "      <th>统一名称</th>\n",
       "      <th>我方-收货日期</th>\n",
       "      <th>我方-收货数量</th>\n",
       "      <th>供方-发货月份</th>\n",
       "      <th>供方-实发数量</th>\n",
       "    </tr>\n",
       "  </thead>\n",
       "  <tbody>\n",
       "    <tr>\n",
       "      <th>0</th>\n",
       "      <td>安徽合肥仓</td>\n",
       "      <td>熊博士白桃乌龙茶味果肉口嚼糖9粒条装@6(12x36g) CN</td>\n",
       "      <td>2023-11-21</td>\n",
       "      <td>250.0</td>\n",
       "      <td>None</td>\n",
       "      <td>NaN</td>\n",
       "    </tr>\n",
       "    <tr>\n",
       "      <th>1</th>\n",
       "      <td>安徽合肥仓</td>\n",
       "      <td>熊博士白桃乌龙茶味果肉口嚼糖9粒条装@6(12x36g) CN</td>\n",
       "      <td>None</td>\n",
       "      <td>NaN</td>\n",
       "      <td>2023-11-18</td>\n",
       "      <td>1350.0</td>\n",
       "    </tr>\n",
       "    <tr>\n",
       "      <th>2</th>\n",
       "      <td>安徽合肥仓</td>\n",
       "      <td>熊博士白桃乌龙茶味果肉口嚼糖9粒条装@6(12x36g) CN</td>\n",
       "      <td>None</td>\n",
       "      <td>NaN</td>\n",
       "      <td>2023-11-28</td>\n",
       "      <td>300.0</td>\n",
       "    </tr>\n",
       "    <tr>\n",
       "      <th>3</th>\n",
       "      <td>安徽合肥仓</td>\n",
       "      <td>熊博士白桃乌龙茶味果肉口嚼糖9粒条装@6(12x36g) CN</td>\n",
       "      <td>2023-11-30</td>\n",
       "      <td>150.0</td>\n",
       "      <td>2023-11-29</td>\n",
       "      <td>150.0</td>\n",
       "    </tr>\n",
       "    <tr>\n",
       "      <th>4</th>\n",
       "      <td>安徽合肥仓</td>\n",
       "      <td>熊博士白桃乌龙茶味果肉口嚼糖9粒条装@6(12x36g) CN</td>\n",
       "      <td>None</td>\n",
       "      <td>NaN</td>\n",
       "      <td>2023-11-30</td>\n",
       "      <td>200.0</td>\n",
       "    </tr>\n",
       "    <tr>\n",
       "      <th>...</th>\n",
       "      <td>...</td>\n",
       "      <td>...</td>\n",
       "      <td>...</td>\n",
       "      <td>...</td>\n",
       "      <td>...</td>\n",
       "      <td>...</td>\n",
       "    </tr>\n",
       "    <tr>\n",
       "      <th>3936</th>\n",
       "      <td>河南漯河仓</td>\n",
       "      <td>徐福记黑芝麻味酥心糖散糖金致系列@4x1.5kg CN</td>\n",
       "      <td>2024-12-20</td>\n",
       "      <td>299.0</td>\n",
       "      <td>None</td>\n",
       "      <td>NaN</td>\n",
       "    </tr>\n",
       "    <tr>\n",
       "      <th>3937</th>\n",
       "      <td>河南漯河仓</td>\n",
       "      <td>徐福记黑芝麻味酥心糖散糖金致系列@4x1.5kg CN</td>\n",
       "      <td>None</td>\n",
       "      <td>NaN</td>\n",
       "      <td>2024-12-14</td>\n",
       "      <td>300.0</td>\n",
       "    </tr>\n",
       "    <tr>\n",
       "      <th>3938</th>\n",
       "      <td>河南漯河仓</td>\n",
       "      <td>徐福记黑芝麻味酥心糖散糖金致系列@4x1.5kg CN</td>\n",
       "      <td>None</td>\n",
       "      <td>NaN</td>\n",
       "      <td>2024-12-30</td>\n",
       "      <td>300.0</td>\n",
       "    </tr>\n",
       "    <tr>\n",
       "      <th>3939</th>\n",
       "      <td>河南漯河仓</td>\n",
       "      <td>雀巢奇欧比原味零糖代可可脂巧克力散装@2x3kg CN</td>\n",
       "      <td>2024-12-19</td>\n",
       "      <td>360.0</td>\n",
       "      <td>2024-12-16</td>\n",
       "      <td>360.0</td>\n",
       "    </tr>\n",
       "    <tr>\n",
       "      <th>3940</th>\n",
       "      <td>河南漯河仓</td>\n",
       "      <td>雀巢奇欧比可可味麦丽素代可可脂巧克力制品袋装@8(10x35g) CN</td>\n",
       "      <td>2024-01-25</td>\n",
       "      <td>150.0</td>\n",
       "      <td>None</td>\n",
       "      <td>NaN</td>\n",
       "    </tr>\n",
       "  </tbody>\n",
       "</table>\n",
       "<p>3941 rows × 6 columns</p>\n",
       "</div>"
      ],
      "text/plain": [
       "       统一仓库                                 统一名称     我方-收货日期  我方-收货数量  \\\n",
       "0     安徽合肥仓      熊博士白桃乌龙茶味果肉口嚼糖9粒条装@6(12x36g) CN  2023-11-21    250.0   \n",
       "1     安徽合肥仓      熊博士白桃乌龙茶味果肉口嚼糖9粒条装@6(12x36g) CN        None      NaN   \n",
       "2     安徽合肥仓      熊博士白桃乌龙茶味果肉口嚼糖9粒条装@6(12x36g) CN        None      NaN   \n",
       "3     安徽合肥仓      熊博士白桃乌龙茶味果肉口嚼糖9粒条装@6(12x36g) CN  2023-11-30    150.0   \n",
       "4     安徽合肥仓      熊博士白桃乌龙茶味果肉口嚼糖9粒条装@6(12x36g) CN        None      NaN   \n",
       "...     ...                                  ...         ...      ...   \n",
       "3936  河南漯河仓          徐福记黑芝麻味酥心糖散糖金致系列@4x1.5kg CN  2024-12-20    299.0   \n",
       "3937  河南漯河仓          徐福记黑芝麻味酥心糖散糖金致系列@4x1.5kg CN        None      NaN   \n",
       "3938  河南漯河仓          徐福记黑芝麻味酥心糖散糖金致系列@4x1.5kg CN        None      NaN   \n",
       "3939  河南漯河仓          雀巢奇欧比原味零糖代可可脂巧克力散装@2x3kg CN  2024-12-19    360.0   \n",
       "3940  河南漯河仓  雀巢奇欧比可可味麦丽素代可可脂巧克力制品袋装@8(10x35g) CN  2024-01-25    150.0   \n",
       "\n",
       "         供方-发货月份  供方-实发数量  \n",
       "0           None      NaN  \n",
       "1     2023-11-18   1350.0  \n",
       "2     2023-11-28    300.0  \n",
       "3     2023-11-29    150.0  \n",
       "4     2023-11-30    200.0  \n",
       "...          ...      ...  \n",
       "3936        None      NaN  \n",
       "3937  2024-12-14    300.0  \n",
       "3938  2024-12-30    300.0  \n",
       "3939  2024-12-16    360.0  \n",
       "3940        None      NaN  \n",
       "\n",
       "[3941 rows x 6 columns]"
      ]
     },
     "execution_count": 8,
     "metadata": {},
     "output_type": "execute_result"
    }
   ],
   "source": [
    "result = result.reindex(columns=[\"统一仓库\", \"统一名称\", \"part_a.date\", \"part_a.numbers\", \"part_b.date\", \"part_b.numbers\"])\n",
    "result.rename(columns={\"part_a.date\": \"我方-收货日期\", \"part_a.numbers\": \"我方-收货数量\", \"part_b.date\": \"供方-发货月份\", \"part_b.numbers\": \"供方-实发数量\"}, inplace=True)\n",
    "\n",
    "result"
   ]
  },
  {
   "cell_type": "code",
   "execution_count": 9,
   "metadata": {},
   "outputs": [],
   "source": [
    "result.to_excel(\"/Users/sqjian/Documents/codespace/financial_tools/testdata/result.xlsx\", index=False)"
   ]
  }
 ],
 "metadata": {
  "kernelspec": {
   "display_name": ".venv",
   "language": "python",
   "name": "python3"
  },
  "language_info": {
   "codemirror_mode": {
    "name": "ipython",
    "version": 3
   },
   "file_extension": ".py",
   "mimetype": "text/x-python",
   "name": "python",
   "nbconvert_exporter": "python",
   "pygments_lexer": "ipython3",
   "version": "3.12.9"
  }
 },
 "nbformat": 4,
 "nbformat_minor": 2
}

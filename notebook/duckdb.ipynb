{
 "cells": [
  {
   "cell_type": "code",
   "execution_count": 26,
   "metadata": {},
   "outputs": [],
   "source": [
    "def get_table_cols_from_db_conn(conn, table_name):\n",
    "    \"\"\"从数据库连接中获取表的列名\"\"\"\n",
    "    columns_info = conn.sql(f\"PRAGMA table_info('{table_name}');\".strip()).fetchall()\n",
    "\n",
    "    column_names = [column[1] for column in columns_info]\n",
    "\n",
    "    return column_names"
   ]
  },
  {
   "cell_type": "code",
   "execution_count": 27,
   "metadata": {},
   "outputs": [
    {
     "name": "stdout",
     "output_type": "stream",
     "text": [
      "['供应商代码', '单据号', '组织名称', '收货门店', '仓库', '统一仓库', '操作时间', '收货日期', '统一日期', '供应商', '品牌', '商品代码', '商品条码', '商品名称', '统一名称', '商品类别', '类别等级', '采购规格', '单据单位', '基本单位', '基本数量', '收货数量', '收货单价', '收货单价(去税)', '收货金额', '收货金额(去税)', '赠品单位', '赠品数量', '赠品基本数量', '赠品金额', '赠品金额(去税)', '批次号', '生产日期', '到期日期', '备注', '业财核算分类', '商品部门', '运费']\n"
     ]
    }
   ],
   "source": [
    "from source.load_excel_to_table import load_excel_to_table\n",
    "\n",
    "part_a = load_excel_to_table(\"/Users/sqjian/Documents/codespace/financial_tools/testdata/test.xlsx\", \"甲方\", \"part_a\")\n",
    "\n",
    "print(get_table_cols_from_db_conn(part_a, \"part_a\"))"
   ]
  }
 ],
 "metadata": {
  "kernelspec": {
   "display_name": ".venv",
   "language": "python",
   "name": "python3"
  },
  "language_info": {
   "codemirror_mode": {
    "name": "ipython",
    "version": 3
   },
   "file_extension": ".py",
   "mimetype": "text/x-python",
   "name": "python",
   "nbconvert_exporter": "python",
   "pygments_lexer": "ipython3",
   "version": "3.12.9"
  }
 },
 "nbformat": 4,
 "nbformat_minor": 2
}

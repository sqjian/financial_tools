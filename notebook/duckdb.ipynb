{
 "cells": [
  {
   "cell_type": "markdown",
   "metadata": {},
   "source": [
    "### 数据加载"
   ]
  },
  {
   "cell_type": "code",
   "execution_count": null,
   "metadata": {},
   "outputs": [],
   "source": [
    "from source.load_excel_to_table import load_excel_to_table\n",
    "\n",
    "part_a_conn = load_excel_to_table(\"/Users/sqjian/Documents/codespace/financial_tools/testdata/test.xlsx\", \"甲方\", \"part_a\")\n",
    "part_b_conn = load_excel_to_table(\"/Users/sqjian/Documents/codespace/financial_tools/testdata/test.xlsx\", \"乙方\", \"part_b\")"
   ]
  },
  {
   "cell_type": "markdown",
   "metadata": {},
   "source": [
    "### 提取分类条件"
   ]
  },
  {
   "cell_type": "code",
   "execution_count": null,
   "metadata": {},
   "outputs": [],
   "source": [
    "import rich\n",
    "from source.get_group_conditions import get_group_conditions\n",
    "\n",
    "\n",
    "part_a_group_col_rst = get_group_conditions(part_a_conn, \"part_a\", \"统一仓库\", \"统一名称\", \"统一日期\")\n",
    "part_b_group_col_rst = get_group_conditions(part_b_conn, \"part_b\", \"统一仓库\", \"统一名称\", \"统一日期\")\n",
    "\n",
    "rich.print(part_a_group_col_rst)"
   ]
  },
  {
   "cell_type": "markdown",
   "metadata": {},
   "source": [
    "### 分组提取匹配情况"
   ]
  },
  {
   "cell_type": "code",
   "execution_count": null,
   "metadata": {},
   "outputs": [],
   "source": [
    "import rich\n",
    "from source.reconcile_lists import reconcile_lists\n",
    "from source.get_group_data import get_group_data\n",
    "\n",
    "group1_exit = False\n",
    "group2_exit = False\n",
    "\n",
    "for group1 in part_a_group_col_rst[\"group1_col\"]:\n",
    "    if group1_exit:\n",
    "        break\n",
    "    group1_exit = True\n",
    "    for group2 in part_a_group_col_rst[\"group2_col\"]:\n",
    "        if group2_exit:\n",
    "            break\n",
    "        group2_exit = True\n",
    "        for group3 in part_a_group_col_rst[\"group3_col\"]:\n",
    "            list_a = get_group_data(part_a_conn, \"part_a\", \"统一仓库\", group1, \"统一名称\", group2, \"统一日期\", group3, \"收货数量\")\n",
    "            list_b = get_group_data(part_b_conn, \"part_b\", \"统一仓库\", group1, \"统一名称\", group2, \"统一日期\", group3, \"实发数量\")\n",
    "            rst = reconcile_lists(list_a, list_b)\n",
    "            if all(len(value) == 0 for value in rst.values()):\n",
    "                continue\n",
    "            rich.print(f\"{group1}=>{group2}=>{group3}\", rst)"
   ]
  },
  {
   "cell_type": "markdown",
   "metadata": {},
   "source": [
    "### 单点测试"
   ]
  },
  {
   "cell_type": "code",
   "execution_count": null,
   "metadata": {},
   "outputs": [],
   "source": [
    "import rich\n",
    "from source.reconcile_lists import reconcile_lists\n",
    "from source.get_group_data import get_group_data\n",
    "from collections import Counter\n",
    "\n",
    "list_a = get_group_data(part_a_conn, \"part_a\", \"统一仓库\", \"安徽合肥仓\", \"统一名称\", \"徐福记沙琪玛香酥芝麻味袋装@5(20x32g) N1 CN\", \"统一日期\", \"2024-07-01 00:00:00\", \"收货数量\")\n",
    "list_b = get_group_data(part_b_conn, \"part_b\", \"统一仓库\", \"安徽合肥仓\", \"统一名称\", \"徐福记沙琪玛香酥芝麻味袋装@5(20x32g) N1 CN\", \"统一日期\", \"2024-07-01 00:00:00\", \"实发数量\")\n",
    "_rst = reconcile_lists(list_a, list_b)\n",
    "rich.print(_rst)"
   ]
  },
  {
   "cell_type": "markdown",
   "metadata": {},
   "source": [
    "### 移除匹配的数据\n",
    "\n",
    "匹配条件\n",
    "- 实发批号的时间需要大于收货批号\n",
    "- 两个时间尽可能相邻\n",
    "- 数量相等"
   ]
  },
  {
   "cell_type": "code",
   "execution_count": null,
   "metadata": {},
   "outputs": [],
   "source": [
    "from string import Template\n",
    "\n",
    "\n",
    "def process_exact_matches(exact_matches):\n",
    "    _part_b_sql_query_tmpl = \"\"\"\n",
    "SELECT\n",
    "\t*\n",
    "FROM\n",
    "\tmain.part_b\n",
    "WHERE\n",
    "\t统一仓库 = '安徽合肥仓'\n",
    "\tAND 统一名称 = '徐福记沙琪玛香酥芝麻味袋装@5(20x32g) N1 CN'\n",
    "\tAND 统一日期 = '2024-07-01 00:00:00'\n",
    "\tAND 实发数量 = ${exact_match_key}\n",
    "limit ${exact_match_val}\n",
    "\"\"\"\n",
    "    _part_b_sql_delete_tmpl = \"\"\"\n",
    "DELETE\n",
    "FROM\n",
    "\tmain.part_b\n",
    "WHERE\n",
    "\tid IN (\n",
    "\tSELECT\n",
    "\t\tid\n",
    "\tFROM\n",
    "\t\tmain.part_b pb\n",
    "\tWHERE\n",
    "\t\t统一仓库 = '安徽合肥仓'\n",
    "\t\tAND 统一名称 = '徐福记沙琪玛香酥芝麻味袋装@5(20x32g) N1 CN'\n",
    "\t\tAND 统一日期 = '2024-07-01 00:00:00'\n",
    "\t\tAND 实发数量 = ${exact_match_key}\n",
    "\tLIMIT ${exact_match_val}\n",
    ")\n",
    "RETURNING *\n",
    ";\n",
    "\"\"\"\n",
    "\n",
    "    for exact_match_key, exact_match_val in exact_matches.items():\n",
    "        part_b_ts = part_b_conn.sql(Template(_part_b_sql_query_tmpl.strip()).substitute(exact_match_key=exact_match_key, exact_match_val=exact_match_val)).fetchdf()\n",
    "        print(part_b_ts[\"发货月份\"].values[0] if len(part_b_ts) > 0 else part_b_ts)\n",
    "        print(\"--------------------\")\n",
    "        part_b_del_stats = part_b_conn.sql(Template(_part_b_sql_delete_tmpl.strip()).substitute(exact_match_key=exact_match_key, exact_match_val=exact_match_val))\n",
    "        print(part_b_del_stats)\n",
    "\n",
    "\n",
    "process_exact_matches(_rst[\"exact_matches\"])"
   ]
  },
  {
   "cell_type": "code",
   "execution_count": null,
   "metadata": {},
   "outputs": [],
   "source": [
    "result = part_a_conn.sql(f\"DELETE FROM part_a WHERE 统一仓库 = '安徽合肥仓' AND 统一名称 = '徐福记沙琪玛香酥芝麻味袋装@5(20x32g) N1 CN' AND 统一日期 = '2024-07-01 00:00:00' AND 收货数量 = 10 RETURNING *\")\n",
    "print(len(result))"
   ]
  }
 ],
 "metadata": {
  "kernelspec": {
   "display_name": ".venv",
   "language": "python",
   "name": "python3"
  },
  "language_info": {
   "codemirror_mode": {
    "name": "ipython",
    "version": 3
   },
   "file_extension": ".py",
   "mimetype": "text/x-python",
   "name": "python",
   "nbconvert_exporter": "python",
   "pygments_lexer": "ipython3",
   "version": "3.12.9"
  }
 },
 "nbformat": 4,
 "nbformat_minor": 2
}

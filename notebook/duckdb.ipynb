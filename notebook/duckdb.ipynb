{
 "cells": [
  {
   "cell_type": "markdown",
   "metadata": {},
   "source": [
    "### 数据加载"
   ]
  },
  {
   "cell_type": "code",
   "execution_count": 1,
   "metadata": {},
   "outputs": [],
   "source": [
    "from source.load_excel_to_table import load_excel_to_table\n",
    "\n",
    "part_a_conn = load_excel_to_table(\"/Users/sqjian/Documents/codespace/financial_tools/testdata/test.xlsx\", \"甲方\", \"part_a\")\n",
    "part_b_conn = load_excel_to_table(\"/Users/sqjian/Documents/codespace/financial_tools/testdata/test.xlsx\", \"乙方\", \"part_b\")"
   ]
  },
  {
   "cell_type": "markdown",
   "metadata": {},
   "source": [
    "### 提取分类条件"
   ]
  },
  {
   "cell_type": "code",
   "execution_count": 2,
   "metadata": {},
   "outputs": [
    {
     "data": {
      "text/html": [
       "<pre style=\"white-space:pre;overflow-x:auto;line-height:normal;font-family:Menlo,'DejaVu Sans Mono',consolas,'Courier New',monospace\"><span style=\"font-weight: bold\">{</span>\n",
       "    <span style=\"color: #008000; text-decoration-color: #008000\">'group1_col'</span>: <span style=\"font-weight: bold\">[</span>\n",
       "        <span style=\"color: #008000; text-decoration-color: #008000\">'安徽合肥仓'</span>,\n",
       "        <span style=\"color: #008000; text-decoration-color: #008000\">'河南新乡仓'</span>,\n",
       "        <span style=\"color: #008000; text-decoration-color: #008000\">'河南漯河仓'</span>,\n",
       "        <span style=\"color: #008000; text-decoration-color: #008000\">'安徽淮南仓'</span>,\n",
       "        <span style=\"color: #008000; text-decoration-color: #008000\">'甘肃兰州仓'</span>,\n",
       "        <span style=\"color: #008000; text-decoration-color: #008000\">'安徽宿州仓'</span>,\n",
       "        <span style=\"color: #008000; text-decoration-color: #008000\">'内蒙古呼和浩特仓'</span>,\n",
       "        <span style=\"color: #008000; text-decoration-color: #008000\">'河北邯郸仓'</span>,\n",
       "        <span style=\"color: #008000; text-decoration-color: #008000\">'河北廊坊仓'</span>,\n",
       "        <span style=\"color: #008000; text-decoration-color: #008000\">'河北石家庄仓'</span>\n",
       "    <span style=\"font-weight: bold\">]</span>,\n",
       "    <span style=\"color: #008000; text-decoration-color: #008000\">'group2_col'</span>: <span style=\"font-weight: bold\">[</span>\n",
       "        <span style=\"color: #008000; text-decoration-color: #008000\">'徐福记沙琪玛香酥芝麻味袋装@5(20x32g) N1 CN'</span>,\n",
       "        <span style=\"color: #008000; text-decoration-color: #008000\">'熊博士果Q弹橡皮糖综合水果袋装@6(10x60g) N1 CN'</span>,\n",
       "        <span style=\"color: #008000; text-decoration-color: #008000\">'DODO综合果味棒棒糖零食店@2x3Kg CN'</span>,\n",
       "        <span style=\"color: #008000; text-decoration-color: #008000\">'熊博士白桃乌龙茶味果肉口嚼糖9粒条装@6(12x36g) CN'</span>,\n",
       "        <span style=\"color: #008000; text-decoration-color: #008000\">'徐福记咸香芝士味米果卷金点@4x1.5kg N1 CN'</span>,\n",
       "        <span style=\"color: #008000; text-decoration-color: #008000\">'熊博士综合果汁大棒糖零食店@12x76g CN'</span>,\n",
       "        <span style=\"color: #008000; text-decoration-color: #008000\">'趣满果花心杂果味迷你筒开盒有礼竖版@6(8x30g) CN'</span>,\n",
       "        <span style=\"color: #008000; text-decoration-color: #008000\">'徐福记沙琪玛香酥鸡蛋味八庄捆绑袋装@20(2x160g) N1 CN'</span>,\n",
       "        <span style=\"color: #008000; text-decoration-color: #008000\">'徐福记香烤牛排味米果卷金点@4x1.5kg N1 CN'</span>,\n",
       "        <span style=\"color: #008000; text-decoration-color: #008000\">'熊博士青提绿茶味果肉口嚼糖9粒条装@6(12x36g) CN'</span>,\n",
       "        <span style=\"color: #008000; text-decoration-color: #008000\">'徐福记卷心酥香草牛奶味袋装扫码专供@4(6x52g) CN'</span>,\n",
       "        <span style=\"color: #008000; text-decoration-color: #008000\">'徐福记糖霜橡皮糖蚯蚓型散糖金致系列@4x1.5kg CN'</span>,\n",
       "        <span style=\"color: #008000; text-decoration-color: #008000\">'徐福记卷心酥清新草莓味袋装扫码专供@4(6x52g) CN'</span>,\n",
       "        <span style=\"color: #008000; text-decoration-color: #008000\">'奇巧威化黑巧克力纸袋装零食店@4(8x46g) CN'</span>,\n",
       "        <span style=\"color: #008000; text-decoration-color: #008000\">'趣满果黑加仑味迷你筒开盒有礼竖版@6(8x30g) CN'</span>,\n",
       "        <span style=\"color: #008000; text-decoration-color: #008000\">'雀巢麦丽素可可味桶装零食店@24x108g CN'</span>,\n",
       "        <span style=\"color: #008000; text-decoration-color: #008000\">'奇巧威化牛奶巧克力纸袋装零食店@4(8x46g) CN'</span>,\n",
       "        <span style=\"color: #008000; text-decoration-color: #008000\">'徐福记黑芝麻味酥心糖散糖金致系列@4x1.5kg CN'</span>,\n",
       "        <span style=\"color: #008000; text-decoration-color: #008000\">'雀巢奇欧比原味零糖代可可脂巧克力散装@2x3kg CN'</span>,\n",
       "        <span style=\"color: #008000; text-decoration-color: #008000\">'徐福记落花生味酥心糖散糖金致系列@4x1.5kg CN'</span>,\n",
       "        <span style=\"color: #008000; text-decoration-color: #008000\">'奇欧比芝麻酱馅八角系列代可可脂巧克力制品散装@2x3kg CN'</span>,\n",
       "        <span style=\"color: #008000; text-decoration-color: #008000\">'徐福记香烤牛排味米果卷散点银致系列@4x1.5kg N1 CN'</span>,\n",
       "        <span style=\"color: #008000; text-decoration-color: #008000\">'徐福记咸香芝士味米果卷散点银致系列@4x1.5kg N1 CN'</span>,\n",
       "        <span style=\"color: #008000; text-decoration-color: #008000\">'趣满果黑加仑味迷你筒开盒有礼@6(8x30g) CN'</span>,\n",
       "        <span style=\"color: #008000; text-decoration-color: #008000\">'趣满果花心杂果味迷你筒开盒有礼@6(8x30g) CN'</span>,\n",
       "        <span style=\"color: #008000; text-decoration-color: #008000\">'徐福记橡皮糖大桔瓣型袋装零食店@20x80g CN'</span>,\n",
       "        <span style=\"color: #008000; text-decoration-color: #008000\">'徐福记沙琪玛松软鸡蛋味袋装@5(20x32g) N1 CN'</span>,\n",
       "        <span style=\"color: #008000; text-decoration-color: #008000\">'雀巢奇欧比可可味麦丽素代可可脂巧克力制品袋装@8(10x35g) CN'</span>\n",
       "    <span style=\"font-weight: bold\">]</span>,\n",
       "    <span style=\"color: #008000; text-decoration-color: #008000\">'group3_col'</span>: <span style=\"font-weight: bold\">[</span>\n",
       "        <span style=\"color: #800080; text-decoration-color: #800080; font-weight: bold\">Timestamp</span><span style=\"font-weight: bold\">(</span><span style=\"color: #008000; text-decoration-color: #008000\">'2023-10-01 00:00:00'</span><span style=\"font-weight: bold\">)</span>,\n",
       "        <span style=\"color: #800080; text-decoration-color: #800080; font-weight: bold\">Timestamp</span><span style=\"font-weight: bold\">(</span><span style=\"color: #008000; text-decoration-color: #008000\">'2023-11-01 00:00:00'</span><span style=\"font-weight: bold\">)</span>,\n",
       "        <span style=\"color: #800080; text-decoration-color: #800080; font-weight: bold\">Timestamp</span><span style=\"font-weight: bold\">(</span><span style=\"color: #008000; text-decoration-color: #008000\">'2023-12-01 00:00:00'</span><span style=\"font-weight: bold\">)</span>,\n",
       "        <span style=\"color: #800080; text-decoration-color: #800080; font-weight: bold\">Timestamp</span><span style=\"font-weight: bold\">(</span><span style=\"color: #008000; text-decoration-color: #008000\">'2024-01-01 00:00:00'</span><span style=\"font-weight: bold\">)</span>,\n",
       "        <span style=\"color: #800080; text-decoration-color: #800080; font-weight: bold\">Timestamp</span><span style=\"font-weight: bold\">(</span><span style=\"color: #008000; text-decoration-color: #008000\">'2024-02-01 00:00:00'</span><span style=\"font-weight: bold\">)</span>,\n",
       "        <span style=\"color: #800080; text-decoration-color: #800080; font-weight: bold\">Timestamp</span><span style=\"font-weight: bold\">(</span><span style=\"color: #008000; text-decoration-color: #008000\">'2024-03-01 00:00:00'</span><span style=\"font-weight: bold\">)</span>,\n",
       "        <span style=\"color: #800080; text-decoration-color: #800080; font-weight: bold\">Timestamp</span><span style=\"font-weight: bold\">(</span><span style=\"color: #008000; text-decoration-color: #008000\">'2024-04-01 00:00:00'</span><span style=\"font-weight: bold\">)</span>,\n",
       "        <span style=\"color: #800080; text-decoration-color: #800080; font-weight: bold\">Timestamp</span><span style=\"font-weight: bold\">(</span><span style=\"color: #008000; text-decoration-color: #008000\">'2024-05-01 00:00:00'</span><span style=\"font-weight: bold\">)</span>,\n",
       "        <span style=\"color: #800080; text-decoration-color: #800080; font-weight: bold\">Timestamp</span><span style=\"font-weight: bold\">(</span><span style=\"color: #008000; text-decoration-color: #008000\">'2024-06-01 00:00:00'</span><span style=\"font-weight: bold\">)</span>,\n",
       "        <span style=\"color: #800080; text-decoration-color: #800080; font-weight: bold\">Timestamp</span><span style=\"font-weight: bold\">(</span><span style=\"color: #008000; text-decoration-color: #008000\">'2024-07-01 00:00:00'</span><span style=\"font-weight: bold\">)</span>,\n",
       "        <span style=\"color: #800080; text-decoration-color: #800080; font-weight: bold\">Timestamp</span><span style=\"font-weight: bold\">(</span><span style=\"color: #008000; text-decoration-color: #008000\">'2024-08-01 00:00:00'</span><span style=\"font-weight: bold\">)</span>,\n",
       "        <span style=\"color: #800080; text-decoration-color: #800080; font-weight: bold\">Timestamp</span><span style=\"font-weight: bold\">(</span><span style=\"color: #008000; text-decoration-color: #008000\">'2024-09-01 00:00:00'</span><span style=\"font-weight: bold\">)</span>,\n",
       "        <span style=\"color: #800080; text-decoration-color: #800080; font-weight: bold\">Timestamp</span><span style=\"font-weight: bold\">(</span><span style=\"color: #008000; text-decoration-color: #008000\">'2024-10-01 00:00:00'</span><span style=\"font-weight: bold\">)</span>,\n",
       "        <span style=\"color: #800080; text-decoration-color: #800080; font-weight: bold\">Timestamp</span><span style=\"font-weight: bold\">(</span><span style=\"color: #008000; text-decoration-color: #008000\">'2024-11-01 00:00:00'</span><span style=\"font-weight: bold\">)</span>,\n",
       "        <span style=\"color: #800080; text-decoration-color: #800080; font-weight: bold\">Timestamp</span><span style=\"font-weight: bold\">(</span><span style=\"color: #008000; text-decoration-color: #008000\">'2024-12-01 00:00:00'</span><span style=\"font-weight: bold\">)</span>\n",
       "    <span style=\"font-weight: bold\">]</span>\n",
       "<span style=\"font-weight: bold\">}</span>\n",
       "</pre>\n"
      ],
      "text/plain": [
       "\u001b[1m{\u001b[0m\n",
       "    \u001b[32m'group1_col'\u001b[0m: \u001b[1m[\u001b[0m\n",
       "        \u001b[32m'安徽合肥仓'\u001b[0m,\n",
       "        \u001b[32m'河南新乡仓'\u001b[0m,\n",
       "        \u001b[32m'河南漯河仓'\u001b[0m,\n",
       "        \u001b[32m'安徽淮南仓'\u001b[0m,\n",
       "        \u001b[32m'甘肃兰州仓'\u001b[0m,\n",
       "        \u001b[32m'安徽宿州仓'\u001b[0m,\n",
       "        \u001b[32m'内蒙古呼和浩特仓'\u001b[0m,\n",
       "        \u001b[32m'河北邯郸仓'\u001b[0m,\n",
       "        \u001b[32m'河北廊坊仓'\u001b[0m,\n",
       "        \u001b[32m'河北石家庄仓'\u001b[0m\n",
       "    \u001b[1m]\u001b[0m,\n",
       "    \u001b[32m'group2_col'\u001b[0m: \u001b[1m[\u001b[0m\n",
       "        \u001b[32m'徐福记沙琪玛香酥芝麻味袋装@5\u001b[0m\u001b[32m(\u001b[0m\u001b[32m20x32g\u001b[0m\u001b[32m)\u001b[0m\u001b[32m N1 CN'\u001b[0m,\n",
       "        \u001b[32m'熊博士果Q弹橡皮糖综合水果袋装@6\u001b[0m\u001b[32m(\u001b[0m\u001b[32m10x60g\u001b[0m\u001b[32m)\u001b[0m\u001b[32m N1 CN'\u001b[0m,\n",
       "        \u001b[32m'DODO综合果味棒棒糖零食店@2x3Kg CN'\u001b[0m,\n",
       "        \u001b[32m'熊博士白桃乌龙茶味果肉口嚼糖9粒条装@6\u001b[0m\u001b[32m(\u001b[0m\u001b[32m12x36g\u001b[0m\u001b[32m)\u001b[0m\u001b[32m CN'\u001b[0m,\n",
       "        \u001b[32m'徐福记咸香芝士味米果卷金点@4x1.5kg N1 CN'\u001b[0m,\n",
       "        \u001b[32m'熊博士综合果汁大棒糖零食店@12x76g CN'\u001b[0m,\n",
       "        \u001b[32m'趣满果花心杂果味迷你筒开盒有礼竖版@6\u001b[0m\u001b[32m(\u001b[0m\u001b[32m8x30g\u001b[0m\u001b[32m)\u001b[0m\u001b[32m CN'\u001b[0m,\n",
       "        \u001b[32m'徐福记沙琪玛香酥鸡蛋味八庄捆绑袋装@20\u001b[0m\u001b[32m(\u001b[0m\u001b[32m2x160g\u001b[0m\u001b[32m)\u001b[0m\u001b[32m N1 CN'\u001b[0m,\n",
       "        \u001b[32m'徐福记香烤牛排味米果卷金点@4x1.5kg N1 CN'\u001b[0m,\n",
       "        \u001b[32m'熊博士青提绿茶味果肉口嚼糖9粒条装@6\u001b[0m\u001b[32m(\u001b[0m\u001b[32m12x36g\u001b[0m\u001b[32m)\u001b[0m\u001b[32m CN'\u001b[0m,\n",
       "        \u001b[32m'徐福记卷心酥香草牛奶味袋装扫码专供@4\u001b[0m\u001b[32m(\u001b[0m\u001b[32m6x52g\u001b[0m\u001b[32m)\u001b[0m\u001b[32m CN'\u001b[0m,\n",
       "        \u001b[32m'徐福记糖霜橡皮糖蚯蚓型散糖金致系列@4x1.5kg CN'\u001b[0m,\n",
       "        \u001b[32m'徐福记卷心酥清新草莓味袋装扫码专供@4\u001b[0m\u001b[32m(\u001b[0m\u001b[32m6x52g\u001b[0m\u001b[32m)\u001b[0m\u001b[32m CN'\u001b[0m,\n",
       "        \u001b[32m'奇巧威化黑巧克力纸袋装零食店@4\u001b[0m\u001b[32m(\u001b[0m\u001b[32m8x46g\u001b[0m\u001b[32m)\u001b[0m\u001b[32m CN'\u001b[0m,\n",
       "        \u001b[32m'趣满果黑加仑味迷你筒开盒有礼竖版@6\u001b[0m\u001b[32m(\u001b[0m\u001b[32m8x30g\u001b[0m\u001b[32m)\u001b[0m\u001b[32m CN'\u001b[0m,\n",
       "        \u001b[32m'雀巢麦丽素可可味桶装零食店@24x108g CN'\u001b[0m,\n",
       "        \u001b[32m'奇巧威化牛奶巧克力纸袋装零食店@4\u001b[0m\u001b[32m(\u001b[0m\u001b[32m8x46g\u001b[0m\u001b[32m)\u001b[0m\u001b[32m CN'\u001b[0m,\n",
       "        \u001b[32m'徐福记黑芝麻味酥心糖散糖金致系列@4x1.5kg CN'\u001b[0m,\n",
       "        \u001b[32m'雀巢奇欧比原味零糖代可可脂巧克力散装@2x3kg CN'\u001b[0m,\n",
       "        \u001b[32m'徐福记落花生味酥心糖散糖金致系列@4x1.5kg CN'\u001b[0m,\n",
       "        \u001b[32m'奇欧比芝麻酱馅八角系列代可可脂巧克力制品散装@2x3kg CN'\u001b[0m,\n",
       "        \u001b[32m'徐福记香烤牛排味米果卷散点银致系列@4x1.5kg N1 CN'\u001b[0m,\n",
       "        \u001b[32m'徐福记咸香芝士味米果卷散点银致系列@4x1.5kg N1 CN'\u001b[0m,\n",
       "        \u001b[32m'趣满果黑加仑味迷你筒开盒有礼@6\u001b[0m\u001b[32m(\u001b[0m\u001b[32m8x30g\u001b[0m\u001b[32m)\u001b[0m\u001b[32m CN'\u001b[0m,\n",
       "        \u001b[32m'趣满果花心杂果味迷你筒开盒有礼@6\u001b[0m\u001b[32m(\u001b[0m\u001b[32m8x30g\u001b[0m\u001b[32m)\u001b[0m\u001b[32m CN'\u001b[0m,\n",
       "        \u001b[32m'徐福记橡皮糖大桔瓣型袋装零食店@20x80g CN'\u001b[0m,\n",
       "        \u001b[32m'徐福记沙琪玛松软鸡蛋味袋装@5\u001b[0m\u001b[32m(\u001b[0m\u001b[32m20x32g\u001b[0m\u001b[32m)\u001b[0m\u001b[32m N1 CN'\u001b[0m,\n",
       "        \u001b[32m'雀巢奇欧比可可味麦丽素代可可脂巧克力制品袋装@8\u001b[0m\u001b[32m(\u001b[0m\u001b[32m10x35g\u001b[0m\u001b[32m)\u001b[0m\u001b[32m CN'\u001b[0m\n",
       "    \u001b[1m]\u001b[0m,\n",
       "    \u001b[32m'group3_col'\u001b[0m: \u001b[1m[\u001b[0m\n",
       "        \u001b[1;35mTimestamp\u001b[0m\u001b[1m(\u001b[0m\u001b[32m'2023-10-01 00:00:00'\u001b[0m\u001b[1m)\u001b[0m,\n",
       "        \u001b[1;35mTimestamp\u001b[0m\u001b[1m(\u001b[0m\u001b[32m'2023-11-01 00:00:00'\u001b[0m\u001b[1m)\u001b[0m,\n",
       "        \u001b[1;35mTimestamp\u001b[0m\u001b[1m(\u001b[0m\u001b[32m'2023-12-01 00:00:00'\u001b[0m\u001b[1m)\u001b[0m,\n",
       "        \u001b[1;35mTimestamp\u001b[0m\u001b[1m(\u001b[0m\u001b[32m'2024-01-01 00:00:00'\u001b[0m\u001b[1m)\u001b[0m,\n",
       "        \u001b[1;35mTimestamp\u001b[0m\u001b[1m(\u001b[0m\u001b[32m'2024-02-01 00:00:00'\u001b[0m\u001b[1m)\u001b[0m,\n",
       "        \u001b[1;35mTimestamp\u001b[0m\u001b[1m(\u001b[0m\u001b[32m'2024-03-01 00:00:00'\u001b[0m\u001b[1m)\u001b[0m,\n",
       "        \u001b[1;35mTimestamp\u001b[0m\u001b[1m(\u001b[0m\u001b[32m'2024-04-01 00:00:00'\u001b[0m\u001b[1m)\u001b[0m,\n",
       "        \u001b[1;35mTimestamp\u001b[0m\u001b[1m(\u001b[0m\u001b[32m'2024-05-01 00:00:00'\u001b[0m\u001b[1m)\u001b[0m,\n",
       "        \u001b[1;35mTimestamp\u001b[0m\u001b[1m(\u001b[0m\u001b[32m'2024-06-01 00:00:00'\u001b[0m\u001b[1m)\u001b[0m,\n",
       "        \u001b[1;35mTimestamp\u001b[0m\u001b[1m(\u001b[0m\u001b[32m'2024-07-01 00:00:00'\u001b[0m\u001b[1m)\u001b[0m,\n",
       "        \u001b[1;35mTimestamp\u001b[0m\u001b[1m(\u001b[0m\u001b[32m'2024-08-01 00:00:00'\u001b[0m\u001b[1m)\u001b[0m,\n",
       "        \u001b[1;35mTimestamp\u001b[0m\u001b[1m(\u001b[0m\u001b[32m'2024-09-01 00:00:00'\u001b[0m\u001b[1m)\u001b[0m,\n",
       "        \u001b[1;35mTimestamp\u001b[0m\u001b[1m(\u001b[0m\u001b[32m'2024-10-01 00:00:00'\u001b[0m\u001b[1m)\u001b[0m,\n",
       "        \u001b[1;35mTimestamp\u001b[0m\u001b[1m(\u001b[0m\u001b[32m'2024-11-01 00:00:00'\u001b[0m\u001b[1m)\u001b[0m,\n",
       "        \u001b[1;35mTimestamp\u001b[0m\u001b[1m(\u001b[0m\u001b[32m'2024-12-01 00:00:00'\u001b[0m\u001b[1m)\u001b[0m\n",
       "    \u001b[1m]\u001b[0m\n",
       "\u001b[1m}\u001b[0m\n"
      ]
     },
     "metadata": {},
     "output_type": "display_data"
    }
   ],
   "source": [
    "import rich\n",
    "from source.get_group_conditions import get_group_conditions\n",
    "\n",
    "\n",
    "part_a_group_col_rst = get_group_conditions(part_a_conn, \"part_a\", \"统一仓库\", \"统一名称\", \"统一日期\")\n",
    "part_b_group_col_rst = get_group_conditions(part_b_conn, \"part_b\", \"统一仓库\", \"统一名称\", \"统一日期\")\n",
    "\n",
    "rich.print(part_a_group_col_rst)"
   ]
  },
  {
   "cell_type": "markdown",
   "metadata": {},
   "source": [
    "### 分组提取匹配情况"
   ]
  },
  {
   "cell_type": "code",
   "execution_count": 3,
   "metadata": {},
   "outputs": [
    {
     "data": {
      "text/html": [
       "<pre style=\"white-space:pre;overflow-x:auto;line-height:normal;font-family:Menlo,'DejaVu Sans Mono',consolas,'Courier New',monospace\"><span style=\"color: #808000; text-decoration-color: #808000\">安徽合肥仓</span>=&gt;徐福记沙琪玛香酥芝麻味袋装@<span style=\"color: #800080; text-decoration-color: #800080; font-weight: bold\">5</span><span style=\"font-weight: bold\">(</span>2<span style=\"color: #008080; text-decoration-color: #008080; font-weight: bold\">0x32</span>g<span style=\"font-weight: bold\">)</span> N1 <span style=\"color: #808000; text-decoration-color: #808000\">CN</span>=&gt;<span style=\"color: #008080; text-decoration-color: #008080; font-weight: bold\">2023</span>-<span style=\"color: #008080; text-decoration-color: #008080; font-weight: bold\">11</span>-<span style=\"color: #008080; text-decoration-color: #008080; font-weight: bold\">01</span> <span style=\"color: #00ff00; text-decoration-color: #00ff00; font-weight: bold\">00:00:00</span>\n",
       "<span style=\"font-weight: bold\">{</span>\n",
       "    <span style=\"color: #008000; text-decoration-color: #008000\">'exact_matches'</span>: <span style=\"font-weight: bold\">{</span><span style=\"color: #008080; text-decoration-color: #008080; font-weight: bold\">300.0</span>: <span style=\"color: #008080; text-decoration-color: #008080; font-weight: bold\">1</span>, <span style=\"color: #008080; text-decoration-color: #008080; font-weight: bold\">150.0</span>: <span style=\"color: #008080; text-decoration-color: #008080; font-weight: bold\">1</span><span style=\"font-weight: bold\">}</span>,\n",
       "    <span style=\"color: #008000; text-decoration-color: #008000\">'combo_matches_a_to_b'</span>: <span style=\"font-weight: bold\">[]</span>,\n",
       "    <span style=\"color: #008000; text-decoration-color: #008000\">'combo_matches_b_to_a'</span>: <span style=\"font-weight: bold\">[]</span>,\n",
       "    <span style=\"color: #008000; text-decoration-color: #008000\">'unmatched_a'</span>: <span style=\"font-weight: bold\">[]</span>,\n",
       "    <span style=\"color: #008000; text-decoration-color: #008000\">'unmatched_b'</span>: <span style=\"font-weight: bold\">[</span><span style=\"color: #008080; text-decoration-color: #008080; font-weight: bold\">358.0</span>, <span style=\"color: #008080; text-decoration-color: #008080; font-weight: bold\">300.0</span>, <span style=\"color: #008080; text-decoration-color: #008080; font-weight: bold\">292.0</span>, <span style=\"color: #008080; text-decoration-color: #008080; font-weight: bold\">200.0</span>, <span style=\"color: #008080; text-decoration-color: #008080; font-weight: bold\">150.0</span>, <span style=\"color: #008080; text-decoration-color: #008080; font-weight: bold\">150.0</span>, <span style=\"color: #008080; text-decoration-color: #008080; font-weight: bold\">132.0</span>, <span style=\"color: #008080; text-decoration-color: #008080; font-weight: bold\">92.0</span>, <span style=\"color: #008080; text-decoration-color: #008080; font-weight: bold\">68.0</span>, <span style=\"color: #008080; text-decoration-color: #008080; font-weight: bold\">8.0</span><span style=\"font-weight: bold\">]</span>\n",
       "<span style=\"font-weight: bold\">}</span>\n",
       "</pre>\n"
      ],
      "text/plain": [
       "\u001b[33m安徽合肥仓\u001b[0m=>徐福记沙琪玛香酥芝麻味袋装@\u001b[1;35m5\u001b[0m\u001b[1m(\u001b[0m2\u001b[1;36m0x32\u001b[0mg\u001b[1m)\u001b[0m N1 \u001b[33mCN\u001b[0m=>\u001b[1;36m2023\u001b[0m-\u001b[1;36m11\u001b[0m-\u001b[1;36m01\u001b[0m \u001b[1;92m00:00:00\u001b[0m\n",
       "\u001b[1m{\u001b[0m\n",
       "    \u001b[32m'exact_matches'\u001b[0m: \u001b[1m{\u001b[0m\u001b[1;36m300.0\u001b[0m: \u001b[1;36m1\u001b[0m, \u001b[1;36m150.0\u001b[0m: \u001b[1;36m1\u001b[0m\u001b[1m}\u001b[0m,\n",
       "    \u001b[32m'combo_matches_a_to_b'\u001b[0m: \u001b[1m[\u001b[0m\u001b[1m]\u001b[0m,\n",
       "    \u001b[32m'combo_matches_b_to_a'\u001b[0m: \u001b[1m[\u001b[0m\u001b[1m]\u001b[0m,\n",
       "    \u001b[32m'unmatched_a'\u001b[0m: \u001b[1m[\u001b[0m\u001b[1m]\u001b[0m,\n",
       "    \u001b[32m'unmatched_b'\u001b[0m: \u001b[1m[\u001b[0m\u001b[1;36m358.0\u001b[0m, \u001b[1;36m300.0\u001b[0m, \u001b[1;36m292.0\u001b[0m, \u001b[1;36m200.0\u001b[0m, \u001b[1;36m150.0\u001b[0m, \u001b[1;36m150.0\u001b[0m, \u001b[1;36m132.0\u001b[0m, \u001b[1;36m92.0\u001b[0m, \u001b[1;36m68.0\u001b[0m, \u001b[1;36m8.0\u001b[0m\u001b[1m]\u001b[0m\n",
       "\u001b[1m}\u001b[0m\n"
      ]
     },
     "metadata": {},
     "output_type": "display_data"
    },
    {
     "data": {
      "text/html": [
       "<pre style=\"white-space:pre;overflow-x:auto;line-height:normal;font-family:Menlo,'DejaVu Sans Mono',consolas,'Courier New',monospace\"><span style=\"color: #808000; text-decoration-color: #808000\">安徽合肥仓</span>=&gt;徐福记沙琪玛香酥芝麻味袋装@<span style=\"color: #800080; text-decoration-color: #800080; font-weight: bold\">5</span><span style=\"font-weight: bold\">(</span>2<span style=\"color: #008080; text-decoration-color: #008080; font-weight: bold\">0x32</span>g<span style=\"font-weight: bold\">)</span> N1 <span style=\"color: #808000; text-decoration-color: #808000\">CN</span>=&gt;<span style=\"color: #008080; text-decoration-color: #008080; font-weight: bold\">2023</span>-<span style=\"color: #008080; text-decoration-color: #008080; font-weight: bold\">12</span>-<span style=\"color: #008080; text-decoration-color: #008080; font-weight: bold\">01</span> <span style=\"color: #00ff00; text-decoration-color: #00ff00; font-weight: bold\">00:00:00</span>\n",
       "<span style=\"font-weight: bold\">{</span>\n",
       "    <span style=\"color: #008000; text-decoration-color: #008000\">'exact_matches'</span>: <span style=\"font-weight: bold\">{</span><span style=\"color: #008080; text-decoration-color: #008080; font-weight: bold\">170.0</span>: <span style=\"color: #008080; text-decoration-color: #008080; font-weight: bold\">1</span>, <span style=\"color: #008080; text-decoration-color: #008080; font-weight: bold\">100.0</span>: <span style=\"color: #008080; text-decoration-color: #008080; font-weight: bold\">1</span>, <span style=\"color: #008080; text-decoration-color: #008080; font-weight: bold\">110.0</span>: <span style=\"color: #008080; text-decoration-color: #008080; font-weight: bold\">1</span><span style=\"font-weight: bold\">}</span>,\n",
       "    <span style=\"color: #008000; text-decoration-color: #008000\">'combo_matches_a_to_b'</span>: <span style=\"font-weight: bold\">[]</span>,\n",
       "    <span style=\"color: #008000; text-decoration-color: #008000\">'combo_matches_b_to_a'</span>: <span style=\"font-weight: bold\">[]</span>,\n",
       "    <span style=\"color: #008000; text-decoration-color: #008000\">'unmatched_a'</span>: <span style=\"font-weight: bold\">[]</span>,\n",
       "    <span style=\"color: #008000; text-decoration-color: #008000\">'unmatched_b'</span>: <span style=\"font-weight: bold\">[</span><span style=\"color: #008080; text-decoration-color: #008080; font-weight: bold\">150.0</span>, <span style=\"color: #008080; text-decoration-color: #008080; font-weight: bold\">150.0</span>, <span style=\"color: #008080; text-decoration-color: #008080; font-weight: bold\">100.0</span>, <span style=\"color: #008080; text-decoration-color: #008080; font-weight: bold\">60.0</span>, <span style=\"color: #008080; text-decoration-color: #008080; font-weight: bold\">50.0</span><span style=\"font-weight: bold\">]</span>\n",
       "<span style=\"font-weight: bold\">}</span>\n",
       "</pre>\n"
      ],
      "text/plain": [
       "\u001b[33m安徽合肥仓\u001b[0m=>徐福记沙琪玛香酥芝麻味袋装@\u001b[1;35m5\u001b[0m\u001b[1m(\u001b[0m2\u001b[1;36m0x32\u001b[0mg\u001b[1m)\u001b[0m N1 \u001b[33mCN\u001b[0m=>\u001b[1;36m2023\u001b[0m-\u001b[1;36m12\u001b[0m-\u001b[1;36m01\u001b[0m \u001b[1;92m00:00:00\u001b[0m\n",
       "\u001b[1m{\u001b[0m\n",
       "    \u001b[32m'exact_matches'\u001b[0m: \u001b[1m{\u001b[0m\u001b[1;36m170.0\u001b[0m: \u001b[1;36m1\u001b[0m, \u001b[1;36m100.0\u001b[0m: \u001b[1;36m1\u001b[0m, \u001b[1;36m110.0\u001b[0m: \u001b[1;36m1\u001b[0m\u001b[1m}\u001b[0m,\n",
       "    \u001b[32m'combo_matches_a_to_b'\u001b[0m: \u001b[1m[\u001b[0m\u001b[1m]\u001b[0m,\n",
       "    \u001b[32m'combo_matches_b_to_a'\u001b[0m: \u001b[1m[\u001b[0m\u001b[1m]\u001b[0m,\n",
       "    \u001b[32m'unmatched_a'\u001b[0m: \u001b[1m[\u001b[0m\u001b[1m]\u001b[0m,\n",
       "    \u001b[32m'unmatched_b'\u001b[0m: \u001b[1m[\u001b[0m\u001b[1;36m150.0\u001b[0m, \u001b[1;36m150.0\u001b[0m, \u001b[1;36m100.0\u001b[0m, \u001b[1;36m60.0\u001b[0m, \u001b[1;36m50.0\u001b[0m\u001b[1m]\u001b[0m\n",
       "\u001b[1m}\u001b[0m\n"
      ]
     },
     "metadata": {},
     "output_type": "display_data"
    },
    {
     "data": {
      "text/html": [
       "<pre style=\"white-space:pre;overflow-x:auto;line-height:normal;font-family:Menlo,'DejaVu Sans Mono',consolas,'Courier New',monospace\"><span style=\"color: #808000; text-decoration-color: #808000\">安徽合肥仓</span>=&gt;徐福记沙琪玛香酥芝麻味袋装@<span style=\"color: #800080; text-decoration-color: #800080; font-weight: bold\">5</span><span style=\"font-weight: bold\">(</span>2<span style=\"color: #008080; text-decoration-color: #008080; font-weight: bold\">0x32</span>g<span style=\"font-weight: bold\">)</span> N1 <span style=\"color: #808000; text-decoration-color: #808000\">CN</span>=&gt;<span style=\"color: #008080; text-decoration-color: #008080; font-weight: bold\">2024</span>-<span style=\"color: #008080; text-decoration-color: #008080; font-weight: bold\">01</span>-<span style=\"color: #008080; text-decoration-color: #008080; font-weight: bold\">01</span> <span style=\"color: #00ff00; text-decoration-color: #00ff00; font-weight: bold\">00:00:00</span>\n",
       "<span style=\"font-weight: bold\">{</span>\n",
       "    <span style=\"color: #008000; text-decoration-color: #008000\">'exact_matches'</span>: <span style=\"font-weight: bold\">{</span><span style=\"color: #008080; text-decoration-color: #008080; font-weight: bold\">109.0</span>: <span style=\"color: #008080; text-decoration-color: #008080; font-weight: bold\">1</span><span style=\"font-weight: bold\">}</span>,\n",
       "    <span style=\"color: #008000; text-decoration-color: #008000\">'combo_matches_a_to_b'</span>: <span style=\"font-weight: bold\">[]</span>,\n",
       "    <span style=\"color: #008000; text-decoration-color: #008000\">'combo_matches_b_to_a'</span>: <span style=\"font-weight: bold\">[]</span>,\n",
       "    <span style=\"color: #008000; text-decoration-color: #008000\">'unmatched_a'</span>: <span style=\"font-weight: bold\">[</span><span style=\"color: #008080; text-decoration-color: #008080; font-weight: bold\">611.0</span>, <span style=\"color: #008080; text-decoration-color: #008080; font-weight: bold\">100.0</span><span style=\"font-weight: bold\">]</span>,\n",
       "    <span style=\"color: #008000; text-decoration-color: #008000\">'unmatched_b'</span>: <span style=\"font-weight: bold\">[</span><span style=\"color: #008080; text-decoration-color: #008080; font-weight: bold\">720.0</span>, <span style=\"color: #008080; text-decoration-color: #008080; font-weight: bold\">710.0</span>, <span style=\"color: #008080; text-decoration-color: #008080; font-weight: bold\">500.0</span>, <span style=\"color: #008080; text-decoration-color: #008080; font-weight: bold\">400.0</span>, <span style=\"color: #008080; text-decoration-color: #008080; font-weight: bold\">380.0</span>, <span style=\"color: #008080; text-decoration-color: #008080; font-weight: bold\">120.0</span>, <span style=\"color: #008080; text-decoration-color: #008080; font-weight: bold\">50.0</span>, <span style=\"color: #008080; text-decoration-color: #008080; font-weight: bold\">40.0</span><span style=\"font-weight: bold\">]</span>\n",
       "<span style=\"font-weight: bold\">}</span>\n",
       "</pre>\n"
      ],
      "text/plain": [
       "\u001b[33m安徽合肥仓\u001b[0m=>徐福记沙琪玛香酥芝麻味袋装@\u001b[1;35m5\u001b[0m\u001b[1m(\u001b[0m2\u001b[1;36m0x32\u001b[0mg\u001b[1m)\u001b[0m N1 \u001b[33mCN\u001b[0m=>\u001b[1;36m2024\u001b[0m-\u001b[1;36m01\u001b[0m-\u001b[1;36m01\u001b[0m \u001b[1;92m00:00:00\u001b[0m\n",
       "\u001b[1m{\u001b[0m\n",
       "    \u001b[32m'exact_matches'\u001b[0m: \u001b[1m{\u001b[0m\u001b[1;36m109.0\u001b[0m: \u001b[1;36m1\u001b[0m\u001b[1m}\u001b[0m,\n",
       "    \u001b[32m'combo_matches_a_to_b'\u001b[0m: \u001b[1m[\u001b[0m\u001b[1m]\u001b[0m,\n",
       "    \u001b[32m'combo_matches_b_to_a'\u001b[0m: \u001b[1m[\u001b[0m\u001b[1m]\u001b[0m,\n",
       "    \u001b[32m'unmatched_a'\u001b[0m: \u001b[1m[\u001b[0m\u001b[1;36m611.0\u001b[0m, \u001b[1;36m100.0\u001b[0m\u001b[1m]\u001b[0m,\n",
       "    \u001b[32m'unmatched_b'\u001b[0m: \u001b[1m[\u001b[0m\u001b[1;36m720.0\u001b[0m, \u001b[1;36m710.0\u001b[0m, \u001b[1;36m500.0\u001b[0m, \u001b[1;36m400.0\u001b[0m, \u001b[1;36m380.0\u001b[0m, \u001b[1;36m120.0\u001b[0m, \u001b[1;36m50.0\u001b[0m, \u001b[1;36m40.0\u001b[0m\u001b[1m]\u001b[0m\n",
       "\u001b[1m}\u001b[0m\n"
      ]
     },
     "metadata": {},
     "output_type": "display_data"
    },
    {
     "data": {
      "text/html": [
       "<pre style=\"white-space:pre;overflow-x:auto;line-height:normal;font-family:Menlo,'DejaVu Sans Mono',consolas,'Courier New',monospace\"><span style=\"color: #808000; text-decoration-color: #808000\">安徽合肥仓</span>=&gt;徐福记沙琪玛香酥芝麻味袋装@<span style=\"color: #800080; text-decoration-color: #800080; font-weight: bold\">5</span><span style=\"font-weight: bold\">(</span>2<span style=\"color: #008080; text-decoration-color: #008080; font-weight: bold\">0x32</span>g<span style=\"font-weight: bold\">)</span> N1 <span style=\"color: #808000; text-decoration-color: #808000\">CN</span>=&gt;<span style=\"color: #008080; text-decoration-color: #008080; font-weight: bold\">2024</span>-<span style=\"color: #008080; text-decoration-color: #008080; font-weight: bold\">03</span>-<span style=\"color: #008080; text-decoration-color: #008080; font-weight: bold\">01</span> <span style=\"color: #00ff00; text-decoration-color: #00ff00; font-weight: bold\">00:00:00</span>\n",
       "<span style=\"font-weight: bold\">{</span>\n",
       "    <span style=\"color: #008000; text-decoration-color: #008000\">'exact_matches'</span>: <span style=\"font-weight: bold\">{}</span>,\n",
       "    <span style=\"color: #008000; text-decoration-color: #008000\">'combo_matches_a_to_b'</span>: <span style=\"font-weight: bold\">[]</span>,\n",
       "    <span style=\"color: #008000; text-decoration-color: #008000\">'combo_matches_b_to_a'</span>: <span style=\"font-weight: bold\">[]</span>,\n",
       "    <span style=\"color: #008000; text-decoration-color: #008000\">'unmatched_a'</span>: <span style=\"font-weight: bold\">[]</span>,\n",
       "    <span style=\"color: #008000; text-decoration-color: #008000\">'unmatched_b'</span>: <span style=\"font-weight: bold\">[</span><span style=\"color: #008080; text-decoration-color: #008080; font-weight: bold\">100.0</span>, <span style=\"color: #008080; text-decoration-color: #008080; font-weight: bold\">54.0</span><span style=\"font-weight: bold\">]</span>\n",
       "<span style=\"font-weight: bold\">}</span>\n",
       "</pre>\n"
      ],
      "text/plain": [
       "\u001b[33m安徽合肥仓\u001b[0m=>徐福记沙琪玛香酥芝麻味袋装@\u001b[1;35m5\u001b[0m\u001b[1m(\u001b[0m2\u001b[1;36m0x32\u001b[0mg\u001b[1m)\u001b[0m N1 \u001b[33mCN\u001b[0m=>\u001b[1;36m2024\u001b[0m-\u001b[1;36m03\u001b[0m-\u001b[1;36m01\u001b[0m \u001b[1;92m00:00:00\u001b[0m\n",
       "\u001b[1m{\u001b[0m\n",
       "    \u001b[32m'exact_matches'\u001b[0m: \u001b[1m{\u001b[0m\u001b[1m}\u001b[0m,\n",
       "    \u001b[32m'combo_matches_a_to_b'\u001b[0m: \u001b[1m[\u001b[0m\u001b[1m]\u001b[0m,\n",
       "    \u001b[32m'combo_matches_b_to_a'\u001b[0m: \u001b[1m[\u001b[0m\u001b[1m]\u001b[0m,\n",
       "    \u001b[32m'unmatched_a'\u001b[0m: \u001b[1m[\u001b[0m\u001b[1m]\u001b[0m,\n",
       "    \u001b[32m'unmatched_b'\u001b[0m: \u001b[1m[\u001b[0m\u001b[1;36m100.0\u001b[0m, \u001b[1;36m54.0\u001b[0m\u001b[1m]\u001b[0m\n",
       "\u001b[1m}\u001b[0m\n"
      ]
     },
     "metadata": {},
     "output_type": "display_data"
    },
    {
     "data": {
      "text/html": [
       "<pre style=\"white-space:pre;overflow-x:auto;line-height:normal;font-family:Menlo,'DejaVu Sans Mono',consolas,'Courier New',monospace\"><span style=\"color: #808000; text-decoration-color: #808000\">安徽合肥仓</span>=&gt;徐福记沙琪玛香酥芝麻味袋装@<span style=\"color: #800080; text-decoration-color: #800080; font-weight: bold\">5</span><span style=\"font-weight: bold\">(</span>2<span style=\"color: #008080; text-decoration-color: #008080; font-weight: bold\">0x32</span>g<span style=\"font-weight: bold\">)</span> N1 <span style=\"color: #808000; text-decoration-color: #808000\">CN</span>=&gt;<span style=\"color: #008080; text-decoration-color: #008080; font-weight: bold\">2024</span>-<span style=\"color: #008080; text-decoration-color: #008080; font-weight: bold\">04</span>-<span style=\"color: #008080; text-decoration-color: #008080; font-weight: bold\">01</span> <span style=\"color: #00ff00; text-decoration-color: #00ff00; font-weight: bold\">00:00:00</span>\n",
       "<span style=\"font-weight: bold\">{</span>\n",
       "    <span style=\"color: #008000; text-decoration-color: #008000\">'exact_matches'</span>: <span style=\"font-weight: bold\">{</span><span style=\"color: #008080; text-decoration-color: #008080; font-weight: bold\">80.0</span>: <span style=\"color: #008080; text-decoration-color: #008080; font-weight: bold\">1</span>, <span style=\"color: #008080; text-decoration-color: #008080; font-weight: bold\">100.0</span>: <span style=\"color: #008080; text-decoration-color: #008080; font-weight: bold\">1</span>, <span style=\"color: #008080; text-decoration-color: #008080; font-weight: bold\">70.0</span>: <span style=\"color: #008080; text-decoration-color: #008080; font-weight: bold\">2</span><span style=\"font-weight: bold\">}</span>,\n",
       "    <span style=\"color: #008000; text-decoration-color: #008000\">'combo_matches_a_to_b'</span>: <span style=\"font-weight: bold\">[]</span>,\n",
       "    <span style=\"color: #008000; text-decoration-color: #008000\">'combo_matches_b_to_a'</span>: <span style=\"font-weight: bold\">[]</span>,\n",
       "    <span style=\"color: #008000; text-decoration-color: #008000\">'unmatched_a'</span>: <span style=\"font-weight: bold\">[</span><span style=\"color: #008080; text-decoration-color: #008080; font-weight: bold\">80.0</span><span style=\"font-weight: bold\">]</span>,\n",
       "    <span style=\"color: #008000; text-decoration-color: #008000\">'unmatched_b'</span>: <span style=\"font-weight: bold\">[</span>\n",
       "        <span style=\"color: #008080; text-decoration-color: #008080; font-weight: bold\">150.0</span>,\n",
       "        <span style=\"color: #008080; text-decoration-color: #008080; font-weight: bold\">104.0</span>,\n",
       "        <span style=\"color: #008080; text-decoration-color: #008080; font-weight: bold\">100.0</span>,\n",
       "        <span style=\"color: #008080; text-decoration-color: #008080; font-weight: bold\">100.0</span>,\n",
       "        <span style=\"color: #008080; text-decoration-color: #008080; font-weight: bold\">100.0</span>,\n",
       "        <span style=\"color: #008080; text-decoration-color: #008080; font-weight: bold\">90.0</span>,\n",
       "        <span style=\"color: #008080; text-decoration-color: #008080; font-weight: bold\">61.0</span>,\n",
       "        <span style=\"color: #008080; text-decoration-color: #008080; font-weight: bold\">60.0</span>,\n",
       "        <span style=\"color: #008080; text-decoration-color: #008080; font-weight: bold\">50.0</span>,\n",
       "        <span style=\"color: #008080; text-decoration-color: #008080; font-weight: bold\">46.0</span>,\n",
       "        <span style=\"color: #008080; text-decoration-color: #008080; font-weight: bold\">37.0</span>,\n",
       "        <span style=\"color: #008080; text-decoration-color: #008080; font-weight: bold\">30.0</span>,\n",
       "        <span style=\"color: #008080; text-decoration-color: #008080; font-weight: bold\">29.0</span>,\n",
       "        <span style=\"color: #008080; text-decoration-color: #008080; font-weight: bold\">20.0</span>,\n",
       "        <span style=\"color: #008080; text-decoration-color: #008080; font-weight: bold\">20.0</span>,\n",
       "        <span style=\"color: #008080; text-decoration-color: #008080; font-weight: bold\">16.0</span>,\n",
       "        <span style=\"color: #008080; text-decoration-color: #008080; font-weight: bold\">8.0</span>,\n",
       "        <span style=\"color: #008080; text-decoration-color: #008080; font-weight: bold\">4.0</span>\n",
       "    <span style=\"font-weight: bold\">]</span>\n",
       "<span style=\"font-weight: bold\">}</span>\n",
       "</pre>\n"
      ],
      "text/plain": [
       "\u001b[33m安徽合肥仓\u001b[0m=>徐福记沙琪玛香酥芝麻味袋装@\u001b[1;35m5\u001b[0m\u001b[1m(\u001b[0m2\u001b[1;36m0x32\u001b[0mg\u001b[1m)\u001b[0m N1 \u001b[33mCN\u001b[0m=>\u001b[1;36m2024\u001b[0m-\u001b[1;36m04\u001b[0m-\u001b[1;36m01\u001b[0m \u001b[1;92m00:00:00\u001b[0m\n",
       "\u001b[1m{\u001b[0m\n",
       "    \u001b[32m'exact_matches'\u001b[0m: \u001b[1m{\u001b[0m\u001b[1;36m80.0\u001b[0m: \u001b[1;36m1\u001b[0m, \u001b[1;36m100.0\u001b[0m: \u001b[1;36m1\u001b[0m, \u001b[1;36m70.0\u001b[0m: \u001b[1;36m2\u001b[0m\u001b[1m}\u001b[0m,\n",
       "    \u001b[32m'combo_matches_a_to_b'\u001b[0m: \u001b[1m[\u001b[0m\u001b[1m]\u001b[0m,\n",
       "    \u001b[32m'combo_matches_b_to_a'\u001b[0m: \u001b[1m[\u001b[0m\u001b[1m]\u001b[0m,\n",
       "    \u001b[32m'unmatched_a'\u001b[0m: \u001b[1m[\u001b[0m\u001b[1;36m80.0\u001b[0m\u001b[1m]\u001b[0m,\n",
       "    \u001b[32m'unmatched_b'\u001b[0m: \u001b[1m[\u001b[0m\n",
       "        \u001b[1;36m150.0\u001b[0m,\n",
       "        \u001b[1;36m104.0\u001b[0m,\n",
       "        \u001b[1;36m100.0\u001b[0m,\n",
       "        \u001b[1;36m100.0\u001b[0m,\n",
       "        \u001b[1;36m100.0\u001b[0m,\n",
       "        \u001b[1;36m90.0\u001b[0m,\n",
       "        \u001b[1;36m61.0\u001b[0m,\n",
       "        \u001b[1;36m60.0\u001b[0m,\n",
       "        \u001b[1;36m50.0\u001b[0m,\n",
       "        \u001b[1;36m46.0\u001b[0m,\n",
       "        \u001b[1;36m37.0\u001b[0m,\n",
       "        \u001b[1;36m30.0\u001b[0m,\n",
       "        \u001b[1;36m29.0\u001b[0m,\n",
       "        \u001b[1;36m20.0\u001b[0m,\n",
       "        \u001b[1;36m20.0\u001b[0m,\n",
       "        \u001b[1;36m16.0\u001b[0m,\n",
       "        \u001b[1;36m8.0\u001b[0m,\n",
       "        \u001b[1;36m4.0\u001b[0m\n",
       "    \u001b[1m]\u001b[0m\n",
       "\u001b[1m}\u001b[0m\n"
      ]
     },
     "metadata": {},
     "output_type": "display_data"
    },
    {
     "data": {
      "text/html": [
       "<pre style=\"white-space:pre;overflow-x:auto;line-height:normal;font-family:Menlo,'DejaVu Sans Mono',consolas,'Courier New',monospace\"><span style=\"color: #808000; text-decoration-color: #808000\">安徽合肥仓</span>=&gt;徐福记沙琪玛香酥芝麻味袋装@<span style=\"color: #800080; text-decoration-color: #800080; font-weight: bold\">5</span><span style=\"font-weight: bold\">(</span>2<span style=\"color: #008080; text-decoration-color: #008080; font-weight: bold\">0x32</span>g<span style=\"font-weight: bold\">)</span> N1 <span style=\"color: #808000; text-decoration-color: #808000\">CN</span>=&gt;<span style=\"color: #008080; text-decoration-color: #008080; font-weight: bold\">2024</span>-<span style=\"color: #008080; text-decoration-color: #008080; font-weight: bold\">05</span>-<span style=\"color: #008080; text-decoration-color: #008080; font-weight: bold\">01</span> <span style=\"color: #00ff00; text-decoration-color: #00ff00; font-weight: bold\">00:00:00</span>\n",
       "<span style=\"font-weight: bold\">{</span>\n",
       "    <span style=\"color: #008000; text-decoration-color: #008000\">'exact_matches'</span>: <span style=\"font-weight: bold\">{</span><span style=\"color: #008080; text-decoration-color: #008080; font-weight: bold\">200.0</span>: <span style=\"color: #008080; text-decoration-color: #008080; font-weight: bold\">1</span>, <span style=\"color: #008080; text-decoration-color: #008080; font-weight: bold\">50.0</span>: <span style=\"color: #008080; text-decoration-color: #008080; font-weight: bold\">1</span>, <span style=\"color: #008080; text-decoration-color: #008080; font-weight: bold\">100.0</span>: <span style=\"color: #008080; text-decoration-color: #008080; font-weight: bold\">1</span><span style=\"font-weight: bold\">}</span>,\n",
       "    <span style=\"color: #008000; text-decoration-color: #008000\">'combo_matches_a_to_b'</span>: <span style=\"font-weight: bold\">[]</span>,\n",
       "    <span style=\"color: #008000; text-decoration-color: #008000\">'combo_matches_b_to_a'</span>: <span style=\"font-weight: bold\">[]</span>,\n",
       "    <span style=\"color: #008000; text-decoration-color: #008000\">'unmatched_a'</span>: <span style=\"font-weight: bold\">[</span><span style=\"color: #008080; text-decoration-color: #008080; font-weight: bold\">55.0</span>, <span style=\"color: #008080; text-decoration-color: #008080; font-weight: bold\">40.0</span><span style=\"font-weight: bold\">]</span>,\n",
       "    <span style=\"color: #008000; text-decoration-color: #008000\">'unmatched_b'</span>: <span style=\"font-weight: bold\">[</span><span style=\"color: #008080; text-decoration-color: #008080; font-weight: bold\">149.0</span>, <span style=\"color: #008080; text-decoration-color: #008080; font-weight: bold\">100.0</span>, <span style=\"color: #008080; text-decoration-color: #008080; font-weight: bold\">100.0</span>, <span style=\"color: #008080; text-decoration-color: #008080; font-weight: bold\">70.0</span>, <span style=\"color: #008080; text-decoration-color: #008080; font-weight: bold\">56.0</span>, <span style=\"color: #008080; text-decoration-color: #008080; font-weight: bold\">52.0</span>, <span style=\"color: #008080; text-decoration-color: #008080; font-weight: bold\">50.0</span>, <span style=\"color: #008080; text-decoration-color: #008080; font-weight: bold\">39.0</span>, <span style=\"color: #008080; text-decoration-color: #008080; font-weight: bold\">30.0</span>, <span style=\"color: #008080; text-decoration-color: #008080; font-weight: bold\">1.0</span><span style=\"font-weight: bold\">]</span>\n",
       "<span style=\"font-weight: bold\">}</span>\n",
       "</pre>\n"
      ],
      "text/plain": [
       "\u001b[33m安徽合肥仓\u001b[0m=>徐福记沙琪玛香酥芝麻味袋装@\u001b[1;35m5\u001b[0m\u001b[1m(\u001b[0m2\u001b[1;36m0x32\u001b[0mg\u001b[1m)\u001b[0m N1 \u001b[33mCN\u001b[0m=>\u001b[1;36m2024\u001b[0m-\u001b[1;36m05\u001b[0m-\u001b[1;36m01\u001b[0m \u001b[1;92m00:00:00\u001b[0m\n",
       "\u001b[1m{\u001b[0m\n",
       "    \u001b[32m'exact_matches'\u001b[0m: \u001b[1m{\u001b[0m\u001b[1;36m200.0\u001b[0m: \u001b[1;36m1\u001b[0m, \u001b[1;36m50.0\u001b[0m: \u001b[1;36m1\u001b[0m, \u001b[1;36m100.0\u001b[0m: \u001b[1;36m1\u001b[0m\u001b[1m}\u001b[0m,\n",
       "    \u001b[32m'combo_matches_a_to_b'\u001b[0m: \u001b[1m[\u001b[0m\u001b[1m]\u001b[0m,\n",
       "    \u001b[32m'combo_matches_b_to_a'\u001b[0m: \u001b[1m[\u001b[0m\u001b[1m]\u001b[0m,\n",
       "    \u001b[32m'unmatched_a'\u001b[0m: \u001b[1m[\u001b[0m\u001b[1;36m55.0\u001b[0m, \u001b[1;36m40.0\u001b[0m\u001b[1m]\u001b[0m,\n",
       "    \u001b[32m'unmatched_b'\u001b[0m: \u001b[1m[\u001b[0m\u001b[1;36m149.0\u001b[0m, \u001b[1;36m100.0\u001b[0m, \u001b[1;36m100.0\u001b[0m, \u001b[1;36m70.0\u001b[0m, \u001b[1;36m56.0\u001b[0m, \u001b[1;36m52.0\u001b[0m, \u001b[1;36m50.0\u001b[0m, \u001b[1;36m39.0\u001b[0m, \u001b[1;36m30.0\u001b[0m, \u001b[1;36m1.0\u001b[0m\u001b[1m]\u001b[0m\n",
       "\u001b[1m}\u001b[0m\n"
      ]
     },
     "metadata": {},
     "output_type": "display_data"
    },
    {
     "data": {
      "text/html": [
       "<pre style=\"white-space:pre;overflow-x:auto;line-height:normal;font-family:Menlo,'DejaVu Sans Mono',consolas,'Courier New',monospace\"><span style=\"color: #808000; text-decoration-color: #808000\">安徽合肥仓</span>=&gt;徐福记沙琪玛香酥芝麻味袋装@<span style=\"color: #800080; text-decoration-color: #800080; font-weight: bold\">5</span><span style=\"font-weight: bold\">(</span>2<span style=\"color: #008080; text-decoration-color: #008080; font-weight: bold\">0x32</span>g<span style=\"font-weight: bold\">)</span> N1 <span style=\"color: #808000; text-decoration-color: #808000\">CN</span>=&gt;<span style=\"color: #008080; text-decoration-color: #008080; font-weight: bold\">2024</span>-<span style=\"color: #008080; text-decoration-color: #008080; font-weight: bold\">06</span>-<span style=\"color: #008080; text-decoration-color: #008080; font-weight: bold\">01</span> <span style=\"color: #00ff00; text-decoration-color: #00ff00; font-weight: bold\">00:00:00</span>\n",
       "<span style=\"font-weight: bold\">{</span>\n",
       "    <span style=\"color: #008000; text-decoration-color: #008000\">'exact_matches'</span>: <span style=\"font-weight: bold\">{</span><span style=\"color: #008080; text-decoration-color: #008080; font-weight: bold\">50.0</span>: <span style=\"color: #008080; text-decoration-color: #008080; font-weight: bold\">2</span>, <span style=\"color: #008080; text-decoration-color: #008080; font-weight: bold\">13.0</span>: <span style=\"color: #008080; text-decoration-color: #008080; font-weight: bold\">1</span><span style=\"font-weight: bold\">}</span>,\n",
       "    <span style=\"color: #008000; text-decoration-color: #008000\">'combo_matches_a_to_b'</span>: <span style=\"font-weight: bold\">[]</span>,\n",
       "    <span style=\"color: #008000; text-decoration-color: #008000\">'combo_matches_b_to_a'</span>: <span style=\"font-weight: bold\">[]</span>,\n",
       "    <span style=\"color: #008000; text-decoration-color: #008000\">'unmatched_a'</span>: <span style=\"font-weight: bold\">[</span><span style=\"color: #008080; text-decoration-color: #008080; font-weight: bold\">100.0</span>, <span style=\"color: #008080; text-decoration-color: #008080; font-weight: bold\">28.0</span>, <span style=\"color: #008080; text-decoration-color: #008080; font-weight: bold\">28.0</span>, <span style=\"color: #008080; text-decoration-color: #008080; font-weight: bold\">4.0</span><span style=\"font-weight: bold\">]</span>,\n",
       "    <span style=\"color: #008000; text-decoration-color: #008000\">'unmatched_b'</span>: <span style=\"font-weight: bold\">[</span><span style=\"color: #008080; text-decoration-color: #008080; font-weight: bold\">101.0</span>, <span style=\"color: #008080; text-decoration-color: #008080; font-weight: bold\">60.0</span>, <span style=\"color: #008080; text-decoration-color: #008080; font-weight: bold\">55.0</span>, <span style=\"color: #008080; text-decoration-color: #008080; font-weight: bold\">1.0</span><span style=\"font-weight: bold\">]</span>\n",
       "<span style=\"font-weight: bold\">}</span>\n",
       "</pre>\n"
      ],
      "text/plain": [
       "\u001b[33m安徽合肥仓\u001b[0m=>徐福记沙琪玛香酥芝麻味袋装@\u001b[1;35m5\u001b[0m\u001b[1m(\u001b[0m2\u001b[1;36m0x32\u001b[0mg\u001b[1m)\u001b[0m N1 \u001b[33mCN\u001b[0m=>\u001b[1;36m2024\u001b[0m-\u001b[1;36m06\u001b[0m-\u001b[1;36m01\u001b[0m \u001b[1;92m00:00:00\u001b[0m\n",
       "\u001b[1m{\u001b[0m\n",
       "    \u001b[32m'exact_matches'\u001b[0m: \u001b[1m{\u001b[0m\u001b[1;36m50.0\u001b[0m: \u001b[1;36m2\u001b[0m, \u001b[1;36m13.0\u001b[0m: \u001b[1;36m1\u001b[0m\u001b[1m}\u001b[0m,\n",
       "    \u001b[32m'combo_matches_a_to_b'\u001b[0m: \u001b[1m[\u001b[0m\u001b[1m]\u001b[0m,\n",
       "    \u001b[32m'combo_matches_b_to_a'\u001b[0m: \u001b[1m[\u001b[0m\u001b[1m]\u001b[0m,\n",
       "    \u001b[32m'unmatched_a'\u001b[0m: \u001b[1m[\u001b[0m\u001b[1;36m100.0\u001b[0m, \u001b[1;36m28.0\u001b[0m, \u001b[1;36m28.0\u001b[0m, \u001b[1;36m4.0\u001b[0m\u001b[1m]\u001b[0m,\n",
       "    \u001b[32m'unmatched_b'\u001b[0m: \u001b[1m[\u001b[0m\u001b[1;36m101.0\u001b[0m, \u001b[1;36m60.0\u001b[0m, \u001b[1;36m55.0\u001b[0m, \u001b[1;36m1.0\u001b[0m\u001b[1m]\u001b[0m\n",
       "\u001b[1m}\u001b[0m\n"
      ]
     },
     "metadata": {},
     "output_type": "display_data"
    },
    {
     "data": {
      "text/html": [
       "<pre style=\"white-space:pre;overflow-x:auto;line-height:normal;font-family:Menlo,'DejaVu Sans Mono',consolas,'Courier New',monospace\"><span style=\"color: #808000; text-decoration-color: #808000\">安徽合肥仓</span>=&gt;徐福记沙琪玛香酥芝麻味袋装@<span style=\"color: #800080; text-decoration-color: #800080; font-weight: bold\">5</span><span style=\"font-weight: bold\">(</span>2<span style=\"color: #008080; text-decoration-color: #008080; font-weight: bold\">0x32</span>g<span style=\"font-weight: bold\">)</span> N1 <span style=\"color: #808000; text-decoration-color: #808000\">CN</span>=&gt;<span style=\"color: #008080; text-decoration-color: #008080; font-weight: bold\">2024</span>-<span style=\"color: #008080; text-decoration-color: #008080; font-weight: bold\">07</span>-<span style=\"color: #008080; text-decoration-color: #008080; font-weight: bold\">01</span> <span style=\"color: #00ff00; text-decoration-color: #00ff00; font-weight: bold\">00:00:00</span>\n",
       "<span style=\"font-weight: bold\">{</span>\n",
       "    <span style=\"color: #008000; text-decoration-color: #008000\">'exact_matches'</span>: <span style=\"font-weight: bold\">{</span><span style=\"color: #008080; text-decoration-color: #008080; font-weight: bold\">10.0</span>: <span style=\"color: #008080; text-decoration-color: #008080; font-weight: bold\">1</span><span style=\"font-weight: bold\">}</span>,\n",
       "    <span style=\"color: #008000; text-decoration-color: #008000\">'combo_matches_a_to_b'</span>: <span style=\"font-weight: bold\">[</span>\n",
       "        <span style=\"font-weight: bold\">{</span><span style=\"color: #008000; text-decoration-color: #008000\">'b'</span>: <span style=\"color: #008080; text-decoration-color: #008080; font-weight: bold\">120.0</span>, <span style=\"color: #008000; text-decoration-color: #008000\">'a'</span>: <span style=\"font-weight: bold\">[</span><span style=\"color: #008080; text-decoration-color: #008080; font-weight: bold\">32.0</span>, <span style=\"color: #008080; text-decoration-color: #008080; font-weight: bold\">29.0</span>, <span style=\"color: #008080; text-decoration-color: #008080; font-weight: bold\">28.0</span>, <span style=\"color: #008080; text-decoration-color: #008080; font-weight: bold\">23.0</span>, <span style=\"color: #008080; text-decoration-color: #008080; font-weight: bold\">8.0</span><span style=\"font-weight: bold\">]}</span>,\n",
       "        <span style=\"font-weight: bold\">{</span><span style=\"color: #008000; text-decoration-color: #008000\">'b'</span>: <span style=\"color: #008080; text-decoration-color: #008080; font-weight: bold\">70.0</span>, <span style=\"color: #008000; text-decoration-color: #008000\">'a'</span>: <span style=\"font-weight: bold\">[</span><span style=\"color: #008080; text-decoration-color: #008080; font-weight: bold\">28.0</span>, <span style=\"color: #008080; text-decoration-color: #008080; font-weight: bold\">28.0</span>, <span style=\"color: #008080; text-decoration-color: #008080; font-weight: bold\">14.0</span><span style=\"font-weight: bold\">]}</span>,\n",
       "        <span style=\"font-weight: bold\">{</span><span style=\"color: #008000; text-decoration-color: #008000\">'b'</span>: <span style=\"color: #008080; text-decoration-color: #008080; font-weight: bold\">35.0</span>, <span style=\"color: #008000; text-decoration-color: #008000\">'a'</span>: <span style=\"font-weight: bold\">[</span><span style=\"color: #008080; text-decoration-color: #008080; font-weight: bold\">28.0</span>, <span style=\"color: #008080; text-decoration-color: #008080; font-weight: bold\">7.0</span><span style=\"font-weight: bold\">]}</span>\n",
       "    <span style=\"font-weight: bold\">]</span>,\n",
       "    <span style=\"color: #008000; text-decoration-color: #008000\">'combo_matches_b_to_a'</span>: <span style=\"font-weight: bold\">[]</span>,\n",
       "    <span style=\"color: #008000; text-decoration-color: #008000\">'unmatched_a'</span>: <span style=\"font-weight: bold\">[</span><span style=\"color: #008080; text-decoration-color: #008080; font-weight: bold\">28.0</span>, <span style=\"color: #008080; text-decoration-color: #008080; font-weight: bold\">28.0</span>, <span style=\"color: #008080; text-decoration-color: #008080; font-weight: bold\">28.0</span>, <span style=\"color: #008080; text-decoration-color: #008080; font-weight: bold\">28.0</span>, <span style=\"color: #008080; text-decoration-color: #008080; font-weight: bold\">28.0</span>, <span style=\"color: #008080; text-decoration-color: #008080; font-weight: bold\">28.0</span>, <span style=\"color: #008080; text-decoration-color: #008080; font-weight: bold\">28.0</span>, <span style=\"color: #008080; text-decoration-color: #008080; font-weight: bold\">28.0</span>, <span style=\"color: #008080; text-decoration-color: #008080; font-weight: bold\">28.0</span>, <span style=\"color: #008080; text-decoration-color: #008080; font-weight: bold\">10.0</span><span style=\"font-weight: bold\">]</span>,\n",
       "    <span style=\"color: #008000; text-decoration-color: #008000\">'unmatched_b'</span>: <span style=\"font-weight: bold\">[</span><span style=\"color: #008080; text-decoration-color: #008080; font-weight: bold\">107.0</span>, <span style=\"color: #008080; text-decoration-color: #008080; font-weight: bold\">61.0</span>, <span style=\"color: #008080; text-decoration-color: #008080; font-weight: bold\">20.0</span><span style=\"font-weight: bold\">]</span>\n",
       "<span style=\"font-weight: bold\">}</span>\n",
       "</pre>\n"
      ],
      "text/plain": [
       "\u001b[33m安徽合肥仓\u001b[0m=>徐福记沙琪玛香酥芝麻味袋装@\u001b[1;35m5\u001b[0m\u001b[1m(\u001b[0m2\u001b[1;36m0x32\u001b[0mg\u001b[1m)\u001b[0m N1 \u001b[33mCN\u001b[0m=>\u001b[1;36m2024\u001b[0m-\u001b[1;36m07\u001b[0m-\u001b[1;36m01\u001b[0m \u001b[1;92m00:00:00\u001b[0m\n",
       "\u001b[1m{\u001b[0m\n",
       "    \u001b[32m'exact_matches'\u001b[0m: \u001b[1m{\u001b[0m\u001b[1;36m10.0\u001b[0m: \u001b[1;36m1\u001b[0m\u001b[1m}\u001b[0m,\n",
       "    \u001b[32m'combo_matches_a_to_b'\u001b[0m: \u001b[1m[\u001b[0m\n",
       "        \u001b[1m{\u001b[0m\u001b[32m'b'\u001b[0m: \u001b[1;36m120.0\u001b[0m, \u001b[32m'a'\u001b[0m: \u001b[1m[\u001b[0m\u001b[1;36m32.0\u001b[0m, \u001b[1;36m29.0\u001b[0m, \u001b[1;36m28.0\u001b[0m, \u001b[1;36m23.0\u001b[0m, \u001b[1;36m8.0\u001b[0m\u001b[1m]\u001b[0m\u001b[1m}\u001b[0m,\n",
       "        \u001b[1m{\u001b[0m\u001b[32m'b'\u001b[0m: \u001b[1;36m70.0\u001b[0m, \u001b[32m'a'\u001b[0m: \u001b[1m[\u001b[0m\u001b[1;36m28.0\u001b[0m, \u001b[1;36m28.0\u001b[0m, \u001b[1;36m14.0\u001b[0m\u001b[1m]\u001b[0m\u001b[1m}\u001b[0m,\n",
       "        \u001b[1m{\u001b[0m\u001b[32m'b'\u001b[0m: \u001b[1;36m35.0\u001b[0m, \u001b[32m'a'\u001b[0m: \u001b[1m[\u001b[0m\u001b[1;36m28.0\u001b[0m, \u001b[1;36m7.0\u001b[0m\u001b[1m]\u001b[0m\u001b[1m}\u001b[0m\n",
       "    \u001b[1m]\u001b[0m,\n",
       "    \u001b[32m'combo_matches_b_to_a'\u001b[0m: \u001b[1m[\u001b[0m\u001b[1m]\u001b[0m,\n",
       "    \u001b[32m'unmatched_a'\u001b[0m: \u001b[1m[\u001b[0m\u001b[1;36m28.0\u001b[0m, \u001b[1;36m28.0\u001b[0m, \u001b[1;36m28.0\u001b[0m, \u001b[1;36m28.0\u001b[0m, \u001b[1;36m28.0\u001b[0m, \u001b[1;36m28.0\u001b[0m, \u001b[1;36m28.0\u001b[0m, \u001b[1;36m28.0\u001b[0m, \u001b[1;36m28.0\u001b[0m, \u001b[1;36m10.0\u001b[0m\u001b[1m]\u001b[0m,\n",
       "    \u001b[32m'unmatched_b'\u001b[0m: \u001b[1m[\u001b[0m\u001b[1;36m107.0\u001b[0m, \u001b[1;36m61.0\u001b[0m, \u001b[1;36m20.0\u001b[0m\u001b[1m]\u001b[0m\n",
       "\u001b[1m}\u001b[0m\n"
      ]
     },
     "metadata": {},
     "output_type": "display_data"
    },
    {
     "data": {
      "text/html": [
       "<pre style=\"white-space:pre;overflow-x:auto;line-height:normal;font-family:Menlo,'DejaVu Sans Mono',consolas,'Courier New',monospace\"><span style=\"color: #808000; text-decoration-color: #808000\">安徽合肥仓</span>=&gt;徐福记沙琪玛香酥芝麻味袋装@<span style=\"color: #800080; text-decoration-color: #800080; font-weight: bold\">5</span><span style=\"font-weight: bold\">(</span>2<span style=\"color: #008080; text-decoration-color: #008080; font-weight: bold\">0x32</span>g<span style=\"font-weight: bold\">)</span> N1 <span style=\"color: #808000; text-decoration-color: #808000\">CN</span>=&gt;<span style=\"color: #008080; text-decoration-color: #008080; font-weight: bold\">2024</span>-<span style=\"color: #008080; text-decoration-color: #008080; font-weight: bold\">08</span>-<span style=\"color: #008080; text-decoration-color: #008080; font-weight: bold\">01</span> <span style=\"color: #00ff00; text-decoration-color: #00ff00; font-weight: bold\">00:00:00</span>\n",
       "<span style=\"font-weight: bold\">{</span>\n",
       "    <span style=\"color: #008000; text-decoration-color: #008000\">'exact_matches'</span>: <span style=\"font-weight: bold\">{}</span>,\n",
       "    <span style=\"color: #008000; text-decoration-color: #008000\">'combo_matches_a_to_b'</span>: <span style=\"font-weight: bold\">[</span>\n",
       "        <span style=\"font-weight: bold\">{</span><span style=\"color: #008000; text-decoration-color: #008000\">'b'</span>: <span style=\"color: #008080; text-decoration-color: #008080; font-weight: bold\">120.0</span>, <span style=\"color: #008000; text-decoration-color: #008000\">'a'</span>: <span style=\"font-weight: bold\">[</span><span style=\"color: #008080; text-decoration-color: #008080; font-weight: bold\">28.0</span>, <span style=\"color: #008080; text-decoration-color: #008080; font-weight: bold\">28.0</span>, <span style=\"color: #008080; text-decoration-color: #008080; font-weight: bold\">28.0</span>, <span style=\"color: #008080; text-decoration-color: #008080; font-weight: bold\">28.0</span>, <span style=\"color: #008080; text-decoration-color: #008080; font-weight: bold\">8.0</span><span style=\"font-weight: bold\">]}</span>,\n",
       "        <span style=\"font-weight: bold\">{</span><span style=\"color: #008000; text-decoration-color: #008000\">'b'</span>: <span style=\"color: #008080; text-decoration-color: #008080; font-weight: bold\">80.0</span>, <span style=\"color: #008000; text-decoration-color: #008000\">'a'</span>: <span style=\"font-weight: bold\">[</span><span style=\"color: #008080; text-decoration-color: #008080; font-weight: bold\">28.0</span>, <span style=\"color: #008080; text-decoration-color: #008080; font-weight: bold\">28.0</span>, <span style=\"color: #008080; text-decoration-color: #008080; font-weight: bold\">24.0</span><span style=\"font-weight: bold\">]}</span>\n",
       "    <span style=\"font-weight: bold\">]</span>,\n",
       "    <span style=\"color: #008000; text-decoration-color: #008000\">'combo_matches_b_to_a'</span>: <span style=\"font-weight: bold\">[]</span>,\n",
       "    <span style=\"color: #008000; text-decoration-color: #008000\">'unmatched_a'</span>: <span style=\"font-weight: bold\">[</span><span style=\"color: #008080; text-decoration-color: #008080; font-weight: bold\">28.0</span>, <span style=\"color: #008080; text-decoration-color: #008080; font-weight: bold\">28.0</span>, <span style=\"color: #008080; text-decoration-color: #008080; font-weight: bold\">28.0</span>, <span style=\"color: #008080; text-decoration-color: #008080; font-weight: bold\">28.0</span>, <span style=\"color: #008080; text-decoration-color: #008080; font-weight: bold\">28.0</span>, <span style=\"color: #008080; text-decoration-color: #008080; font-weight: bold\">28.0</span>, <span style=\"color: #008080; text-decoration-color: #008080; font-weight: bold\">24.0</span>, <span style=\"color: #008080; text-decoration-color: #008080; font-weight: bold\">8.0</span><span style=\"font-weight: bold\">]</span>,\n",
       "    <span style=\"color: #008000; text-decoration-color: #008000\">'unmatched_b'</span>: <span style=\"font-weight: bold\">[</span><span style=\"color: #008080; text-decoration-color: #008080; font-weight: bold\">120.0</span>, <span style=\"color: #008080; text-decoration-color: #008080; font-weight: bold\">94.0</span>, <span style=\"color: #008080; text-decoration-color: #008080; font-weight: bold\">80.0</span><span style=\"font-weight: bold\">]</span>\n",
       "<span style=\"font-weight: bold\">}</span>\n",
       "</pre>\n"
      ],
      "text/plain": [
       "\u001b[33m安徽合肥仓\u001b[0m=>徐福记沙琪玛香酥芝麻味袋装@\u001b[1;35m5\u001b[0m\u001b[1m(\u001b[0m2\u001b[1;36m0x32\u001b[0mg\u001b[1m)\u001b[0m N1 \u001b[33mCN\u001b[0m=>\u001b[1;36m2024\u001b[0m-\u001b[1;36m08\u001b[0m-\u001b[1;36m01\u001b[0m \u001b[1;92m00:00:00\u001b[0m\n",
       "\u001b[1m{\u001b[0m\n",
       "    \u001b[32m'exact_matches'\u001b[0m: \u001b[1m{\u001b[0m\u001b[1m}\u001b[0m,\n",
       "    \u001b[32m'combo_matches_a_to_b'\u001b[0m: \u001b[1m[\u001b[0m\n",
       "        \u001b[1m{\u001b[0m\u001b[32m'b'\u001b[0m: \u001b[1;36m120.0\u001b[0m, \u001b[32m'a'\u001b[0m: \u001b[1m[\u001b[0m\u001b[1;36m28.0\u001b[0m, \u001b[1;36m28.0\u001b[0m, \u001b[1;36m28.0\u001b[0m, \u001b[1;36m28.0\u001b[0m, \u001b[1;36m8.0\u001b[0m\u001b[1m]\u001b[0m\u001b[1m}\u001b[0m,\n",
       "        \u001b[1m{\u001b[0m\u001b[32m'b'\u001b[0m: \u001b[1;36m80.0\u001b[0m, \u001b[32m'a'\u001b[0m: \u001b[1m[\u001b[0m\u001b[1;36m28.0\u001b[0m, \u001b[1;36m28.0\u001b[0m, \u001b[1;36m24.0\u001b[0m\u001b[1m]\u001b[0m\u001b[1m}\u001b[0m\n",
       "    \u001b[1m]\u001b[0m,\n",
       "    \u001b[32m'combo_matches_b_to_a'\u001b[0m: \u001b[1m[\u001b[0m\u001b[1m]\u001b[0m,\n",
       "    \u001b[32m'unmatched_a'\u001b[0m: \u001b[1m[\u001b[0m\u001b[1;36m28.0\u001b[0m, \u001b[1;36m28.0\u001b[0m, \u001b[1;36m28.0\u001b[0m, \u001b[1;36m28.0\u001b[0m, \u001b[1;36m28.0\u001b[0m, \u001b[1;36m28.0\u001b[0m, \u001b[1;36m24.0\u001b[0m, \u001b[1;36m8.0\u001b[0m\u001b[1m]\u001b[0m,\n",
       "    \u001b[32m'unmatched_b'\u001b[0m: \u001b[1m[\u001b[0m\u001b[1;36m120.0\u001b[0m, \u001b[1;36m94.0\u001b[0m, \u001b[1;36m80.0\u001b[0m\u001b[1m]\u001b[0m\n",
       "\u001b[1m}\u001b[0m\n"
      ]
     },
     "metadata": {},
     "output_type": "display_data"
    },
    {
     "data": {
      "text/html": [
       "<pre style=\"white-space:pre;overflow-x:auto;line-height:normal;font-family:Menlo,'DejaVu Sans Mono',consolas,'Courier New',monospace\"><span style=\"color: #808000; text-decoration-color: #808000\">安徽合肥仓</span>=&gt;徐福记沙琪玛香酥芝麻味袋装@<span style=\"color: #800080; text-decoration-color: #800080; font-weight: bold\">5</span><span style=\"font-weight: bold\">(</span>2<span style=\"color: #008080; text-decoration-color: #008080; font-weight: bold\">0x32</span>g<span style=\"font-weight: bold\">)</span> N1 <span style=\"color: #808000; text-decoration-color: #808000\">CN</span>=&gt;<span style=\"color: #008080; text-decoration-color: #008080; font-weight: bold\">2024</span>-<span style=\"color: #008080; text-decoration-color: #008080; font-weight: bold\">09</span>-<span style=\"color: #008080; text-decoration-color: #008080; font-weight: bold\">01</span> <span style=\"color: #00ff00; text-decoration-color: #00ff00; font-weight: bold\">00:00:00</span>\n",
       "<span style=\"font-weight: bold\">{</span>\n",
       "    <span style=\"color: #008000; text-decoration-color: #008000\">'exact_matches'</span>: <span style=\"font-weight: bold\">{</span><span style=\"color: #008080; text-decoration-color: #008080; font-weight: bold\">4.0</span>: <span style=\"color: #008080; text-decoration-color: #008080; font-weight: bold\">1</span><span style=\"font-weight: bold\">}</span>,\n",
       "    <span style=\"color: #008000; text-decoration-color: #008000\">'combo_matches_a_to_b'</span>: <span style=\"font-weight: bold\">[</span>\n",
       "        <span style=\"font-weight: bold\">{</span><span style=\"color: #008000; text-decoration-color: #008000\">'b'</span>: <span style=\"color: #008080; text-decoration-color: #008080; font-weight: bold\">200.0</span>, <span style=\"color: #008000; text-decoration-color: #008000\">'a'</span>: <span style=\"font-weight: bold\">[</span><span style=\"color: #008080; text-decoration-color: #008080; font-weight: bold\">35.0</span>, <span style=\"color: #008080; text-decoration-color: #008080; font-weight: bold\">35.0</span>, <span style=\"color: #008080; text-decoration-color: #008080; font-weight: bold\">28.0</span>, <span style=\"color: #008080; text-decoration-color: #008080; font-weight: bold\">28.0</span>, <span style=\"color: #008080; text-decoration-color: #008080; font-weight: bold\">28.0</span>, <span style=\"color: #008080; text-decoration-color: #008080; font-weight: bold\">28.0</span>, <span style=\"color: #008080; text-decoration-color: #008080; font-weight: bold\">18.0</span><span style=\"font-weight: bold\">]}</span>,\n",
       "        <span style=\"font-weight: bold\">{</span><span style=\"color: #008000; text-decoration-color: #008000\">'b'</span>: <span style=\"color: #008080; text-decoration-color: #008080; font-weight: bold\">100.0</span>, <span style=\"color: #008000; text-decoration-color: #008000\">'a'</span>: <span style=\"font-weight: bold\">[</span><span style=\"color: #008080; text-decoration-color: #008080; font-weight: bold\">28.0</span>, <span style=\"color: #008080; text-decoration-color: #008080; font-weight: bold\">28.0</span>, <span style=\"color: #008080; text-decoration-color: #008080; font-weight: bold\">28.0</span>, <span style=\"color: #008080; text-decoration-color: #008080; font-weight: bold\">16.0</span><span style=\"font-weight: bold\">]}</span>,\n",
       "        <span style=\"font-weight: bold\">{</span><span style=\"color: #008000; text-decoration-color: #008000\">'b'</span>: <span style=\"color: #008080; text-decoration-color: #008080; font-weight: bold\">88.0</span>, <span style=\"color: #008000; text-decoration-color: #008000\">'a'</span>: <span style=\"font-weight: bold\">[</span><span style=\"color: #008080; text-decoration-color: #008080; font-weight: bold\">28.0</span>, <span style=\"color: #008080; text-decoration-color: #008080; font-weight: bold\">28.0</span>, <span style=\"color: #008080; text-decoration-color: #008080; font-weight: bold\">24.0</span>, <span style=\"color: #008080; text-decoration-color: #008080; font-weight: bold\">8.0</span><span style=\"font-weight: bold\">]}</span>,\n",
       "        <span style=\"font-weight: bold\">{</span><span style=\"color: #008000; text-decoration-color: #008000\">'b'</span>: <span style=\"color: #008080; text-decoration-color: #008080; font-weight: bold\">80.0</span>, <span style=\"color: #008000; text-decoration-color: #008000\">'a'</span>: <span style=\"font-weight: bold\">[</span><span style=\"color: #008080; text-decoration-color: #008080; font-weight: bold\">28.0</span>, <span style=\"color: #008080; text-decoration-color: #008080; font-weight: bold\">26.0</span>, <span style=\"color: #008080; text-decoration-color: #008080; font-weight: bold\">16.0</span>, <span style=\"color: #008080; text-decoration-color: #008080; font-weight: bold\">10.0</span><span style=\"font-weight: bold\">]}</span>,\n",
       "        <span style=\"font-weight: bold\">{</span><span style=\"color: #008000; text-decoration-color: #008000\">'b'</span>: <span style=\"color: #008080; text-decoration-color: #008080; font-weight: bold\">72.0</span>, <span style=\"color: #008000; text-decoration-color: #008000\">'a'</span>: <span style=\"font-weight: bold\">[</span><span style=\"color: #008080; text-decoration-color: #008080; font-weight: bold\">28.0</span>, <span style=\"color: #008080; text-decoration-color: #008080; font-weight: bold\">28.0</span>, <span style=\"color: #008080; text-decoration-color: #008080; font-weight: bold\">16.0</span><span style=\"font-weight: bold\">]}</span>,\n",
       "        <span style=\"font-weight: bold\">{</span><span style=\"color: #008000; text-decoration-color: #008000\">'b'</span>: <span style=\"color: #008080; text-decoration-color: #008080; font-weight: bold\">50.0</span>, <span style=\"color: #008000; text-decoration-color: #008000\">'a'</span>: <span style=\"font-weight: bold\">[</span><span style=\"color: #008080; text-decoration-color: #008080; font-weight: bold\">28.0</span>, <span style=\"color: #008080; text-decoration-color: #008080; font-weight: bold\">22.0</span><span style=\"font-weight: bold\">]}</span>\n",
       "    <span style=\"font-weight: bold\">]</span>,\n",
       "    <span style=\"color: #008000; text-decoration-color: #008000\">'combo_matches_b_to_a'</span>: <span style=\"font-weight: bold\">[]</span>,\n",
       "    <span style=\"color: #008000; text-decoration-color: #008000\">'unmatched_a'</span>: <span style=\"font-weight: bold\">[</span><span style=\"color: #008080; text-decoration-color: #008080; font-weight: bold\">28.0</span>, <span style=\"color: #008080; text-decoration-color: #008080; font-weight: bold\">28.0</span>, <span style=\"color: #008080; text-decoration-color: #008080; font-weight: bold\">28.0</span>, <span style=\"color: #008080; text-decoration-color: #008080; font-weight: bold\">28.0</span>, <span style=\"color: #008080; text-decoration-color: #008080; font-weight: bold\">28.0</span>, <span style=\"color: #008080; text-decoration-color: #008080; font-weight: bold\">28.0</span>, <span style=\"color: #008080; text-decoration-color: #008080; font-weight: bold\">28.0</span><span style=\"font-weight: bold\">]</span>,\n",
       "    <span style=\"color: #008000; text-decoration-color: #008000\">'unmatched_b'</span>: <span style=\"font-weight: bold\">[</span><span style=\"color: #008080; text-decoration-color: #008080; font-weight: bold\">70.0</span>, <span style=\"color: #008080; text-decoration-color: #008080; font-weight: bold\">50.0</span>, <span style=\"color: #008080; text-decoration-color: #008080; font-weight: bold\">41.0</span>, <span style=\"color: #008080; text-decoration-color: #008080; font-weight: bold\">36.0</span><span style=\"font-weight: bold\">]</span>\n",
       "<span style=\"font-weight: bold\">}</span>\n",
       "</pre>\n"
      ],
      "text/plain": [
       "\u001b[33m安徽合肥仓\u001b[0m=>徐福记沙琪玛香酥芝麻味袋装@\u001b[1;35m5\u001b[0m\u001b[1m(\u001b[0m2\u001b[1;36m0x32\u001b[0mg\u001b[1m)\u001b[0m N1 \u001b[33mCN\u001b[0m=>\u001b[1;36m2024\u001b[0m-\u001b[1;36m09\u001b[0m-\u001b[1;36m01\u001b[0m \u001b[1;92m00:00:00\u001b[0m\n",
       "\u001b[1m{\u001b[0m\n",
       "    \u001b[32m'exact_matches'\u001b[0m: \u001b[1m{\u001b[0m\u001b[1;36m4.0\u001b[0m: \u001b[1;36m1\u001b[0m\u001b[1m}\u001b[0m,\n",
       "    \u001b[32m'combo_matches_a_to_b'\u001b[0m: \u001b[1m[\u001b[0m\n",
       "        \u001b[1m{\u001b[0m\u001b[32m'b'\u001b[0m: \u001b[1;36m200.0\u001b[0m, \u001b[32m'a'\u001b[0m: \u001b[1m[\u001b[0m\u001b[1;36m35.0\u001b[0m, \u001b[1;36m35.0\u001b[0m, \u001b[1;36m28.0\u001b[0m, \u001b[1;36m28.0\u001b[0m, \u001b[1;36m28.0\u001b[0m, \u001b[1;36m28.0\u001b[0m, \u001b[1;36m18.0\u001b[0m\u001b[1m]\u001b[0m\u001b[1m}\u001b[0m,\n",
       "        \u001b[1m{\u001b[0m\u001b[32m'b'\u001b[0m: \u001b[1;36m100.0\u001b[0m, \u001b[32m'a'\u001b[0m: \u001b[1m[\u001b[0m\u001b[1;36m28.0\u001b[0m, \u001b[1;36m28.0\u001b[0m, \u001b[1;36m28.0\u001b[0m, \u001b[1;36m16.0\u001b[0m\u001b[1m]\u001b[0m\u001b[1m}\u001b[0m,\n",
       "        \u001b[1m{\u001b[0m\u001b[32m'b'\u001b[0m: \u001b[1;36m88.0\u001b[0m, \u001b[32m'a'\u001b[0m: \u001b[1m[\u001b[0m\u001b[1;36m28.0\u001b[0m, \u001b[1;36m28.0\u001b[0m, \u001b[1;36m24.0\u001b[0m, \u001b[1;36m8.0\u001b[0m\u001b[1m]\u001b[0m\u001b[1m}\u001b[0m,\n",
       "        \u001b[1m{\u001b[0m\u001b[32m'b'\u001b[0m: \u001b[1;36m80.0\u001b[0m, \u001b[32m'a'\u001b[0m: \u001b[1m[\u001b[0m\u001b[1;36m28.0\u001b[0m, \u001b[1;36m26.0\u001b[0m, \u001b[1;36m16.0\u001b[0m, \u001b[1;36m10.0\u001b[0m\u001b[1m]\u001b[0m\u001b[1m}\u001b[0m,\n",
       "        \u001b[1m{\u001b[0m\u001b[32m'b'\u001b[0m: \u001b[1;36m72.0\u001b[0m, \u001b[32m'a'\u001b[0m: \u001b[1m[\u001b[0m\u001b[1;36m28.0\u001b[0m, \u001b[1;36m28.0\u001b[0m, \u001b[1;36m16.0\u001b[0m\u001b[1m]\u001b[0m\u001b[1m}\u001b[0m,\n",
       "        \u001b[1m{\u001b[0m\u001b[32m'b'\u001b[0m: \u001b[1;36m50.0\u001b[0m, \u001b[32m'a'\u001b[0m: \u001b[1m[\u001b[0m\u001b[1;36m28.0\u001b[0m, \u001b[1;36m22.0\u001b[0m\u001b[1m]\u001b[0m\u001b[1m}\u001b[0m\n",
       "    \u001b[1m]\u001b[0m,\n",
       "    \u001b[32m'combo_matches_b_to_a'\u001b[0m: \u001b[1m[\u001b[0m\u001b[1m]\u001b[0m,\n",
       "    \u001b[32m'unmatched_a'\u001b[0m: \u001b[1m[\u001b[0m\u001b[1;36m28.0\u001b[0m, \u001b[1;36m28.0\u001b[0m, \u001b[1;36m28.0\u001b[0m, \u001b[1;36m28.0\u001b[0m, \u001b[1;36m28.0\u001b[0m, \u001b[1;36m28.0\u001b[0m, \u001b[1;36m28.0\u001b[0m\u001b[1m]\u001b[0m,\n",
       "    \u001b[32m'unmatched_b'\u001b[0m: \u001b[1m[\u001b[0m\u001b[1;36m70.0\u001b[0m, \u001b[1;36m50.0\u001b[0m, \u001b[1;36m41.0\u001b[0m, \u001b[1;36m36.0\u001b[0m\u001b[1m]\u001b[0m\n",
       "\u001b[1m}\u001b[0m\n"
      ]
     },
     "metadata": {},
     "output_type": "display_data"
    },
    {
     "data": {
      "text/html": [
       "<pre style=\"white-space:pre;overflow-x:auto;line-height:normal;font-family:Menlo,'DejaVu Sans Mono',consolas,'Courier New',monospace\"><span style=\"color: #808000; text-decoration-color: #808000\">安徽合肥仓</span>=&gt;徐福记沙琪玛香酥芝麻味袋装@<span style=\"color: #800080; text-decoration-color: #800080; font-weight: bold\">5</span><span style=\"font-weight: bold\">(</span>2<span style=\"color: #008080; text-decoration-color: #008080; font-weight: bold\">0x32</span>g<span style=\"font-weight: bold\">)</span> N1 <span style=\"color: #808000; text-decoration-color: #808000\">CN</span>=&gt;<span style=\"color: #008080; text-decoration-color: #008080; font-weight: bold\">2024</span>-<span style=\"color: #008080; text-decoration-color: #008080; font-weight: bold\">10</span>-<span style=\"color: #008080; text-decoration-color: #008080; font-weight: bold\">01</span> <span style=\"color: #00ff00; text-decoration-color: #00ff00; font-weight: bold\">00:00:00</span>\n",
       "<span style=\"font-weight: bold\">{</span>\n",
       "    <span style=\"color: #008000; text-decoration-color: #008000\">'exact_matches'</span>: <span style=\"font-weight: bold\">{}</span>,\n",
       "    <span style=\"color: #008000; text-decoration-color: #008000\">'combo_matches_a_to_b'</span>: <span style=\"font-weight: bold\">[</span>\n",
       "        <span style=\"font-weight: bold\">{</span><span style=\"color: #008000; text-decoration-color: #008000\">'b'</span>: <span style=\"color: #008080; text-decoration-color: #008080; font-weight: bold\">100.0</span>, <span style=\"color: #008000; text-decoration-color: #008000\">'a'</span>: <span style=\"font-weight: bold\">[</span><span style=\"color: #008080; text-decoration-color: #008080; font-weight: bold\">28.0</span>, <span style=\"color: #008080; text-decoration-color: #008080; font-weight: bold\">28.0</span>, <span style=\"color: #008080; text-decoration-color: #008080; font-weight: bold\">28.0</span>, <span style=\"color: #008080; text-decoration-color: #008080; font-weight: bold\">16.0</span><span style=\"font-weight: bold\">]}</span>,\n",
       "        <span style=\"font-weight: bold\">{</span><span style=\"color: #008000; text-decoration-color: #008000\">'b'</span>: <span style=\"color: #008080; text-decoration-color: #008080; font-weight: bold\">90.0</span>, <span style=\"color: #008000; text-decoration-color: #008000\">'a'</span>: <span style=\"font-weight: bold\">[</span><span style=\"color: #008080; text-decoration-color: #008080; font-weight: bold\">28.0</span>, <span style=\"color: #008080; text-decoration-color: #008080; font-weight: bold\">28.0</span>, <span style=\"color: #008080; text-decoration-color: #008080; font-weight: bold\">28.0</span>, <span style=\"color: #008080; text-decoration-color: #008080; font-weight: bold\">6.0</span><span style=\"font-weight: bold\">]}</span>\n",
       "    <span style=\"font-weight: bold\">]</span>,\n",
       "    <span style=\"color: #008000; text-decoration-color: #008000\">'combo_matches_b_to_a'</span>: <span style=\"font-weight: bold\">[]</span>,\n",
       "    <span style=\"color: #008000; text-decoration-color: #008000\">'unmatched_a'</span>: <span style=\"font-weight: bold\">[</span><span style=\"color: #008080; text-decoration-color: #008080; font-weight: bold\">28.0</span>, <span style=\"color: #008080; text-decoration-color: #008080; font-weight: bold\">28.0</span>, <span style=\"color: #008080; text-decoration-color: #008080; font-weight: bold\">28.0</span>, <span style=\"color: #008080; text-decoration-color: #008080; font-weight: bold\">28.0</span>, <span style=\"color: #008080; text-decoration-color: #008080; font-weight: bold\">28.0</span>, <span style=\"color: #008080; text-decoration-color: #008080; font-weight: bold\">28.0</span>, <span style=\"color: #008080; text-decoration-color: #008080; font-weight: bold\">16.0</span>, <span style=\"color: #008080; text-decoration-color: #008080; font-weight: bold\">16.0</span><span style=\"font-weight: bold\">]</span>,\n",
       "    <span style=\"color: #008000; text-decoration-color: #008000\">'unmatched_b'</span>: <span style=\"font-weight: bold\">[</span><span style=\"color: #008080; text-decoration-color: #008080; font-weight: bold\">100.0</span>, <span style=\"color: #008080; text-decoration-color: #008080; font-weight: bold\">100.0</span>, <span style=\"color: #008080; text-decoration-color: #008080; font-weight: bold\">50.0</span><span style=\"font-weight: bold\">]</span>\n",
       "<span style=\"font-weight: bold\">}</span>\n",
       "</pre>\n"
      ],
      "text/plain": [
       "\u001b[33m安徽合肥仓\u001b[0m=>徐福记沙琪玛香酥芝麻味袋装@\u001b[1;35m5\u001b[0m\u001b[1m(\u001b[0m2\u001b[1;36m0x32\u001b[0mg\u001b[1m)\u001b[0m N1 \u001b[33mCN\u001b[0m=>\u001b[1;36m2024\u001b[0m-\u001b[1;36m10\u001b[0m-\u001b[1;36m01\u001b[0m \u001b[1;92m00:00:00\u001b[0m\n",
       "\u001b[1m{\u001b[0m\n",
       "    \u001b[32m'exact_matches'\u001b[0m: \u001b[1m{\u001b[0m\u001b[1m}\u001b[0m,\n",
       "    \u001b[32m'combo_matches_a_to_b'\u001b[0m: \u001b[1m[\u001b[0m\n",
       "        \u001b[1m{\u001b[0m\u001b[32m'b'\u001b[0m: \u001b[1;36m100.0\u001b[0m, \u001b[32m'a'\u001b[0m: \u001b[1m[\u001b[0m\u001b[1;36m28.0\u001b[0m, \u001b[1;36m28.0\u001b[0m, \u001b[1;36m28.0\u001b[0m, \u001b[1;36m16.0\u001b[0m\u001b[1m]\u001b[0m\u001b[1m}\u001b[0m,\n",
       "        \u001b[1m{\u001b[0m\u001b[32m'b'\u001b[0m: \u001b[1;36m90.0\u001b[0m, \u001b[32m'a'\u001b[0m: \u001b[1m[\u001b[0m\u001b[1;36m28.0\u001b[0m, \u001b[1;36m28.0\u001b[0m, \u001b[1;36m28.0\u001b[0m, \u001b[1;36m6.0\u001b[0m\u001b[1m]\u001b[0m\u001b[1m}\u001b[0m\n",
       "    \u001b[1m]\u001b[0m,\n",
       "    \u001b[32m'combo_matches_b_to_a'\u001b[0m: \u001b[1m[\u001b[0m\u001b[1m]\u001b[0m,\n",
       "    \u001b[32m'unmatched_a'\u001b[0m: \u001b[1m[\u001b[0m\u001b[1;36m28.0\u001b[0m, \u001b[1;36m28.0\u001b[0m, \u001b[1;36m28.0\u001b[0m, \u001b[1;36m28.0\u001b[0m, \u001b[1;36m28.0\u001b[0m, \u001b[1;36m28.0\u001b[0m, \u001b[1;36m16.0\u001b[0m, \u001b[1;36m16.0\u001b[0m\u001b[1m]\u001b[0m,\n",
       "    \u001b[32m'unmatched_b'\u001b[0m: \u001b[1m[\u001b[0m\u001b[1;36m100.0\u001b[0m, \u001b[1;36m100.0\u001b[0m, \u001b[1;36m50.0\u001b[0m\u001b[1m]\u001b[0m\n",
       "\u001b[1m}\u001b[0m\n"
      ]
     },
     "metadata": {},
     "output_type": "display_data"
    },
    {
     "data": {
      "text/html": [
       "<pre style=\"white-space:pre;overflow-x:auto;line-height:normal;font-family:Menlo,'DejaVu Sans Mono',consolas,'Courier New',monospace\"><span style=\"color: #808000; text-decoration-color: #808000\">安徽合肥仓</span>=&gt;徐福记沙琪玛香酥芝麻味袋装@<span style=\"color: #800080; text-decoration-color: #800080; font-weight: bold\">5</span><span style=\"font-weight: bold\">(</span>2<span style=\"color: #008080; text-decoration-color: #008080; font-weight: bold\">0x32</span>g<span style=\"font-weight: bold\">)</span> N1 <span style=\"color: #808000; text-decoration-color: #808000\">CN</span>=&gt;<span style=\"color: #008080; text-decoration-color: #008080; font-weight: bold\">2024</span>-<span style=\"color: #008080; text-decoration-color: #008080; font-weight: bold\">11</span>-<span style=\"color: #008080; text-decoration-color: #008080; font-weight: bold\">01</span> <span style=\"color: #00ff00; text-decoration-color: #00ff00; font-weight: bold\">00:00:00</span>\n",
       "<span style=\"font-weight: bold\">{</span>\n",
       "    <span style=\"color: #008000; text-decoration-color: #008000\">'exact_matches'</span>: <span style=\"font-weight: bold\">{</span><span style=\"color: #008080; text-decoration-color: #008080; font-weight: bold\">28.0</span>: <span style=\"color: #008080; text-decoration-color: #008080; font-weight: bold\">1</span><span style=\"font-weight: bold\">}</span>,\n",
       "    <span style=\"color: #008000; text-decoration-color: #008000\">'combo_matches_a_to_b'</span>: <span style=\"font-weight: bold\">[</span>\n",
       "        <span style=\"font-weight: bold\">{</span><span style=\"color: #008000; text-decoration-color: #008000\">'b'</span>: <span style=\"color: #008080; text-decoration-color: #008080; font-weight: bold\">100.0</span>, <span style=\"color: #008000; text-decoration-color: #008000\">'a'</span>: <span style=\"font-weight: bold\">[</span><span style=\"color: #008080; text-decoration-color: #008080; font-weight: bold\">28.0</span>, <span style=\"color: #008080; text-decoration-color: #008080; font-weight: bold\">28.0</span>, <span style=\"color: #008080; text-decoration-color: #008080; font-weight: bold\">28.0</span>, <span style=\"color: #008080; text-decoration-color: #008080; font-weight: bold\">16.0</span><span style=\"font-weight: bold\">]}</span>,\n",
       "        <span style=\"font-weight: bold\">{</span><span style=\"color: #008000; text-decoration-color: #008000\">'b'</span>: <span style=\"color: #008080; text-decoration-color: #008080; font-weight: bold\">82.0</span>, <span style=\"color: #008000; text-decoration-color: #008000\">'a'</span>: <span style=\"font-weight: bold\">[</span><span style=\"color: #008080; text-decoration-color: #008080; font-weight: bold\">28.0</span>, <span style=\"color: #008080; text-decoration-color: #008080; font-weight: bold\">28.0</span>, <span style=\"color: #008080; text-decoration-color: #008080; font-weight: bold\">26.0</span><span style=\"font-weight: bold\">]}</span>,\n",
       "        <span style=\"font-weight: bold\">{</span><span style=\"color: #008000; text-decoration-color: #008000\">'b'</span>: <span style=\"color: #008080; text-decoration-color: #008080; font-weight: bold\">57.0</span>, <span style=\"color: #008000; text-decoration-color: #008000\">'a'</span>: <span style=\"font-weight: bold\">[</span><span style=\"color: #008080; text-decoration-color: #008080; font-weight: bold\">28.0</span>, <span style=\"color: #008080; text-decoration-color: #008080; font-weight: bold\">28.0</span>, <span style=\"color: #008080; text-decoration-color: #008080; font-weight: bold\">1.0</span><span style=\"font-weight: bold\">]}</span>,\n",
       "        <span style=\"font-weight: bold\">{</span><span style=\"color: #008000; text-decoration-color: #008000\">'b'</span>: <span style=\"color: #008080; text-decoration-color: #008080; font-weight: bold\">55.0</span>, <span style=\"color: #008000; text-decoration-color: #008000\">'a'</span>: <span style=\"font-weight: bold\">[</span><span style=\"color: #008080; text-decoration-color: #008080; font-weight: bold\">28.0</span>, <span style=\"color: #008080; text-decoration-color: #008080; font-weight: bold\">27.0</span><span style=\"font-weight: bold\">]}</span>,\n",
       "        <span style=\"font-weight: bold\">{</span><span style=\"color: #008000; text-decoration-color: #008000\">'b'</span>: <span style=\"color: #008080; text-decoration-color: #008080; font-weight: bold\">50.0</span>, <span style=\"color: #008000; text-decoration-color: #008000\">'a'</span>: <span style=\"font-weight: bold\">[</span><span style=\"color: #008080; text-decoration-color: #008080; font-weight: bold\">28.0</span>, <span style=\"color: #008080; text-decoration-color: #008080; font-weight: bold\">22.0</span><span style=\"font-weight: bold\">]}</span>,\n",
       "        <span style=\"font-weight: bold\">{</span><span style=\"color: #008000; text-decoration-color: #008000\">'b'</span>: <span style=\"color: #008080; text-decoration-color: #008080; font-weight: bold\">33.0</span>, <span style=\"color: #008000; text-decoration-color: #008000\">'a'</span>: <span style=\"font-weight: bold\">[</span><span style=\"color: #008080; text-decoration-color: #008080; font-weight: bold\">28.0</span>, <span style=\"color: #008080; text-decoration-color: #008080; font-weight: bold\">5.0</span><span style=\"font-weight: bold\">]}</span>,\n",
       "        <span style=\"font-weight: bold\">{</span><span style=\"color: #008000; text-decoration-color: #008000\">'b'</span>: <span style=\"color: #008080; text-decoration-color: #008080; font-weight: bold\">30.0</span>, <span style=\"color: #008000; text-decoration-color: #008000\">'a'</span>: <span style=\"font-weight: bold\">[</span><span style=\"color: #008080; text-decoration-color: #008080; font-weight: bold\">17.0</span>, <span style=\"color: #008080; text-decoration-color: #008080; font-weight: bold\">13.0</span><span style=\"font-weight: bold\">]}</span>\n",
       "    <span style=\"font-weight: bold\">]</span>,\n",
       "    <span style=\"color: #008000; text-decoration-color: #008000\">'combo_matches_b_to_a'</span>: <span style=\"font-weight: bold\">[]</span>,\n",
       "    <span style=\"color: #008000; text-decoration-color: #008000\">'unmatched_a'</span>: <span style=\"font-weight: bold\">[</span><span style=\"color: #008080; text-decoration-color: #008080; font-weight: bold\">28.0</span>, <span style=\"color: #008080; text-decoration-color: #008080; font-weight: bold\">28.0</span>, <span style=\"color: #008080; text-decoration-color: #008080; font-weight: bold\">24.0</span>, <span style=\"color: #008080; text-decoration-color: #008080; font-weight: bold\">22.0</span><span style=\"font-weight: bold\">]</span>,\n",
       "    <span style=\"color: #008000; text-decoration-color: #008000\">'unmatched_b'</span>: <span style=\"font-weight: bold\">[</span><span style=\"color: #008080; text-decoration-color: #008080; font-weight: bold\">25.0</span>, <span style=\"color: #008080; text-decoration-color: #008080; font-weight: bold\">9.0</span><span style=\"font-weight: bold\">]</span>\n",
       "<span style=\"font-weight: bold\">}</span>\n",
       "</pre>\n"
      ],
      "text/plain": [
       "\u001b[33m安徽合肥仓\u001b[0m=>徐福记沙琪玛香酥芝麻味袋装@\u001b[1;35m5\u001b[0m\u001b[1m(\u001b[0m2\u001b[1;36m0x32\u001b[0mg\u001b[1m)\u001b[0m N1 \u001b[33mCN\u001b[0m=>\u001b[1;36m2024\u001b[0m-\u001b[1;36m11\u001b[0m-\u001b[1;36m01\u001b[0m \u001b[1;92m00:00:00\u001b[0m\n",
       "\u001b[1m{\u001b[0m\n",
       "    \u001b[32m'exact_matches'\u001b[0m: \u001b[1m{\u001b[0m\u001b[1;36m28.0\u001b[0m: \u001b[1;36m1\u001b[0m\u001b[1m}\u001b[0m,\n",
       "    \u001b[32m'combo_matches_a_to_b'\u001b[0m: \u001b[1m[\u001b[0m\n",
       "        \u001b[1m{\u001b[0m\u001b[32m'b'\u001b[0m: \u001b[1;36m100.0\u001b[0m, \u001b[32m'a'\u001b[0m: \u001b[1m[\u001b[0m\u001b[1;36m28.0\u001b[0m, \u001b[1;36m28.0\u001b[0m, \u001b[1;36m28.0\u001b[0m, \u001b[1;36m16.0\u001b[0m\u001b[1m]\u001b[0m\u001b[1m}\u001b[0m,\n",
       "        \u001b[1m{\u001b[0m\u001b[32m'b'\u001b[0m: \u001b[1;36m82.0\u001b[0m, \u001b[32m'a'\u001b[0m: \u001b[1m[\u001b[0m\u001b[1;36m28.0\u001b[0m, \u001b[1;36m28.0\u001b[0m, \u001b[1;36m26.0\u001b[0m\u001b[1m]\u001b[0m\u001b[1m}\u001b[0m,\n",
       "        \u001b[1m{\u001b[0m\u001b[32m'b'\u001b[0m: \u001b[1;36m57.0\u001b[0m, \u001b[32m'a'\u001b[0m: \u001b[1m[\u001b[0m\u001b[1;36m28.0\u001b[0m, \u001b[1;36m28.0\u001b[0m, \u001b[1;36m1.0\u001b[0m\u001b[1m]\u001b[0m\u001b[1m}\u001b[0m,\n",
       "        \u001b[1m{\u001b[0m\u001b[32m'b'\u001b[0m: \u001b[1;36m55.0\u001b[0m, \u001b[32m'a'\u001b[0m: \u001b[1m[\u001b[0m\u001b[1;36m28.0\u001b[0m, \u001b[1;36m27.0\u001b[0m\u001b[1m]\u001b[0m\u001b[1m}\u001b[0m,\n",
       "        \u001b[1m{\u001b[0m\u001b[32m'b'\u001b[0m: \u001b[1;36m50.0\u001b[0m, \u001b[32m'a'\u001b[0m: \u001b[1m[\u001b[0m\u001b[1;36m28.0\u001b[0m, \u001b[1;36m22.0\u001b[0m\u001b[1m]\u001b[0m\u001b[1m}\u001b[0m,\n",
       "        \u001b[1m{\u001b[0m\u001b[32m'b'\u001b[0m: \u001b[1;36m33.0\u001b[0m, \u001b[32m'a'\u001b[0m: \u001b[1m[\u001b[0m\u001b[1;36m28.0\u001b[0m, \u001b[1;36m5.0\u001b[0m\u001b[1m]\u001b[0m\u001b[1m}\u001b[0m,\n",
       "        \u001b[1m{\u001b[0m\u001b[32m'b'\u001b[0m: \u001b[1;36m30.0\u001b[0m, \u001b[32m'a'\u001b[0m: \u001b[1m[\u001b[0m\u001b[1;36m17.0\u001b[0m, \u001b[1;36m13.0\u001b[0m\u001b[1m]\u001b[0m\u001b[1m}\u001b[0m\n",
       "    \u001b[1m]\u001b[0m,\n",
       "    \u001b[32m'combo_matches_b_to_a'\u001b[0m: \u001b[1m[\u001b[0m\u001b[1m]\u001b[0m,\n",
       "    \u001b[32m'unmatched_a'\u001b[0m: \u001b[1m[\u001b[0m\u001b[1;36m28.0\u001b[0m, \u001b[1;36m28.0\u001b[0m, \u001b[1;36m24.0\u001b[0m, \u001b[1;36m22.0\u001b[0m\u001b[1m]\u001b[0m,\n",
       "    \u001b[32m'unmatched_b'\u001b[0m: \u001b[1m[\u001b[0m\u001b[1;36m25.0\u001b[0m, \u001b[1;36m9.0\u001b[0m\u001b[1m]\u001b[0m\n",
       "\u001b[1m}\u001b[0m\n"
      ]
     },
     "metadata": {},
     "output_type": "display_data"
    },
    {
     "data": {
      "text/html": [
       "<pre style=\"white-space:pre;overflow-x:auto;line-height:normal;font-family:Menlo,'DejaVu Sans Mono',consolas,'Courier New',monospace\"><span style=\"color: #808000; text-decoration-color: #808000\">安徽合肥仓</span>=&gt;徐福记沙琪玛香酥芝麻味袋装@<span style=\"color: #800080; text-decoration-color: #800080; font-weight: bold\">5</span><span style=\"font-weight: bold\">(</span>2<span style=\"color: #008080; text-decoration-color: #008080; font-weight: bold\">0x32</span>g<span style=\"font-weight: bold\">)</span> N1 <span style=\"color: #808000; text-decoration-color: #808000\">CN</span>=&gt;<span style=\"color: #008080; text-decoration-color: #008080; font-weight: bold\">2024</span>-<span style=\"color: #008080; text-decoration-color: #008080; font-weight: bold\">12</span>-<span style=\"color: #008080; text-decoration-color: #008080; font-weight: bold\">01</span> <span style=\"color: #00ff00; text-decoration-color: #00ff00; font-weight: bold\">00:00:00</span>\n",
       "<span style=\"font-weight: bold\">{</span>\n",
       "    <span style=\"color: #008000; text-decoration-color: #008000\">'exact_matches'</span>: <span style=\"font-weight: bold\">{</span><span style=\"color: #008080; text-decoration-color: #008080; font-weight: bold\">1.0</span>: <span style=\"color: #008080; text-decoration-color: #008080; font-weight: bold\">1</span>, <span style=\"color: #008080; text-decoration-color: #008080; font-weight: bold\">20.0</span>: <span style=\"color: #008080; text-decoration-color: #008080; font-weight: bold\">2</span>, <span style=\"color: #008080; text-decoration-color: #008080; font-weight: bold\">23.0</span>: <span style=\"color: #008080; text-decoration-color: #008080; font-weight: bold\">1</span>, <span style=\"color: #008080; text-decoration-color: #008080; font-weight: bold\">25.0</span>: <span style=\"color: #008080; text-decoration-color: #008080; font-weight: bold\">1</span>, <span style=\"color: #008080; text-decoration-color: #008080; font-weight: bold\">28.0</span>: <span style=\"color: #008080; text-decoration-color: #008080; font-weight: bold\">1</span><span style=\"font-weight: bold\">}</span>,\n",
       "    <span style=\"color: #008000; text-decoration-color: #008000\">'combo_matches_a_to_b'</span>: <span style=\"font-weight: bold\">[</span>\n",
       "        <span style=\"font-weight: bold\">{</span><span style=\"color: #008000; text-decoration-color: #008000\">'b'</span>: <span style=\"color: #008080; text-decoration-color: #008080; font-weight: bold\">100.0</span>, <span style=\"color: #008000; text-decoration-color: #008000\">'a'</span>: <span style=\"font-weight: bold\">[</span><span style=\"color: #008080; text-decoration-color: #008080; font-weight: bold\">28.0</span>, <span style=\"color: #008080; text-decoration-color: #008080; font-weight: bold\">28.0</span>, <span style=\"color: #008080; text-decoration-color: #008080; font-weight: bold\">28.0</span>, <span style=\"color: #008080; text-decoration-color: #008080; font-weight: bold\">16.0</span><span style=\"font-weight: bold\">]}</span>,\n",
       "        <span style=\"font-weight: bold\">{</span><span style=\"color: #008000; text-decoration-color: #008000\">'b'</span>: <span style=\"color: #008080; text-decoration-color: #008080; font-weight: bold\">80.0</span>, <span style=\"color: #008000; text-decoration-color: #008000\">'a'</span>: <span style=\"font-weight: bold\">[</span><span style=\"color: #008080; text-decoration-color: #008080; font-weight: bold\">28.0</span>, <span style=\"color: #008080; text-decoration-color: #008080; font-weight: bold\">28.0</span>, <span style=\"color: #008080; text-decoration-color: #008080; font-weight: bold\">24.0</span><span style=\"font-weight: bold\">]}</span>,\n",
       "        <span style=\"font-weight: bold\">{</span><span style=\"color: #008000; text-decoration-color: #008000\">'b'</span>: <span style=\"color: #008080; text-decoration-color: #008080; font-weight: bold\">76.0</span>, <span style=\"color: #008000; text-decoration-color: #008000\">'a'</span>: <span style=\"font-weight: bold\">[</span><span style=\"color: #008080; text-decoration-color: #008080; font-weight: bold\">28.0</span>, <span style=\"color: #008080; text-decoration-color: #008080; font-weight: bold\">28.0</span>, <span style=\"color: #008080; text-decoration-color: #008080; font-weight: bold\">16.0</span>, <span style=\"color: #008080; text-decoration-color: #008080; font-weight: bold\">4.0</span><span style=\"font-weight: bold\">]}</span>,\n",
       "        <span style=\"font-weight: bold\">{</span><span style=\"color: #008000; text-decoration-color: #008000\">'b'</span>: <span style=\"color: #008080; text-decoration-color: #008080; font-weight: bold\">52.0</span>, <span style=\"color: #008000; text-decoration-color: #008000\">'a'</span>: <span style=\"font-weight: bold\">[</span><span style=\"color: #008080; text-decoration-color: #008080; font-weight: bold\">28.0</span>, <span style=\"color: #008080; text-decoration-color: #008080; font-weight: bold\">24.0</span><span style=\"font-weight: bold\">]}</span>,\n",
       "        <span style=\"font-weight: bold\">{</span><span style=\"color: #008000; text-decoration-color: #008000\">'b'</span>: <span style=\"color: #008080; text-decoration-color: #008080; font-weight: bold\">50.0</span>, <span style=\"color: #008000; text-decoration-color: #008000\">'a'</span>: <span style=\"font-weight: bold\">[</span><span style=\"color: #008080; text-decoration-color: #008080; font-weight: bold\">26.0</span>, <span style=\"color: #008080; text-decoration-color: #008080; font-weight: bold\">16.0</span>, <span style=\"color: #008080; text-decoration-color: #008080; font-weight: bold\">8.0</span><span style=\"font-weight: bold\">]}</span>,\n",
       "        <span style=\"font-weight: bold\">{</span><span style=\"color: #008000; text-decoration-color: #008000\">'b'</span>: <span style=\"color: #008080; text-decoration-color: #008080; font-weight: bold\">35.0</span>, <span style=\"color: #008000; text-decoration-color: #008000\">'a'</span>: <span style=\"font-weight: bold\">[</span><span style=\"color: #008080; text-decoration-color: #008080; font-weight: bold\">28.0</span>, <span style=\"color: #008080; text-decoration-color: #008080; font-weight: bold\">5.0</span>, <span style=\"color: #008080; text-decoration-color: #008080; font-weight: bold\">2.0</span><span style=\"font-weight: bold\">]}</span>,\n",
       "        <span style=\"font-weight: bold\">{</span><span style=\"color: #008000; text-decoration-color: #008000\">'b'</span>: <span style=\"color: #008080; text-decoration-color: #008080; font-weight: bold\">30.0</span>, <span style=\"color: #008000; text-decoration-color: #008000\">'a'</span>: <span style=\"font-weight: bold\">[</span><span style=\"color: #008080; text-decoration-color: #008080; font-weight: bold\">15.0</span>, <span style=\"color: #008080; text-decoration-color: #008080; font-weight: bold\">15.0</span><span style=\"font-weight: bold\">]}</span>\n",
       "    <span style=\"font-weight: bold\">]</span>,\n",
       "    <span style=\"color: #008000; text-decoration-color: #008000\">'combo_matches_b_to_a'</span>: <span style=\"font-weight: bold\">[]</span>,\n",
       "    <span style=\"color: #008000; text-decoration-color: #008000\">'unmatched_a'</span>: <span style=\"font-weight: bold\">[</span><span style=\"color: #008080; text-decoration-color: #008080; font-weight: bold\">28.0</span>, <span style=\"color: #008080; text-decoration-color: #008080; font-weight: bold\">28.0</span>, <span style=\"color: #008080; text-decoration-color: #008080; font-weight: bold\">28.0</span>, <span style=\"color: #008080; text-decoration-color: #008080; font-weight: bold\">28.0</span>, <span style=\"color: #008080; text-decoration-color: #008080; font-weight: bold\">28.0</span>, <span style=\"color: #008080; text-decoration-color: #008080; font-weight: bold\">28.0</span>, <span style=\"color: #008080; text-decoration-color: #008080; font-weight: bold\">28.0</span>, <span style=\"color: #008080; text-decoration-color: #008080; font-weight: bold\">28.0</span>, <span style=\"color: #008080; text-decoration-color: #008080; font-weight: bold\">16.0</span>, <span style=\"color: #008080; text-decoration-color: #008080; font-weight: bold\">12.0</span>, <span style=\"color: #008080; text-decoration-color: #008080; font-weight: bold\">12.0</span>, <span style=\"color: #008080; text-decoration-color: #008080; font-weight: bold\">12.0</span>, <span style=\"color: #008080; text-decoration-color: #008080; font-weight: bold\">12.0</span>, <span style=\"color: #008080; text-decoration-color: #008080; font-weight: bold\">8.0</span>, <span style=\"color: #008080; text-decoration-color: #008080; font-weight: bold\">4.0</span>, <span style=\"color: #008080; text-decoration-color: #008080; font-weight: bold\">1.0</span><span style=\"font-weight: bold\">]</span>,\n",
       "    <span style=\"color: #008000; text-decoration-color: #008000\">'unmatched_b'</span>: <span style=\"font-weight: bold\">[</span><span style=\"color: #008080; text-decoration-color: #008080; font-weight: bold\">100.0</span>, <span style=\"color: #008080; text-decoration-color: #008080; font-weight: bold\">100.0</span>, <span style=\"color: #008080; text-decoration-color: #008080; font-weight: bold\">100.0</span><span style=\"font-weight: bold\">]</span>\n",
       "<span style=\"font-weight: bold\">}</span>\n",
       "</pre>\n"
      ],
      "text/plain": [
       "\u001b[33m安徽合肥仓\u001b[0m=>徐福记沙琪玛香酥芝麻味袋装@\u001b[1;35m5\u001b[0m\u001b[1m(\u001b[0m2\u001b[1;36m0x32\u001b[0mg\u001b[1m)\u001b[0m N1 \u001b[33mCN\u001b[0m=>\u001b[1;36m2024\u001b[0m-\u001b[1;36m12\u001b[0m-\u001b[1;36m01\u001b[0m \u001b[1;92m00:00:00\u001b[0m\n",
       "\u001b[1m{\u001b[0m\n",
       "    \u001b[32m'exact_matches'\u001b[0m: \u001b[1m{\u001b[0m\u001b[1;36m1.0\u001b[0m: \u001b[1;36m1\u001b[0m, \u001b[1;36m20.0\u001b[0m: \u001b[1;36m2\u001b[0m, \u001b[1;36m23.0\u001b[0m: \u001b[1;36m1\u001b[0m, \u001b[1;36m25.0\u001b[0m: \u001b[1;36m1\u001b[0m, \u001b[1;36m28.0\u001b[0m: \u001b[1;36m1\u001b[0m\u001b[1m}\u001b[0m,\n",
       "    \u001b[32m'combo_matches_a_to_b'\u001b[0m: \u001b[1m[\u001b[0m\n",
       "        \u001b[1m{\u001b[0m\u001b[32m'b'\u001b[0m: \u001b[1;36m100.0\u001b[0m, \u001b[32m'a'\u001b[0m: \u001b[1m[\u001b[0m\u001b[1;36m28.0\u001b[0m, \u001b[1;36m28.0\u001b[0m, \u001b[1;36m28.0\u001b[0m, \u001b[1;36m16.0\u001b[0m\u001b[1m]\u001b[0m\u001b[1m}\u001b[0m,\n",
       "        \u001b[1m{\u001b[0m\u001b[32m'b'\u001b[0m: \u001b[1;36m80.0\u001b[0m, \u001b[32m'a'\u001b[0m: \u001b[1m[\u001b[0m\u001b[1;36m28.0\u001b[0m, \u001b[1;36m28.0\u001b[0m, \u001b[1;36m24.0\u001b[0m\u001b[1m]\u001b[0m\u001b[1m}\u001b[0m,\n",
       "        \u001b[1m{\u001b[0m\u001b[32m'b'\u001b[0m: \u001b[1;36m76.0\u001b[0m, \u001b[32m'a'\u001b[0m: \u001b[1m[\u001b[0m\u001b[1;36m28.0\u001b[0m, \u001b[1;36m28.0\u001b[0m, \u001b[1;36m16.0\u001b[0m, \u001b[1;36m4.0\u001b[0m\u001b[1m]\u001b[0m\u001b[1m}\u001b[0m,\n",
       "        \u001b[1m{\u001b[0m\u001b[32m'b'\u001b[0m: \u001b[1;36m52.0\u001b[0m, \u001b[32m'a'\u001b[0m: \u001b[1m[\u001b[0m\u001b[1;36m28.0\u001b[0m, \u001b[1;36m24.0\u001b[0m\u001b[1m]\u001b[0m\u001b[1m}\u001b[0m,\n",
       "        \u001b[1m{\u001b[0m\u001b[32m'b'\u001b[0m: \u001b[1;36m50.0\u001b[0m, \u001b[32m'a'\u001b[0m: \u001b[1m[\u001b[0m\u001b[1;36m26.0\u001b[0m, \u001b[1;36m16.0\u001b[0m, \u001b[1;36m8.0\u001b[0m\u001b[1m]\u001b[0m\u001b[1m}\u001b[0m,\n",
       "        \u001b[1m{\u001b[0m\u001b[32m'b'\u001b[0m: \u001b[1;36m35.0\u001b[0m, \u001b[32m'a'\u001b[0m: \u001b[1m[\u001b[0m\u001b[1;36m28.0\u001b[0m, \u001b[1;36m5.0\u001b[0m, \u001b[1;36m2.0\u001b[0m\u001b[1m]\u001b[0m\u001b[1m}\u001b[0m,\n",
       "        \u001b[1m{\u001b[0m\u001b[32m'b'\u001b[0m: \u001b[1;36m30.0\u001b[0m, \u001b[32m'a'\u001b[0m: \u001b[1m[\u001b[0m\u001b[1;36m15.0\u001b[0m, \u001b[1;36m15.0\u001b[0m\u001b[1m]\u001b[0m\u001b[1m}\u001b[0m\n",
       "    \u001b[1m]\u001b[0m,\n",
       "    \u001b[32m'combo_matches_b_to_a'\u001b[0m: \u001b[1m[\u001b[0m\u001b[1m]\u001b[0m,\n",
       "    \u001b[32m'unmatched_a'\u001b[0m: \u001b[1m[\u001b[0m\u001b[1;36m28.0\u001b[0m, \u001b[1;36m28.0\u001b[0m, \u001b[1;36m28.0\u001b[0m, \u001b[1;36m28.0\u001b[0m, \u001b[1;36m28.0\u001b[0m, \u001b[1;36m28.0\u001b[0m, \u001b[1;36m28.0\u001b[0m, \u001b[1;36m28.0\u001b[0m, \u001b[1;36m16.0\u001b[0m, \u001b[1;36m12.0\u001b[0m, \u001b[1;36m12.0\u001b[0m, \u001b[1;36m12.0\u001b[0m, \u001b[1;36m12.0\u001b[0m, \u001b[1;36m8.0\u001b[0m, \u001b[1;36m4.0\u001b[0m, \u001b[1;36m1.0\u001b[0m\u001b[1m]\u001b[0m,\n",
       "    \u001b[32m'unmatched_b'\u001b[0m: \u001b[1m[\u001b[0m\u001b[1;36m100.0\u001b[0m, \u001b[1;36m100.0\u001b[0m, \u001b[1;36m100.0\u001b[0m\u001b[1m]\u001b[0m\n",
       "\u001b[1m}\u001b[0m\n"
      ]
     },
     "metadata": {},
     "output_type": "display_data"
    }
   ],
   "source": [
    "import rich\n",
    "from source.reconcile_lists import reconcile_lists\n",
    "from source.get_group_data import get_group_data\n",
    "\n",
    "group1_exit = False\n",
    "group2_exit = False\n",
    "\n",
    "for group1 in part_a_group_col_rst[\"group1_col\"]:\n",
    "    if group1_exit:\n",
    "        break\n",
    "    group1_exit = True\n",
    "    for group2 in part_a_group_col_rst[\"group2_col\"]:\n",
    "        if group2_exit:\n",
    "            break\n",
    "        group2_exit = True\n",
    "        for group3 in part_a_group_col_rst[\"group3_col\"]:\n",
    "            list_a = get_group_data(part_a_conn, \"part_a\", \"统一仓库\", group1, \"统一名称\", group2, \"统一日期\", group3, \"收货数量\")\n",
    "            list_b = get_group_data(part_b_conn, \"part_b\", \"统一仓库\", group1, \"统一名称\", group2, \"统一日期\", group3, \"实发数量\")\n",
    "            rst = reconcile_lists(list_a, list_b)\n",
    "            if all(len(value) == 0 for value in rst.values()):\n",
    "                continue\n",
    "            rich.print(f\"{group1}=>{group2}=>{group3}\", rst)"
   ]
  },
  {
   "cell_type": "markdown",
   "metadata": {},
   "source": [
    "### 单点测试"
   ]
  },
  {
   "cell_type": "code",
   "execution_count": 6,
   "metadata": {},
   "outputs": [
    {
     "data": {
      "text/html": [
       "<pre style=\"white-space:pre;overflow-x:auto;line-height:normal;font-family:Menlo,'DejaVu Sans Mono',consolas,'Courier New',monospace\"><span style=\"font-weight: bold\">{</span>\n",
       "    <span style=\"color: #008000; text-decoration-color: #008000\">'exact_matches'</span>: <span style=\"font-weight: bold\">{</span><span style=\"color: #008080; text-decoration-color: #008080; font-weight: bold\">10.0</span>: <span style=\"color: #008080; text-decoration-color: #008080; font-weight: bold\">1</span><span style=\"font-weight: bold\">}</span>,\n",
       "    <span style=\"color: #008000; text-decoration-color: #008000\">'combo_matches_a_to_b'</span>: <span style=\"font-weight: bold\">[</span>\n",
       "        <span style=\"font-weight: bold\">{</span><span style=\"color: #008000; text-decoration-color: #008000\">'b'</span>: <span style=\"color: #008080; text-decoration-color: #008080; font-weight: bold\">120.0</span>, <span style=\"color: #008000; text-decoration-color: #008000\">'a'</span>: <span style=\"font-weight: bold\">[</span><span style=\"color: #008080; text-decoration-color: #008080; font-weight: bold\">32.0</span>, <span style=\"color: #008080; text-decoration-color: #008080; font-weight: bold\">29.0</span>, <span style=\"color: #008080; text-decoration-color: #008080; font-weight: bold\">28.0</span>, <span style=\"color: #008080; text-decoration-color: #008080; font-weight: bold\">23.0</span>, <span style=\"color: #008080; text-decoration-color: #008080; font-weight: bold\">8.0</span><span style=\"font-weight: bold\">]}</span>,\n",
       "        <span style=\"font-weight: bold\">{</span><span style=\"color: #008000; text-decoration-color: #008000\">'b'</span>: <span style=\"color: #008080; text-decoration-color: #008080; font-weight: bold\">70.0</span>, <span style=\"color: #008000; text-decoration-color: #008000\">'a'</span>: <span style=\"font-weight: bold\">[</span><span style=\"color: #008080; text-decoration-color: #008080; font-weight: bold\">28.0</span>, <span style=\"color: #008080; text-decoration-color: #008080; font-weight: bold\">28.0</span>, <span style=\"color: #008080; text-decoration-color: #008080; font-weight: bold\">14.0</span><span style=\"font-weight: bold\">]}</span>,\n",
       "        <span style=\"font-weight: bold\">{</span><span style=\"color: #008000; text-decoration-color: #008000\">'b'</span>: <span style=\"color: #008080; text-decoration-color: #008080; font-weight: bold\">35.0</span>, <span style=\"color: #008000; text-decoration-color: #008000\">'a'</span>: <span style=\"font-weight: bold\">[</span><span style=\"color: #008080; text-decoration-color: #008080; font-weight: bold\">28.0</span>, <span style=\"color: #008080; text-decoration-color: #008080; font-weight: bold\">7.0</span><span style=\"font-weight: bold\">]}</span>\n",
       "    <span style=\"font-weight: bold\">]</span>,\n",
       "    <span style=\"color: #008000; text-decoration-color: #008000\">'combo_matches_b_to_a'</span>: <span style=\"font-weight: bold\">[]</span>,\n",
       "    <span style=\"color: #008000; text-decoration-color: #008000\">'unmatched_a'</span>: <span style=\"font-weight: bold\">[</span><span style=\"color: #008080; text-decoration-color: #008080; font-weight: bold\">28.0</span>, <span style=\"color: #008080; text-decoration-color: #008080; font-weight: bold\">28.0</span>, <span style=\"color: #008080; text-decoration-color: #008080; font-weight: bold\">28.0</span>, <span style=\"color: #008080; text-decoration-color: #008080; font-weight: bold\">28.0</span>, <span style=\"color: #008080; text-decoration-color: #008080; font-weight: bold\">28.0</span>, <span style=\"color: #008080; text-decoration-color: #008080; font-weight: bold\">28.0</span>, <span style=\"color: #008080; text-decoration-color: #008080; font-weight: bold\">28.0</span>, <span style=\"color: #008080; text-decoration-color: #008080; font-weight: bold\">28.0</span>, <span style=\"color: #008080; text-decoration-color: #008080; font-weight: bold\">28.0</span>, <span style=\"color: #008080; text-decoration-color: #008080; font-weight: bold\">10.0</span><span style=\"font-weight: bold\">]</span>,\n",
       "    <span style=\"color: #008000; text-decoration-color: #008000\">'unmatched_b'</span>: <span style=\"font-weight: bold\">[</span><span style=\"color: #008080; text-decoration-color: #008080; font-weight: bold\">107.0</span>, <span style=\"color: #008080; text-decoration-color: #008080; font-weight: bold\">61.0</span>, <span style=\"color: #008080; text-decoration-color: #008080; font-weight: bold\">20.0</span><span style=\"font-weight: bold\">]</span>\n",
       "<span style=\"font-weight: bold\">}</span>\n",
       "</pre>\n"
      ],
      "text/plain": [
       "\u001b[1m{\u001b[0m\n",
       "    \u001b[32m'exact_matches'\u001b[0m: \u001b[1m{\u001b[0m\u001b[1;36m10.0\u001b[0m: \u001b[1;36m1\u001b[0m\u001b[1m}\u001b[0m,\n",
       "    \u001b[32m'combo_matches_a_to_b'\u001b[0m: \u001b[1m[\u001b[0m\n",
       "        \u001b[1m{\u001b[0m\u001b[32m'b'\u001b[0m: \u001b[1;36m120.0\u001b[0m, \u001b[32m'a'\u001b[0m: \u001b[1m[\u001b[0m\u001b[1;36m32.0\u001b[0m, \u001b[1;36m29.0\u001b[0m, \u001b[1;36m28.0\u001b[0m, \u001b[1;36m23.0\u001b[0m, \u001b[1;36m8.0\u001b[0m\u001b[1m]\u001b[0m\u001b[1m}\u001b[0m,\n",
       "        \u001b[1m{\u001b[0m\u001b[32m'b'\u001b[0m: \u001b[1;36m70.0\u001b[0m, \u001b[32m'a'\u001b[0m: \u001b[1m[\u001b[0m\u001b[1;36m28.0\u001b[0m, \u001b[1;36m28.0\u001b[0m, \u001b[1;36m14.0\u001b[0m\u001b[1m]\u001b[0m\u001b[1m}\u001b[0m,\n",
       "        \u001b[1m{\u001b[0m\u001b[32m'b'\u001b[0m: \u001b[1;36m35.0\u001b[0m, \u001b[32m'a'\u001b[0m: \u001b[1m[\u001b[0m\u001b[1;36m28.0\u001b[0m, \u001b[1;36m7.0\u001b[0m\u001b[1m]\u001b[0m\u001b[1m}\u001b[0m\n",
       "    \u001b[1m]\u001b[0m,\n",
       "    \u001b[32m'combo_matches_b_to_a'\u001b[0m: \u001b[1m[\u001b[0m\u001b[1m]\u001b[0m,\n",
       "    \u001b[32m'unmatched_a'\u001b[0m: \u001b[1m[\u001b[0m\u001b[1;36m28.0\u001b[0m, \u001b[1;36m28.0\u001b[0m, \u001b[1;36m28.0\u001b[0m, \u001b[1;36m28.0\u001b[0m, \u001b[1;36m28.0\u001b[0m, \u001b[1;36m28.0\u001b[0m, \u001b[1;36m28.0\u001b[0m, \u001b[1;36m28.0\u001b[0m, \u001b[1;36m28.0\u001b[0m, \u001b[1;36m10.0\u001b[0m\u001b[1m]\u001b[0m,\n",
       "    \u001b[32m'unmatched_b'\u001b[0m: \u001b[1m[\u001b[0m\u001b[1;36m107.0\u001b[0m, \u001b[1;36m61.0\u001b[0m, \u001b[1;36m20.0\u001b[0m\u001b[1m]\u001b[0m\n",
       "\u001b[1m}\u001b[0m\n"
      ]
     },
     "metadata": {},
     "output_type": "display_data"
    }
   ],
   "source": [
    "import rich\n",
    "from source.reconcile_lists import reconcile_lists\n",
    "from source.get_group_data import get_group_data\n",
    "from collections import Counter\n",
    "\n",
    "list_a = get_group_data(part_a_conn, \"part_a\", \"统一仓库\", \"安徽合肥仓\", \"统一名称\", \"徐福记沙琪玛香酥芝麻味袋装@5(20x32g) N1 CN\", \"统一日期\", \"2024-07-01 00:00:00\", \"收货数量\")\n",
    "list_b = get_group_data(part_b_conn, \"part_b\", \"统一仓库\", \"安徽合肥仓\", \"统一名称\", \"徐福记沙琪玛香酥芝麻味袋装@5(20x32g) N1 CN\", \"统一日期\", \"2024-07-01 00:00:00\", \"实发数量\")\n",
    "_rst = reconcile_lists(list_a, list_b)\n",
    "rich.print(_rst)"
   ]
  },
  {
   "cell_type": "code",
   "execution_count": null,
   "metadata": {},
   "outputs": [],
   "source": [
    "print(Counter(_rst[\"exact_matches\"]))\n",
    "print(Counter(_rst[\"exact_matches\"]))\n",
    "print(Counter(_rst[\"unmatched_a\"]))\n",
    "print(Counter(_rst[\"unmatched_b\"]))"
   ]
  },
  {
   "cell_type": "code",
   "execution_count": null,
   "metadata": {},
   "outputs": [],
   "source": []
  }
 ],
 "metadata": {
  "kernelspec": {
   "display_name": ".venv",
   "language": "python",
   "name": "python3"
  },
  "language_info": {
   "codemirror_mode": {
    "name": "ipython",
    "version": 3
   },
   "file_extension": ".py",
   "mimetype": "text/x-python",
   "name": "python",
   "nbconvert_exporter": "python",
   "pygments_lexer": "ipython3",
   "version": "3.12.9"
  }
 },
 "nbformat": 4,
 "nbformat_minor": 2
}
